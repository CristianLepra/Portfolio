{
  "nbformat": 4,
  "nbformat_minor": 0,
  "metadata": {
    "colab": {
      "provenance": []
    },
    "kernelspec": {
      "name": "python3",
      "display_name": "Python 3"
    },
    "language_info": {
      "name": "python"
    }
  },
  "cells": [
    {
      "cell_type": "markdown",
      "source": [
        "¿Cuáles de estas asignaciones son válidas?"
      ],
      "metadata": {
        "id": "ui-hE5s0nQr8"
      }
    },
    {
      "cell_type": "code",
      "source": [
        "1variable = 23.95"
      ],
      "metadata": {
        "id": "UH3H91LqnXpp",
        "colab": {
          "base_uri": "https://localhost:8080/",
          "height": 143
        },
        "outputId": "86d2959d-aaa3-486a-82b7-dbe4da577721"
      },
      "execution_count": 1,
      "outputs": [
        {
          "output_type": "error",
          "ename": "SyntaxError",
          "evalue": "ignored",
          "traceback": [
            "\u001b[0;36m  File \u001b[0;32m\"<ipython-input-1-fffe088bb08e>\"\u001b[0;36m, line \u001b[0;32m1\u001b[0m\n\u001b[0;31m    1variable = 23.95\u001b[0m\n\u001b[0m    ^\u001b[0m\n\u001b[0;31mSyntaxError\u001b[0m\u001b[0;31m:\u001b[0m invalid decimal literal\n"
          ]
        }
      ]
    },
    {
      "cell_type": "code",
      "source": [
        "var = \"variable\""
      ],
      "metadata": {
        "id": "aceZBskxncgQ"
      },
      "execution_count": null,
      "outputs": []
    },
    {
      "cell_type": "code",
      "source": [
        "A = 440"
      ],
      "metadata": {
        "id": "oDytt9E9njKy"
      },
      "execution_count": null,
      "outputs": []
    },
    {
      "cell_type": "code",
      "source": [
        "while = True"
      ],
      "metadata": {
        "id": "TBgVDkSpnxEq"
      },
      "execution_count": null,
      "outputs": []
    },
    {
      "cell_type": "code",
      "source": [
        "age = 54"
      ],
      "metadata": {
        "id": "bgc6DDLZjRhI"
      },
      "execution_count": 2,
      "outputs": []
    },
    {
      "cell_type": "code",
      "source": [
        "print(Age)"
      ],
      "metadata": {
        "colab": {
          "base_uri": "https://localhost:8080/",
          "height": 179
        },
        "id": "31GBDZOIjXIc",
        "outputId": "47a382bd-c11d-436c-c3d1-8a873b3364b6"
      },
      "execution_count": 3,
      "outputs": [
        {
          "output_type": "error",
          "ename": "NameError",
          "evalue": "ignored",
          "traceback": [
            "\u001b[0;31m---------------------------------------------------------------------------\u001b[0m",
            "\u001b[0;31mNameError\u001b[0m                                 Traceback (most recent call last)",
            "\u001b[0;32m<ipython-input-3-9d48a2efbe69>\u001b[0m in \u001b[0;36m<cell line: 1>\u001b[0;34m()\u001b[0m\n\u001b[0;32m----> 1\u001b[0;31m \u001b[0mprint\u001b[0m\u001b[0;34m(\u001b[0m\u001b[0mAge\u001b[0m\u001b[0;34m)\u001b[0m\u001b[0;34m\u001b[0m\u001b[0;34m\u001b[0m\u001b[0m\n\u001b[0m",
            "\u001b[0;31mNameError\u001b[0m: name 'Age' is not defined"
          ]
        }
      ]
    },
    {
      "cell_type": "markdown",
      "metadata": {
        "id": "c3906743-90ea-4c06-b62c-71e30df85ba5"
      },
      "source": [
        "¿Se puede hacer la siguiente asignación `mi_variable_1 = mi_variable_2`?"
      ]
    },
    {
      "cell_type": "code",
      "source": [
        "mi_variable_2 = 1"
      ],
      "metadata": {
        "id": "fqkR7IMJqVBB"
      },
      "execution_count": null,
      "outputs": []
    },
    {
      "cell_type": "code",
      "metadata": {
        "id": "229bf567-77be-4bba-a3c8-aee8d44609c6"
      },
      "source": [
        "mi_variable_1 = mi_variable_2"
      ],
      "execution_count": null,
      "outputs": []
    },
    {
      "cell_type": "code",
      "source": [
        "mi_variable_1"
      ],
      "metadata": {
        "id": "ZyM6w94VqZ10"
      },
      "execution_count": null,
      "outputs": []
    },
    {
      "cell_type": "code",
      "source": [
        "type(10)"
      ],
      "metadata": {
        "id": "dg0IU4CZrmmB"
      },
      "execution_count": null,
      "outputs": []
    },
    {
      "cell_type": "code",
      "source": [
        "type(10.0)"
      ],
      "metadata": {
        "id": "lDYaMB2_rnix"
      },
      "execution_count": null,
      "outputs": []
    },
    {
      "cell_type": "code",
      "metadata": {
        "id": "43a6cc57-49fd-49ba-9252-6b9e2ed07a08"
      },
      "source": [
        "2 + 2.0 # suma"
      ],
      "execution_count": null,
      "outputs": []
    },
    {
      "cell_type": "code",
      "metadata": {
        "id": "579659f8-4e4d-443a-8b64-ae1fa3c1efc9"
      },
      "source": [
        "50 - 5 # resta"
      ],
      "execution_count": null,
      "outputs": []
    },
    {
      "cell_type": "code",
      "metadata": {
        "id": "4d0144b0-a58a-4fbd-938f-3f5e397b5b88"
      },
      "source": [
        "5.0 * 30 # multiplicacion"
      ],
      "execution_count": null,
      "outputs": []
    },
    {
      "cell_type": "code",
      "metadata": {
        "id": "9e8d6bed-dd46-44aa-8af0-7cadbfc14e6d"
      },
      "source": [
        "8 / 4 # division normal, notar que el resultado no es un int, sino un float, podemos ver esto usando la funcion de python type()"
      ],
      "execution_count": null,
      "outputs": []
    },
    {
      "cell_type": "code",
      "source": [
        "(50 - 5 * 6) / 4"
      ],
      "metadata": {
        "id": "ma0acSQit6ng"
      },
      "execution_count": null,
      "outputs": []
    },
    {
      "cell_type": "markdown",
      "metadata": {
        "id": "e31099be-44e6-47ff-bed7-687d07bd57fd"
      },
      "source": [
        "\n",
        "Supongamos que tenemos el siguiente codigo\n",
        "```\n",
        "contador = 1\n",
        "contador + 5\n",
        "```\n",
        "¿Cuanto vale la varibale contador al correr estas dos lineas de codigo?\n"
      ]
    },
    {
      "cell_type": "code",
      "source": [
        "contador = 1\n",
        "contador + 5"
      ],
      "metadata": {
        "id": "uGhFAkiJrMlg"
      },
      "execution_count": null,
      "outputs": []
    },
    {
      "cell_type": "code",
      "source": [
        "contador"
      ],
      "metadata": {
        "id": "av3g33w6rqh2"
      },
      "execution_count": null,
      "outputs": []
    },
    {
      "cell_type": "markdown",
      "source": [
        "¿Como arreglarías el codigo para que al final el valor de contador sea 5?"
      ],
      "metadata": {
        "id": "hEy4Mjxe9SPx"
      }
    },
    {
      "cell_type": "code",
      "source": [
        "# escriba su codigo aqui\n",
        "contador = 1\n",
        "contador = 5"
      ],
      "metadata": {
        "id": "gcb6Nu_xjhDy"
      },
      "execution_count": null,
      "outputs": []
    },
    {
      "cell_type": "code",
      "source": [
        "contador"
      ],
      "metadata": {
        "id": "Pn_34XLZrZlb"
      },
      "execution_count": null,
      "outputs": []
    },
    {
      "cell_type": "markdown",
      "source": [
        "¿Como arreglarías el codigo para que al final el valor de contador sea 6?"
      ],
      "metadata": {
        "id": "T1Czi77q9iRp"
      }
    },
    {
      "cell_type": "code",
      "source": [
        "# escriba su codigo aqui\n",
        "contador = 1\n",
        "contador = contador + 5\n",
        "contador"
      ],
      "metadata": {
        "id": "0SHm-LVM9iRx"
      },
      "execution_count": null,
      "outputs": []
    },
    {
      "cell_type": "code",
      "source": [
        "contador = 1\n",
        "contador += 5\n",
        "contador"
      ],
      "metadata": {
        "id": "xjLhnY9-r4W9"
      },
      "execution_count": null,
      "outputs": []
    },
    {
      "cell_type": "code",
      "source": [
        "contador"
      ],
      "metadata": {
        "id": "UDPM8rdWspBv"
      },
      "execution_count": null,
      "outputs": []
    },
    {
      "cell_type": "markdown",
      "source": [
        "Si se omite el rango de inicio, Python interpreta que se debe comenzar desde la posición 0."
      ],
      "metadata": {
        "id": "UpSDzvg5HwA8"
      }
    },
    {
      "cell_type": "code",
      "source": [
        "\"Python \"[-1]"
      ],
      "metadata": {
        "id": "6Z-IzxZRtRWz"
      },
      "execution_count": null,
      "outputs": []
    },
    {
      "cell_type": "code",
      "source": [
        "len(\"Python \")"
      ],
      "metadata": {
        "id": "fq_Vsqy7t3Gt"
      },
      "execution_count": null,
      "outputs": []
    },
    {
      "cell_type": "code",
      "execution_count": null,
      "metadata": {
        "id": "873b9e5e-e1ae-47f8-a383-3b42b5fe1000"
      },
      "outputs": [],
      "source": [
        "\"Python \"[8:]"
      ]
    },
    {
      "cell_type": "code",
      "source": [
        "\"\""
      ],
      "metadata": {
        "id": "u8oiO_EZuO5z"
      },
      "execution_count": null,
      "outputs": []
    },
    {
      "cell_type": "code",
      "source": [
        "''"
      ],
      "metadata": {
        "id": "xNji-ZIRuQO9"
      },
      "execution_count": null,
      "outputs": []
    },
    {
      "cell_type": "code",
      "execution_count": null,
      "metadata": {
        "id": "4041351f-4af6-4c8e-84bd-c576533da021"
      },
      "outputs": [],
      "source": [
        "\"12345-Python\"[6:] # Que sucede aquí?"
      ]
    },
    {
      "cell_type": "code",
      "source": [
        "\"PyThOn\".lower()"
      ],
      "metadata": {
        "id": "1zamlL5_vFT6"
      },
      "execution_count": null,
      "outputs": []
    },
    {
      "cell_type": "code",
      "source": [
        "\"Python\".lower() == \"python\".lower()  # igual"
      ],
      "metadata": {
        "id": "EiCAs-MNkHhN"
      },
      "execution_count": null,
      "outputs": []
    },
    {
      "cell_type": "code",
      "source": [
        "\"Python\" == \"Python\"  # igual"
      ],
      "metadata": {
        "id": "g8aOF-FIkKcb"
      },
      "execution_count": null,
      "outputs": []
    },
    {
      "cell_type": "code",
      "source": [
        "1 == 1"
      ],
      "metadata": {
        "id": "wUcy-FftukZe"
      },
      "execution_count": null,
      "outputs": []
    },
    {
      "cell_type": "code",
      "execution_count": null,
      "metadata": {
        "id": "2ff712bf-dd74-4c54-92d4-98d535a4577a"
      },
      "outputs": [],
      "source": [
        "\"Python\" in \"I like Python\""
      ]
    },
    {
      "cell_type": "code",
      "execution_count": null,
      "metadata": {
        "id": "8ce1ef5e-c58f-48b1-b145-dcbddca92369"
      },
      "outputs": [],
      "source": [
        "\"python\" in \"I like Python\""
      ]
    },
    {
      "cell_type": "code",
      "source": [
        "variable_a = 1\n",
        "variable_b = 2"
      ],
      "metadata": {
        "id": "c_WEVav0wAZf"
      },
      "execution_count": null,
      "outputs": []
    },
    {
      "cell_type": "code",
      "source": [
        "print(f\"El valor de la varable a es: {variable_a} y el valor de b es: {variable_b}\")"
      ],
      "metadata": {
        "id": "3_-aMtSFv62F"
      },
      "execution_count": null,
      "outputs": []
    },
    {
      "cell_type": "markdown",
      "source": [
        "¿Qué hace el siguiente código?"
      ],
      "metadata": {
        "id": "VHcg8xHOInay"
      }
    },
    {
      "cell_type": "code",
      "execution_count": null,
      "metadata": {
        "id": "c73ce169-4416-4d6f-a6bb-cd4afdcd11af",
        "tags": []
      },
      "outputs": [],
      "source": [
        "a_number = float(input(\"Enter a number: \"))\n",
        "another_number = float(input(\"Enter a number: \"))\n",
        "\n",
        "print(f\"The sum of the numbers is: {a_number + another_number}\")"
      ]
    },
    {
      "cell_type": "code",
      "source": [
        "int(1.8)"
      ],
      "metadata": {
        "id": "FP9FanEnx_ke"
      },
      "execution_count": null,
      "outputs": []
    },
    {
      "cell_type": "markdown",
      "metadata": {
        "id": "95645b54-54f9-4c8d-9869-4abafea2a4af"
      },
      "source": [
        "Redefinir el código anterior para obtener la suma de los números ingresados"
      ]
    },
    {
      "cell_type": "code",
      "execution_count": null,
      "metadata": {
        "id": "W2mNt3IaeX2g"
      },
      "outputs": [],
      "source": [
        "type(True) # true  # TRUE"
      ]
    },
    {
      "cell_type": "code",
      "execution_count": null,
      "metadata": {
        "id": "x6d7Sfs5H5gP"
      },
      "outputs": [],
      "source": [
        "type(False)"
      ]
    },
    {
      "cell_type": "code",
      "execution_count": null,
      "metadata": {
        "id": "TWMCAYcKz05f"
      },
      "outputs": [],
      "source": [
        "int(True) # fun fact"
      ]
    },
    {
      "cell_type": "code",
      "source": [
        "bool(1)"
      ],
      "metadata": {
        "id": "PBZMS3-rzXPN"
      },
      "execution_count": null,
      "outputs": []
    },
    {
      "cell_type": "code",
      "execution_count": null,
      "metadata": {
        "id": "k3JhmZDNz5Li"
      },
      "outputs": [],
      "source": [
        "int(False) # fun fact"
      ]
    },
    {
      "cell_type": "code",
      "execution_count": null,
      "metadata": {
        "id": "EYDDNS2no1-_"
      },
      "outputs": [],
      "source": [
        "nums_list = ['zero', 1, 'two', 3, 'four', 5]"
      ]
    },
    {
      "cell_type": "code",
      "execution_count": null,
      "metadata": {
        "id": "kNRaVMc1pABg"
      },
      "outputs": [],
      "source": [
        "nums_list[0]"
      ]
    },
    {
      "cell_type": "code",
      "execution_count": null,
      "metadata": {
        "id": "XBUvwIe8pBIA"
      },
      "outputs": [],
      "source": [
        "nums_list[-1]"
      ]
    },
    {
      "cell_type": "code",
      "source": [
        "nums_list[inicio:fin:paso]"
      ],
      "metadata": {
        "id": "3Wdr8B5az2oL"
      },
      "execution_count": null,
      "outputs": []
    },
    {
      "cell_type": "code",
      "execution_count": null,
      "metadata": {
        "id": "dUnQmZePAZiJ"
      },
      "outputs": [],
      "source": [
        "nums_list[::-1]"
      ]
    },
    {
      "cell_type": "code",
      "execution_count": null,
      "metadata": {
        "id": "oSyb28OuAZiK"
      },
      "outputs": [],
      "source": [
        "nums_list[-2]"
      ]
    },
    {
      "cell_type": "code",
      "execution_count": null,
      "metadata": {
        "id": "_fzNbT7kAZiK"
      },
      "outputs": [],
      "source": [
        "nums_list[-2][0]"
      ]
    },
    {
      "cell_type": "code",
      "execution_count": null,
      "metadata": {
        "id": "Y3cqBJKPAZiK"
      },
      "outputs": [],
      "source": [
        "nums_list[-2][-1]"
      ]
    },
    {
      "cell_type": "code",
      "execution_count": null,
      "metadata": {
        "id": "rIlMT5J3FOOT"
      },
      "outputs": [],
      "source": [
        "n = 0\n",
        "\n",
        "while n < 4:\n",
        "    n += 1\n",
        "    print(n)\n",
        "print('Termine')"
      ]
    },
    {
      "cell_type": "code",
      "execution_count": null,
      "metadata": {
        "id": "bpYBy_l7FOOW"
      },
      "outputs": [],
      "source": [
        "n = 0\n",
        "\n",
        "while n < 4:\n",
        "    print(n)\n",
        "    n += 1"
      ]
    }
  ]
}