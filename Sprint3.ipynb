{
 "cells": [
  {
   "cell_type": "markdown",
   "metadata": {
    "colab_type": "text",
    "id": "view-in-github"
   },
   "source": [
    "<a href=\"https://colab.research.google.com/github/al34n1x/datascience/blob/master/modulo_1/Ejercicios_Intro.ipynb\" target=\"_parent\"><img src=\"https://colab.research.google.com/assets/colab-badge.svg\" alt=\"Open In Colab\"/></a>"
   ]
  },
  {
   "cell_type": "markdown",
   "metadata": {
    "colab_type": "text",
    "id": "fGUsb_Gzunnd"
   },
   "source": [
    "# Ejercitación\n",
    "\n",
    "Nota: Para aquellos usuarios que se encuentren en nivel intermedio / avanzado, realizar los mismos ejercicios implementando funciones o funciones lambda. \n"
   ]
  },
  {
   "cell_type": "markdown",
   "metadata": {
    "colab_type": "text",
    "id": "mMHKVHpguq9g"
   },
   "source": [
    "1. Escribir un programa que almacene la cadena `Happy Coding!` en una variable y luego muestre por pantalla."
   ]
  },
  {
   "cell_type": "code",
   "execution_count": 2,
   "metadata": {
    "colab": {},
    "colab_type": "code",
    "id": "Qm4rt3gvumSf"
   },
   "outputs": [
    {
     "data": {
      "text/plain": [
       "'Happy Coding!'"
      ]
     },
     "execution_count": 2,
     "metadata": {},
     "output_type": "execute_result"
    }
   ],
   "source": [
    "palabra = 'Happy Coding!'\n",
    "palabra"
   ]
  },
  {
   "cell_type": "markdown",
   "metadata": {
    "colab_type": "text",
    "id": "G6GA-fssuudU"
   },
   "source": [
    "2. Escribir un programa que pregunte tu nombre y después que muestre por pantalla la cadena ¡Happy Coding <nombre>!, donde <nombre> es el nombre que el usuario haya introducido."
   ]
  },
  {
   "cell_type": "code",
   "execution_count": 3,
   "metadata": {
    "colab": {},
    "colab_type": "code",
    "id": "jUnbgGPpu8BC"
   },
   "outputs": [
    {
     "name": "stdout",
     "output_type": "stream",
     "text": [
      "¡Happy Coding Cristian!\n"
     ]
    }
   ],
   "source": [
    "palabra2= '¡Happy Coding'\n",
    "def saludar(nombre):\n",
    "    print(f'{palabra2} {nombre}!')\n",
    "\n",
    "nombre =  input('Ingresar tu nombre: ')\n",
    "saludar(nombre)"
   ]
  },
  {
   "cell_type": "markdown",
   "metadata": {
    "colab_type": "text",
    "id": "UbeG5Ogiu8sQ"
   },
   "source": [
    "3. Escribir un programa que pregunte al usuario una cantidad de dinero a invertir (Recuerda que podemos usar bananas XD ), el interés anual y el número de años, y muestre por pantalla el capital obtenido de la inversión."
   ]
  },
  {
   "cell_type": "code",
   "execution_count": null,
   "metadata": {
    "colab": {},
    "colab_type": "code",
    "id": "RLDPBHm2vQ23"
   },
   "outputs": [],
   "source": [
    "def calcular_capital(cantidad, tasa_interes, años):\n",
    "    capital_obtenido = cantidad * (1 + tasa_interes)**años\n",
    "    return capital_obtenido\n",
    "\n",
    "cantidad_invertida = float(input(\"Ingresa la cantidad de dinero a invertir: \"))\n",
    "tasa_interes_anual = float(input(\"Ingresa la tasa de interés anual (%): \")) / 100\n",
    "num_años = int(input(\"Ingresa el número de años: \"))\n",
    "\n",
    "capital_final = calcular_capital(cantidad_invertida, tasa_interes_anual, num_años)\n",
    "print(f\"Después de {num_años} años,tu capital obtenido será de ${capital_final:.2f}\")"
   ]
  },
  {
   "cell_type": "markdown",
   "metadata": {
    "colab_type": "text",
    "id": "AowcRnXTvZjX"
   },
   "source": [
    "4. Escribir un programa que pida al usuario un número entero positivo y muestre por pantalla todos los números impares desde 1 hasta ese número separados por comas."
   ]
  },
  {
   "cell_type": "code",
   "execution_count": null,
   "metadata": {
    "colab": {},
    "colab_type": "code",
    "id": "t60O4ePWvbnC"
   },
   "outputs": [],
   "source": [
    "numero = int(input(\"Ingresa un número entero positivo: \"))\n",
    "\n",
    "numeros_impares = [str(i) for i in range(1, numero + 1) if i % 2 != 0]\n",
    "resultado = \", \".join(numeros_impares)\n",
    "\n",
    "print(f\"Números impares desde 1 hasta {numero}: {resultado}\")"
   ]
  },
  {
   "cell_type": "markdown",
   "metadata": {
    "colab_type": "text",
    "id": "6lNEOf3Rvb2N"
   },
   "source": [
    "5. Escribir un programa que almacene en una lista los números del 1 al 10 y los muestre por pantalla en orden inverso separados por comas (Hint: Pueden utilizar la función `end=` en el print)."
   ]
  },
  {
   "cell_type": "code",
   "execution_count": null,
   "metadata": {
    "colab": {},
    "colab_type": "code",
    "id": "-429VzhEv1zi"
   },
   "outputs": [],
   "source": [
    "numeros = list(range(1, 11))\n",
    "numeros.reverse()\n",
    "\n",
    "for numero in numeros:\n",
    "    if numero != numeros[-1]:\n",
    "        print(numero, end=', ')\n",
    "    else:\n",
    "        print(numero)"
   ]
  }
 ],
 "metadata": {
  "colab": {
   "include_colab_link": true,
   "name": "Ejercicios_Intro.ipynb",
   "provenance": []
  },
  "kernelspec": {
   "display_name": "Python 3 (ipykernel)",
   "language": "python",
   "name": "python3"
  },
  "language_info": {
   "codemirror_mode": {
    "name": "ipython",
    "version": 3
   },
   "file_extension": ".py",
   "mimetype": "text/x-python",
   "name": "python",
   "nbconvert_exporter": "python",
   "pygments_lexer": "ipython3",
   "version": "3.8.15"
  }
 },
 "nbformat": 4,
 "nbformat_minor": 4
}
