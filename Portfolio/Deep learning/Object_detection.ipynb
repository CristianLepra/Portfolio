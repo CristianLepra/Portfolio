{
 "cells": [
  {
   "cell_type": "markdown",
   "id": "503d4f39-853e-4e34-a4a7-0bccfa52c0b1",
   "metadata": {
    "tags": []
   },
   "source": [
    "# Ejercicio\n",
    "\n",
    "Para completar el siguiente ejercicio deberás de ejecutarlo en linea de comando para poder tener acceso a la cámara web de tu equipo.\n",
    "A continuación listaremos los pasos para poder llevar a cabo el ejercicio. Ten en cuenta que algunas configuraciones pueden variar entre sistemas operativos."
   ]
  },
  {
   "cell_type": "markdown",
   "id": "fe54395d-0474-480a-b92e-588055c64041",
   "metadata": {},
   "source": [
    "## Creación de ambiente virtual\n",
    "\n",
    "Como buena práctica, y para que lo que hagamos no interfiera con los paquetes que ya tienes configurados para completar otras actividades, crearemos otro ambiente virtual.\n",
    "\n",
    "Abre una terminal y ejecuta los siguientes comandos."
   ]
  },
  {
   "cell_type": "markdown",
   "id": "876fc147-2104-4c0f-bc0c-101c036f51e9",
   "metadata": {},
   "source": [
    "### Conda\n",
    "\n",
    "`conda create -n Yolo python=3.9`\n",
    "\n",
    "`conda activate Yolo`\n",
    "\n",
    "### Python\n",
    "\n",
    "`python -m venv /path/to/new/virtual/environment`\n",
    "\n",
    "`python -m venv c:\\path\\to\\myenv`"
   ]
  },
  {
   "cell_type": "markdown",
   "id": "6f321887-77ec-4e1e-b451-8e8a60d960ce",
   "metadata": {},
   "source": [
    "## Instalar paquetes\n",
    "\n",
    "`pip install Pillow`\n",
    "\n",
    "`pip install numpy`\n",
    "\n",
    "`pip install imageAI`\n",
    "\n",
    "`pip install ultralytics`"
   ]
  },
  {
   "cell_type": "markdown",
   "id": "6d362580-7897-42b8-b61d-acdefd6b0223",
   "metadata": {},
   "source": [
    "## Script\n",
    "\n",
    "Crea un archivo `yolo.py` en un directorio de tu preferencia, por ejemplo `script/` o descargalo directamente del repositorio del curso del directorio `scripts/`.\n",
    "\n",
    "Asegurate que el script posea las siguientes lineas"
   ]
  },
  {
   "cell_type": "markdown",
   "id": "4f5cae45-9229-4bfa-a08a-691c5e7b7820",
   "metadata": {
    "tags": []
   },
   "source": [
    "```\n",
    "from ultralytics import YOLO\n",
    "import cv2\n",
    "import math \n",
    "# start webcam\n",
    "cap = cv2.VideoCapture(0)\n",
    "cap.set(3, 640)\n",
    "cap.set(4, 480)\n",
    "\n",
    "# model\n",
    "model = YOLO(\"yolo-Weights/yolov8n.pt\")\n",
    "\n",
    "# object classes\n",
    "classNames = [\"person\", \"bicycle\", \"car\", \"motorbike\", \"aeroplane\", \"bus\", \"train\", \"truck\", \"boat\",\n",
    "              \"traffic light\", \"fire hydrant\", \"stop sign\", \"parking meter\", \"bench\", \"bird\", \"cat\",\n",
    "              \"dog\", \"horse\", \"sheep\", \"cow\", \"elephant\", \"bear\", \"zebra\", \"giraffe\", \"backpack\", \"umbrella\",\n",
    "              \"handbag\", \"tie\", \"suitcase\", \"frisbee\", \"skis\", \"snowboard\", \"sports ball\", \"kite\", \"baseball bat\",\n",
    "              \"baseball glove\", \"skateboard\", \"surfboard\", \"tennis racket\", \"bottle\", \"wine glass\", \"cup\",\n",
    "              \"fork\", \"knife\", \"spoon\", \"bowl\", \"banana\", \"apple\", \"sandwich\", \"orange\", \"broccoli\",\n",
    "              \"carrot\", \"hot dog\", \"pizza\", \"donut\", \"cake\", \"chair\", \"sofa\", \"pottedplant\", \"bed\",\n",
    "              \"diningtable\", \"toilet\", \"tvmonitor\", \"laptop\", \"mouse\", \"remote\", \"keyboard\", \"cell phone\",\n",
    "              \"microwave\", \"oven\", \"toaster\", \"sink\", \"refrigerator\", \"book\", \"clock\", \"vase\", \"scissors\",\n",
    "              \"teddy bear\", \"hair drier\", \"toothbrush\"\n",
    "              ]\n",
    "\n",
    "\n",
    "while True:\n",
    "    success, img = cap.read()\n",
    "    results = model(img, stream=True)\n",
    "\n",
    "    # coordinates\n",
    "    for r in results:\n",
    "        boxes = r.boxes\n",
    "\n",
    "        for box in boxes:\n",
    "            # bounding box\n",
    "            x1, y1, x2, y2 = box.xyxy[0]\n",
    "            x1, y1, x2, y2 = int(x1), int(y1), int(x2), int(y2) # convert to int values\n",
    "\n",
    "            # put box in cam\n",
    "            cv2.rectangle(img, (x1, y1), (x2, y2), (255, 0, 255), 3)\n",
    "\n",
    "            # confidence\n",
    "            confidence = math.ceil((box.conf[0]*100))/100\n",
    "            print(\"Confidence --->\",confidence)\n",
    "\n",
    "            # class name\n",
    "            cls = int(box.cls[0])\n",
    "            print(\"Class name -->\", classNames[cls])\n",
    "\n",
    "            # object details\n",
    "            org = [x1, y1]\n",
    "            font = cv2.FONT_HERSHEY_SIMPLEX\n",
    "            fontScale = 1\n",
    "            color = (255, 0, 0)\n",
    "            thickness = 2\n",
    "\n",
    "            cv2.putText(img, classNames[cls], org, font, fontScale, color, thickness)\n",
    "\n",
    "    cv2.imshow('Webcam', img)\n",
    "    if cv2.waitKey(1) == ord('q'):\n",
    "        break\n",
    "\n",
    "cap.release()\n",
    "cv2.destroyAllWindows()\n",
    "```"
   ]
  },
  {
   "cell_type": "markdown",
   "id": "f4137fa1-f74b-4105-9713-1bb4acd769f9",
   "metadata": {},
   "source": [
    "## Persmisos de cámara web\n",
    "\n",
    "Dependiendo el sistema operativo, al correr por primera vez el script pueda que te solicite acceso a tu cámara web, acepta la solicitud o actívala en la sección de privacidad de tu OS. \n",
    "\n",
    "### Ejemplo MacOS\n",
    "\n",
    "![](../img/acceso_web_cam.png)"
   ]
  },
  {
   "cell_type": "markdown",
   "id": "dc7eca49-bd31-4672-9eaf-c8718c06e917",
   "metadata": {},
   "source": [
    "## Ejecutando el script\n",
    "\n",
    "Una vez que tengas el entorno configurado solo queda ejecutar el script. Para ello invoca el siguiente comando desde el directorio donde tienes almacenado el script.\n",
    "\n",
    "`python yolo.py`\n",
    "\n",
    "\n",
    "Con el script en ejecucción deberías comenzar a ver como `Yolo` reconoce objetos en tiempo real.\n",
    "\n",
    "![](../img/delorean.png)"
   ]
  }
 ],
 "metadata": {
  "kernelspec": {
   "display_name": "Python 3 (ipykernel)",
   "language": "python",
   "name": "python3"
  },
  "language_info": {
   "codemirror_mode": {
    "name": "ipython",
    "version": 3
   },
   "file_extension": ".py",
   "mimetype": "text/x-python",
   "name": "python",
   "nbconvert_exporter": "python",
   "pygments_lexer": "ipython3",
   "version": "3.9.18"
  }
 },
 "nbformat": 4,
 "nbformat_minor": 5
}
