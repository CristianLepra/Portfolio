{
 "cells": [
  {
   "cell_type": "markdown",
   "metadata": {},
   "source": [
    "# Ejercicio\n",
    "\n",
    "Completar los parámetros requeridos e implementar un difusor estable. Configurar un prompt y obtener la imagen generada por el modelo.\n",
    "\n",
    ">NOTE: Ejecutar el notebook en Colab. De realizarlo localmente, verificar que se tenga instalado todas las librerías de NVIDIA para trabajar con `CUDA` o en el caso de MacOS con chipset M1/M2 con `MPS`"
   ]
  },
  {
   "cell_type": "code",
   "execution_count": null,
   "metadata": {
    "id": "rjRhdq9HW2m3"
   },
   "outputs": [],
   "source": [
    "!pip install -q diffusers==0.11.1\n",
    "!pip install -q transformers scipy ftfy accelerate"
   ]
  },
  {
   "cell_type": "code",
   "execution_count": null,
   "metadata": {
    "id": "H7V_eym-WXMM"
   },
   "outputs": [],
   "source": [
    "import PIL\n",
    "import requests\n",
    "import torch\n",
    "from io import BytesIO\n",
    "\n",
    "# TODO Importar los difusores estables"
   ]
  },
  {
   "cell_type": "code",
   "execution_count": null,
   "metadata": {
    "id": "uoimSngXWbcZ"
   },
   "outputs": [],
   "source": [
    "DEVICE=''"
   ]
  },
  {
   "cell_type": "code",
   "execution_count": null,
   "metadata": {
    "id": "zV2eX_qGWgch"
   },
   "outputs": [],
   "source": [
    "model_id = \"\" # TODO Instanciar modelo - consultar Hugging Face\n",
    "\n",
    "pipe = StableDiffusionPipeline.from_pretrained(\"\").to(DEVICE) # TODO\n",
    "\n",
    "prompt = \"\" # TODO\n",
    "image = pipe(prompt).images[0]  \n",
    "image"
   ]
  }
 ],
 "metadata": {
  "accelerator": "GPU",
  "colab": {
   "authorship_tag": "ABX9TyMItg1YgEG5h9qWbXjyihZd",
   "gpuType": "T4",
   "include_colab_link": true,
   "provenance": []
  },
  "gpuClass": "standard",
  "kernelspec": {
   "display_name": "Python 3 (ipykernel)",
   "language": "python",
   "name": "python3"
  },
  "language_info": {
   "codemirror_mode": {
    "name": "ipython",
    "version": 3
   },
   "file_extension": ".py",
   "mimetype": "text/x-python",
   "name": "python",
   "nbconvert_exporter": "python",
   "pygments_lexer": "ipython3",
   "version": "3.10.12"
  }
 },
 "nbformat": 4,
 "nbformat_minor": 4
}
