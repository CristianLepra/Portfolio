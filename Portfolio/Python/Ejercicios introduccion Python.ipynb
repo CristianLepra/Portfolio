{
 "cells": [
  {
   "cell_type": "markdown",
   "metadata": {},
   "source": [
    "# 1 CADENA  "
   ]
  },
  {
   "cell_type": "markdown",
   "metadata": {},
   "source": [
    "# Generar la cadena \"pickapickachuchupicka\", con un comentario al lado"
   ]
  },
  {
   "cell_type": "code",
   "execution_count": 1,
   "metadata": {},
   "outputs": [
    {
     "name": "stdout",
     "output_type": "stream",
     "text": [
      "pickapickachuchupicka\n"
     ]
    }
   ],
   "source": [
    "a= 'picka' #esto es un comentario\n",
    "b= 'chu'\n",
    "print ((a*2)+(b*2)+a)"
   ]
  },
  {
   "cell_type": "markdown",
   "metadata": {},
   "source": [
    "# Creen una variable \"frase\" con la cadena de caracteres \"Hola Mundo\", e impriman en pantalla solamente \"ola Mund\""
   ]
  },
  {
   "cell_type": "code",
   "execution_count": 3,
   "metadata": {},
   "outputs": [
    {
     "data": {
      "text/plain": [
       "'ola mundo'"
      ]
     },
     "execution_count": 3,
     "metadata": {},
     "output_type": "execute_result"
    }
   ],
   "source": [
    "Frase = 'Hola mundo'\n",
    "Frase[1:]"
   ]
  },
  {
   "cell_type": "markdown",
   "metadata": {},
   "source": [
    "# Creen una nueva variable \"frase2\" donde se reemplace la 'H' de \"Hola Mundo\" por 'J'. Obs: usando la variable \"frase\" creada anteriormente."
   ]
  },
  {
   "cell_type": "code",
   "execution_count": 4,
   "metadata": {},
   "outputs": [
    {
     "data": {
      "text/plain": [
       "'Jola mundo'"
      ]
     },
     "execution_count": 4,
     "metadata": {},
     "output_type": "execute_result"
    }
   ],
   "source": [
    "Frase2 = 'J' + Frase[1:]\n",
    "Frase2"
   ]
  },
  {
   "cell_type": "markdown",
   "metadata": {},
   "source": [
    "# Creen una variable con alguna cadena de caracteres a eleccion\n",
    "# Impriman en pantalla la siguiente frase \"La cadena es de largo X\", donde X sea el numero de caracteres"
   ]
  },
  {
   "cell_type": "code",
   "execution_count": 5,
   "metadata": {},
   "outputs": [
    {
     "name": "stdout",
     "output_type": "stream",
     "text": [
      "La cadena es de largo 10\n"
     ]
    }
   ],
   "source": [
    "cadena = 'Hola Mundo'\n",
    "largo = len(cadena)\n",
    "print(f'La cadena es de largo {largo}')\n",
    "\n"
   ]
  },
  {
   "cell_type": "markdown",
   "metadata": {},
   "source": [
    "# 2 LISTA"
   ]
  },
  {
   "cell_type": "markdown",
   "metadata": {},
   "source": [
    "# Creen dos listas con distintas verduras, y a partir de ellas generen una nueva lista que tenga los elementos de ambas"
   ]
  },
  {
   "cell_type": "code",
   "execution_count": null,
   "metadata": {},
   "outputs": [],
   "source": [
    "verdura1=['Zapallo', 'Lechuga', 'Cebolla', 'Papa']\n",
    "verdura2=['Berro', 'Puerro', 'Rucula','Tomate']\n",
    "verdura1+verdura2"
   ]
  },
  {
   "cell_type": "markdown",
   "metadata": {},
   "source": [
    "# Cambien el primer elemento de esa lista por la cadena \"intruso\""
   ]
  },
  {
   "cell_type": "code",
   "execution_count": 7,
   "metadata": {},
   "outputs": [
    {
     "data": {
      "text/plain": [
       "['Intruso', 'Lechuga', 'Cebolla', 'Papa']"
      ]
     },
     "execution_count": 7,
     "metadata": {},
     "output_type": "execute_result"
    }
   ],
   "source": [
    "verdura1[0] = 'Intruso'\n",
    "verdura1"
   ]
  },
  {
   "cell_type": "markdown",
   "metadata": {},
   "source": [
    "# Agreguen un elemento a la lista que se llame \"ultimo por ahora\""
   ]
  },
  {
   "cell_type": "code",
   "execution_count": 8,
   "metadata": {},
   "outputs": [
    {
     "data": {
      "text/plain": [
       "['Intruso', 'Lechuga', 'Cebolla', 'Papa', 'Ultima por ahora']"
      ]
     },
     "execution_count": 8,
     "metadata": {},
     "output_type": "execute_result"
    }
   ],
   "source": [
    "verdura1.append('Ultima por ahora')\n",
    "verdura1"
   ]
  },
  {
   "cell_type": "markdown",
   "metadata": {},
   "source": [
    "# Cuantos elementos tiene la lista? (sin contarlos a mano...)"
   ]
  },
  {
   "cell_type": "code",
   "execution_count": 9,
   "metadata": {},
   "outputs": [
    {
     "data": {
      "text/plain": [
       "5"
      ]
     },
     "execution_count": 9,
     "metadata": {},
     "output_type": "execute_result"
    }
   ],
   "source": [
    "len(verdura1)"
   ]
  },
  {
   "cell_type": "markdown",
   "metadata": {},
   "source": [
    " Cuales son los ultimos 3 elementos de la lista?"
   ]
  },
  {
   "cell_type": "code",
   "execution_count": 10,
   "metadata": {},
   "outputs": [
    {
     "data": {
      "text/plain": [
       "['Cebolla', 'Papa', 'Ultima por ahora']"
      ]
     },
     "execution_count": 10,
     "metadata": {},
     "output_type": "execute_result"
    }
   ],
   "source": [
    "verdura1[-3:]"
   ]
  },
  {
   "cell_type": "markdown",
   "metadata": {},
   "source": [
    "# CICLOS"
   ]
  },
  {
   "cell_type": "markdown",
   "metadata": {},
   "source": [
    "# Crear una variable con una lista de 3 elementos\n",
    "# Imprimir cada elemento junto a su longitud en un \"for loop\""
   ]
  },
  {
   "cell_type": "code",
   "execution_count": 38,
   "metadata": {},
   "outputs": [
    {
     "name": "stdout",
     "output_type": "stream",
     "text": [
      "Zapallo 7\n",
      "Lechuga 7\n",
      "Cebolla 7\n"
     ]
    }
   ],
   "source": [
    "verdura1=['Zapallo', 'Lechuga', 'Cebolla']\n",
    "for v in verdura1:\n",
    "    print(v, len(v))"
   ]
  },
  {
   "cell_type": "markdown",
   "metadata": {},
   "source": [
    "# Crear una variable con los numeros del 0 al 5. Hacer un \"for loop\" y si el elemento es 5, borrarlo de la lista."
   ]
  },
  {
   "cell_type": "code",
   "execution_count": null,
   "metadata": {},
   "outputs": [],
   "source": [
    "numeros = [0, 1, 2, 3, 4, 5]\n",
    "\n",
    "for numero in numeros[:]:  # Usamos una copia de la lista para evitar problemas al borrar elementos\n",
    "    if numero == 5:\n",
    "        numeros.remove(numero)\n",
    "\n",
    "print(numeros)"
   ]
  },
  {
   "cell_type": "code",
   "execution_count": 40,
   "metadata": {},
   "outputs": [
    {
     "name": "stdout",
     "output_type": "stream",
     "text": [
      "5\n"
     ]
    }
   ],
   "source": [
    "numeros = [0,1,2,3,4,5]\n",
    "for i in numeros[:]:\n",
    "    if i == 5:\n",
    "        numeros.remove(i)\n",
    "print(i)"
   ]
  },
  {
   "cell_type": "code",
   "execution_count": null,
   "metadata": {},
   "outputs": [],
   "source": [
    "numeros = [0, 1, 2, 3, 4, 5]\n",
    "numeros2 = [numero for numero in numeros if numero != 5]\n",
    "\n",
    "print(numeros2)\n",
    "numeros2"
   ]
  },
  {
   "cell_type": "markdown",
   "metadata": {},
   "source": [
    "# Escribir una funcion que tome un nombre como parametro y diga \"Hola nombre!\" cada vez que es llamada (donde nombre es el argumento)"
   ]
  },
  {
   "cell_type": "code",
   "execution_count": 55,
   "metadata": {},
   "outputs": [
    {
     "name": "stdout",
     "output_type": "stream",
     "text": [
      "Hola fdgsdfg\n"
     ]
    }
   ],
   "source": [
    "def saludar(nombre):\n",
    "    print(f'Hola {nombre}')\n",
    "\n",
    "nombre =  input('Ingresar tu nombre: ')\n",
    "saludar(nombre)"
   ]
  },
  {
   "cell_type": "code",
   "execution_count": 48,
   "metadata": {},
   "outputs": [
    {
     "name": "stdout",
     "output_type": "stream",
     "text": [
      " Tu edad es de 32_title\n"
     ]
    }
   ],
   "source": [
    "## mismo ejercicio pero con edad\n",
    "\n",
    "def saludar_edad(edad):\n",
    "    print (f' Tu edad es de {edad}')\n",
    "edad = input('Ingresar su edad: ')\n",
    "saludar_edad(edad)"
   ]
  },
  {
   "cell_type": "markdown",
   "metadata": {},
   "source": [
    "# Modificar la funcion de arriba para que siempre salude con la primera letra mayuscula y las demas minusculas,\n",
    "# mas alla de cómo se le pase el argumento \"nombre\""
   ]
  },
  {
   "cell_type": "code",
   "execution_count": 56,
   "metadata": {},
   "outputs": [
    {
     "name": "stdout",
     "output_type": "stream",
     "text": [
      "Hola Carlos\n"
     ]
    }
   ],
   "source": [
    "def saludar(nombre):\n",
    "    nombre_mayuscula= nombre.title()\n",
    "    print(f'Hola {nombre_mayuscula}')\n",
    "\n",
    "nombre =  input('Ingresar tu nombre: ')\n",
    "saludar(nombre)"
   ]
  },
  {
   "cell_type": "markdown",
   "metadata": {},
   "source": [
    "# Escribir una funcion que pregunte dos numeros al usuario y luego le diga \"La suma es X\", donde X es la suma"
   ]
  },
  {
   "cell_type": "code",
   "execution_count": 11,
   "metadata": {},
   "outputs": [
    {
     "name": "stdout",
     "output_type": "stream",
     "text": [
      "La suma es: 2.0\n"
     ]
    }
   ],
   "source": [
    "\n",
    "def sumar (a,b):\n",
    "    a = float(input('Ingrese un numero: '))\n",
    "    b = float(input('Ingrese otro numero: '))\n",
    "    suma= a+b\n",
    "    print(f'La suma es: {suma}')\n",
    "sumar(a,b)"
   ]
  },
  {
   "cell_type": "code",
   "execution_count": 8,
   "metadata": {},
   "outputs": [
    {
     "name": "stdout",
     "output_type": "stream",
     "text": [
      "La suma es 2.0\n"
     ]
    }
   ],
   "source": [
    "## Otra forma de hacerlo\n",
    "def sumar_numeros():\n",
    "    try:\n",
    "        numero1 = float(input(\"Ingresa el primer número: \"))\n",
    "        numero2 = float(input(\"Ingresa el segundo número: \"))\n",
    "        suma = numero1 + numero2\n",
    "        print(f\"La suma es {suma}\")\n",
    "    except ValueError:\n",
    "        print(\"Error: Ingresa números válidos.\")\n",
    "\n",
    "# Llamamos a la función para sumar dos números\n",
    "sumar_numeros()"
   ]
  },
  {
   "cell_type": "markdown",
   "metadata": {},
   "source": [
    "# Use la misma funcion que antes, pero que ahora al final diga:\n",
    "# \"La suma de primer_numero y segundo_numero es X\" (reemplazando por los valores correspondientes)"
   ]
  },
  {
   "cell_type": "code",
   "execution_count": 14,
   "metadata": {},
   "outputs": [
    {
     "name": "stdout",
     "output_type": "stream",
     "text": [
      "La suma de 1.0 y 1.0 es: 2.0\n"
     ]
    }
   ],
   "source": [
    "\n",
    "def sumar (a,b):\n",
    "    a = float(input('Ingrese un numero: '))\n",
    "    b = float(input('Ingrese otro numero: '))\n",
    "    suma= a+b\n",
    "    print(f'La suma de {a} y {b} es: {suma}')\n",
    "sumar(a,b)"
   ]
  },
  {
   "cell_type": "markdown",
   "metadata": {},
   "source": [
    "# Haga una funcion que tome una lista de 3 digitos y devuelva la suma. Obs: no es necesario imprimirla en pantalla. Guarde esa suma en una variable."
   ]
  },
  {
   "cell_type": "code",
   "execution_count": 20,
   "metadata": {},
   "outputs": [
    {
     "data": {
      "text/plain": [
       "6"
      ]
     },
     "execution_count": 20,
     "metadata": {},
     "output_type": "execute_result"
    }
   ],
   "source": [
    "lista = [1,2,3]\n",
    "\n",
    "def suma_lista (lista):\n",
    "    suma_lista =sum(lista)\n",
    "    return suma_lista\n",
    "suma_lista(lista)"
   ]
  },
  {
   "cell_type": "markdown",
   "metadata": {},
   "source": [
    "# Haga una funcion que tome una lista de numeros y devuelva la suma y la longitud de la lista. Guarde esos valores en dos variables"
   ]
  },
  {
   "cell_type": "code",
   "execution_count": null,
   "metadata": {},
   "outputs": [],
   "source": [
    "lista = [1,2,3]\n",
    "\n",
    "def suma_lista (lista):\n",
    "    largo = len(lista)\n",
    "    suma_lista =sum(lista)\n",
    "    return suma_lista, largo\n",
    "suma_lista(lista)"
   ]
  },
  {
   "cell_type": "markdown",
   "metadata": {},
   "source": [
    "# Escriba una funcion que tome un dia de la semana, un lugar y un color como parametros. El color es opcional\n",
    "# La funcion devuelve la frase \"Era DIA cuando fui a LUGAR\" si no hay color, y \"Era DIA y el cielo estaba COLOR cuando fui a LUGAR\" si hay color\n",
    "# Usar f-strings\n",
    "# Guardar la frase en una variable"
   ]
  },
  {
   "cell_type": "code",
   "execution_count": 27,
   "metadata": {},
   "outputs": [
    {
     "name": "stdout",
     "output_type": "stream",
     "text": [
      " lunes y el cielo estaba verde cuando fui a estadio\n",
      "None\n"
     ]
    }
   ],
   "source": [
    "dia = input('Ingrese un dia: ')\n",
    "lugar = input('Ingrese un lugar: ')\n",
    "color = input ('Ingrese un color: ')\n",
    "def frase(dia, lugar, color=None):\n",
    "    if color is None:\n",
    "        frase = print (f'Era {dia} cuando fui a {lugar}')\n",
    "    else:\n",
    "        frase = print (f' {dia} y el cielo estaba {color} cuando fui a {lugar}')\n",
    "    return frase \n",
    "if color:\n",
    "    resultado = frase(dia, lugar, color)\n",
    "else:\n",
    "    resultado = frase(dia, lugar)\n",
    "print(resultado)"
   ]
  },
  {
   "cell_type": "code",
   "execution_count": 26,
   "metadata": {},
   "outputs": [
    {
     "name": "stdout",
     "output_type": "stream",
     "text": [
      "Era martes y el cielo estaba verde cuando fui a estadio \n"
     ]
    }
   ],
   "source": [
    "def frase_viaje(dia, lugar, color=None):\n",
    "    if color is None:\n",
    "        frase = f\"Era {dia} cuando fui a {lugar}\"\n",
    "    else:\n",
    "        frase = f\"Era {dia} y el cielo estaba {color} cuando fui a {lugar}\"\n",
    "    return frase\n",
    "\n",
    "# Ejemplos de llamadas a la función\n",
    "dia_semana = input(\"Ingresa un día de la semana: \")\n",
    "lugar_viaje = input(\"Ingresa un lugar: \")\n",
    "color_cielo = input(\"Ingresa un color del cielo (opcional): \")\n",
    "\n",
    "if color_cielo:\n",
    "    resultado = frase_viaje(dia_semana, lugar_viaje, color_cielo)\n",
    "else:\n",
    "    resultado = frase_viaje(dia_semana, lugar_viaje)\n",
    "\n",
    "print(resultado)"
   ]
  },
  {
   "cell_type": "markdown",
   "metadata": {},
   "source": [
    "# Parecido a como hicimos con la impresion de diseños 3D,\n",
    "# escriba una funcion que reciba una lista de nombres de mascotas y las vaya saludando de a una.\n",
    "# utilice un bloque while\n",
    "# tienen que reemplazar el \"pass\" por el codigo de la funcion\n",
    "# traten de no mirar el ejemplo de la notebook :)"
   ]
  },
  {
   "cell_type": "code",
   "execution_count": null,
   "metadata": {},
   "outputs": [],
   "source": [
    "def saludar_mascotas(lista_mascotas):\n",
    "    index = 0\n",
    "    while index < len(lista_mascotas):\n",
    "        mascota = lista_mascotas[index]\n",
    "        print(f\"Hola, {mascota}!\")\n",
    "        index += 1\n",
    "\n",
    "# Ejemplo de uso\n",
    "mascotas = [\"Max\", \"Luna\", \"Buddy\", \"Coco\"]\n",
    "saludar_mascotas(mascotas)"
   ]
  },
  {
   "cell_type": "markdown",
   "metadata": {},
   "source": [
    "Escribir un programa que pregunte tu nombre y después que muestre por pantalla la cadena ¡Happy Coding <nombre>!, donde <nombre> es el nombre que el usuario haya introducido."
   ]
  },
  {
   "cell_type": "code",
   "execution_count": null,
   "metadata": {},
   "outputs": [],
   "source": [
    "# solucion con funcion\n",
    "palabra2= '¡Happy Coding' \n",
    "def saludar(nombre):\n",
    "    print(f'{palabra2} {nombre}!')\n",
    "\n",
    "nombre =  input('Ingresar tu nombre: ')\n",
    "saludar(nombre)"
   ]
  },
  {
   "cell_type": "code",
   "execution_count": null,
   "metadata": {},
   "outputs": [],
   "source": [
    "#otra solucion sin funcion \n",
    "nombre = input(\"Por favor, introduce tu nombre: \")\n",
    "mensaje = f\"¡Happy Coding, {nombre}!\"\n",
    "print(mensaje)"
   ]
  },
  {
   "cell_type": "markdown",
   "metadata": {},
   "source": []
  },
  {
   "cell_type": "code",
   "execution_count": 31,
   "metadata": {},
   "outputs": [
    {
     "name": "stdout",
     "output_type": "stream",
     "text": [
      "Después de 2 años,tu capital obtenido será de $100.20\n"
     ]
    }
   ],
   "source": [
    "def calcular_capital(cantidad, tasa_interes, anios):\n",
    "    capital_obtenido = cantidad * (1 + tasa_interes)**anios\n",
    "    return capital_obtenido\n",
    "\n",
    "cantidad_invertida = float(input(\"Ingresa la cantidad de dinero a invertir: \"))\n",
    "tasa_interes_anual = float(input(\"Ingresa la tasa de interés anual (%): \")) / 100\n",
    "num_anios = int(input(\"Ingresa el número de años: \"))\n",
    "\n",
    "capital_final = calcular_capital(cantidad_invertida, tasa_interes_anual, num_anios)\n",
    "print(f\"Después de {num_anios} años,tu capital obtenido será de ${capital_final:.2f}\")"
   ]
  }
 ],
 "metadata": {
  "kernelspec": {
   "display_name": "Python 3",
   "language": "python",
   "name": "python3"
  },
  "language_info": {
   "codemirror_mode": {
    "name": "ipython",
    "version": 3
   },
   "file_extension": ".py",
   "mimetype": "text/x-python",
   "name": "python",
   "nbconvert_exporter": "python",
   "pygments_lexer": "ipython3",
   "version": "3.11.4"
  },
  "orig_nbformat": 4
 },
 "nbformat": 4,
 "nbformat_minor": 2
}
