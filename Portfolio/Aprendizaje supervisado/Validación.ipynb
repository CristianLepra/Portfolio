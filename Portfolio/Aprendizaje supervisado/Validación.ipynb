{
 "cells": [
  {
   "cell_type": "markdown",
   "id": "b0132cb5-2864-4073-ac49-2d4836fc009a",
   "metadata": {},
   "source": [
    "# Ejercicio validación\n",
    "\n",
    "Para el siguiente ejemplo, se solicita importar los datos del dataset `student-mat.csv` y realizar el proceso de validación utilizando los siguientes mecanismos \n",
    "\n",
    "- Validación Hold-out\n",
    "- Validación Cruzada\n",
    "\n",
    ">Note: Para las predicciones utilizar [sklearn.linear_model.LinearRegression](https://scikit-learn.org/stable/modules/generated/sklearn.linear_model.LinearRegression.html). "
   ]
  },
  {
   "cell_type": "code",
   "execution_count": 6,
   "id": "c14e55d3-6bf2-4f93-9bc8-fa6f825cbaf1",
   "metadata": {
    "tags": []
   },
   "outputs": [],
   "source": [
    "import numpy as np\n",
    "import pandas as pd\n",
    "from sklearn.linear_model import LinearRegression\n",
    "from sklearn.model_selection import train_test_split\n",
    "from sklearn.model_selection import cross_val_score\n",
    "from sklearn.preprocessing import StandardScaler\n",
    "from sklearn import preprocessing\n",
    "from sklearn.model_selection import KFold\n",
    "import warnings\n",
    "warnings.filterwarnings('ignore')"
   ]
  },
  {
   "cell_type": "markdown",
   "id": "cf7527b9-b121-446c-b3ee-b08e542f2464",
   "metadata": {},
   "source": [
    "## Importar datos"
   ]
  },
  {
   "cell_type": "code",
   "execution_count": 2,
   "id": "e5060e0f-ffcb-4fad-a9a7-51a0bb2f5842",
   "metadata": {
    "tags": []
   },
   "outputs": [
    {
     "data": {
      "text/html": [
       "<div>\n",
       "<style scoped>\n",
       "    .dataframe tbody tr th:only-of-type {\n",
       "        vertical-align: middle;\n",
       "    }\n",
       "\n",
       "    .dataframe tbody tr th {\n",
       "        vertical-align: top;\n",
       "    }\n",
       "\n",
       "    .dataframe thead th {\n",
       "        text-align: right;\n",
       "    }\n",
       "</style>\n",
       "<table border=\"1\" class=\"dataframe\">\n",
       "  <thead>\n",
       "    <tr style=\"text-align: right;\">\n",
       "      <th></th>\n",
       "      <th>school</th>\n",
       "      <th>sex</th>\n",
       "      <th>age</th>\n",
       "      <th>address</th>\n",
       "      <th>famsize</th>\n",
       "      <th>Pstatus</th>\n",
       "      <th>Medu</th>\n",
       "      <th>Fedu</th>\n",
       "      <th>Mjob</th>\n",
       "      <th>Fjob</th>\n",
       "      <th>...</th>\n",
       "      <th>famrel</th>\n",
       "      <th>freetime</th>\n",
       "      <th>goout</th>\n",
       "      <th>Dalc</th>\n",
       "      <th>Walc</th>\n",
       "      <th>health</th>\n",
       "      <th>absences</th>\n",
       "      <th>G1</th>\n",
       "      <th>G2</th>\n",
       "      <th>G3</th>\n",
       "    </tr>\n",
       "  </thead>\n",
       "  <tbody>\n",
       "    <tr>\n",
       "      <th>0</th>\n",
       "      <td>GP</td>\n",
       "      <td>F</td>\n",
       "      <td>18</td>\n",
       "      <td>U</td>\n",
       "      <td>GT3</td>\n",
       "      <td>A</td>\n",
       "      <td>4</td>\n",
       "      <td>4</td>\n",
       "      <td>at_home</td>\n",
       "      <td>teacher</td>\n",
       "      <td>...</td>\n",
       "      <td>4</td>\n",
       "      <td>3</td>\n",
       "      <td>4</td>\n",
       "      <td>1</td>\n",
       "      <td>1</td>\n",
       "      <td>3</td>\n",
       "      <td>6</td>\n",
       "      <td>5</td>\n",
       "      <td>6</td>\n",
       "      <td>6</td>\n",
       "    </tr>\n",
       "    <tr>\n",
       "      <th>1</th>\n",
       "      <td>GP</td>\n",
       "      <td>F</td>\n",
       "      <td>17</td>\n",
       "      <td>U</td>\n",
       "      <td>GT3</td>\n",
       "      <td>T</td>\n",
       "      <td>1</td>\n",
       "      <td>1</td>\n",
       "      <td>at_home</td>\n",
       "      <td>other</td>\n",
       "      <td>...</td>\n",
       "      <td>5</td>\n",
       "      <td>3</td>\n",
       "      <td>3</td>\n",
       "      <td>1</td>\n",
       "      <td>1</td>\n",
       "      <td>3</td>\n",
       "      <td>4</td>\n",
       "      <td>5</td>\n",
       "      <td>5</td>\n",
       "      <td>6</td>\n",
       "    </tr>\n",
       "    <tr>\n",
       "      <th>2</th>\n",
       "      <td>GP</td>\n",
       "      <td>F</td>\n",
       "      <td>15</td>\n",
       "      <td>U</td>\n",
       "      <td>LE3</td>\n",
       "      <td>T</td>\n",
       "      <td>1</td>\n",
       "      <td>1</td>\n",
       "      <td>at_home</td>\n",
       "      <td>other</td>\n",
       "      <td>...</td>\n",
       "      <td>4</td>\n",
       "      <td>3</td>\n",
       "      <td>2</td>\n",
       "      <td>2</td>\n",
       "      <td>3</td>\n",
       "      <td>3</td>\n",
       "      <td>10</td>\n",
       "      <td>7</td>\n",
       "      <td>8</td>\n",
       "      <td>10</td>\n",
       "    </tr>\n",
       "    <tr>\n",
       "      <th>3</th>\n",
       "      <td>GP</td>\n",
       "      <td>F</td>\n",
       "      <td>15</td>\n",
       "      <td>U</td>\n",
       "      <td>GT3</td>\n",
       "      <td>T</td>\n",
       "      <td>4</td>\n",
       "      <td>2</td>\n",
       "      <td>health</td>\n",
       "      <td>services</td>\n",
       "      <td>...</td>\n",
       "      <td>3</td>\n",
       "      <td>2</td>\n",
       "      <td>2</td>\n",
       "      <td>1</td>\n",
       "      <td>1</td>\n",
       "      <td>5</td>\n",
       "      <td>2</td>\n",
       "      <td>15</td>\n",
       "      <td>14</td>\n",
       "      <td>15</td>\n",
       "    </tr>\n",
       "    <tr>\n",
       "      <th>4</th>\n",
       "      <td>GP</td>\n",
       "      <td>F</td>\n",
       "      <td>16</td>\n",
       "      <td>U</td>\n",
       "      <td>GT3</td>\n",
       "      <td>T</td>\n",
       "      <td>3</td>\n",
       "      <td>3</td>\n",
       "      <td>other</td>\n",
       "      <td>other</td>\n",
       "      <td>...</td>\n",
       "      <td>4</td>\n",
       "      <td>3</td>\n",
       "      <td>2</td>\n",
       "      <td>1</td>\n",
       "      <td>2</td>\n",
       "      <td>5</td>\n",
       "      <td>4</td>\n",
       "      <td>6</td>\n",
       "      <td>10</td>\n",
       "      <td>10</td>\n",
       "    </tr>\n",
       "    <tr>\n",
       "      <th>...</th>\n",
       "      <td>...</td>\n",
       "      <td>...</td>\n",
       "      <td>...</td>\n",
       "      <td>...</td>\n",
       "      <td>...</td>\n",
       "      <td>...</td>\n",
       "      <td>...</td>\n",
       "      <td>...</td>\n",
       "      <td>...</td>\n",
       "      <td>...</td>\n",
       "      <td>...</td>\n",
       "      <td>...</td>\n",
       "      <td>...</td>\n",
       "      <td>...</td>\n",
       "      <td>...</td>\n",
       "      <td>...</td>\n",
       "      <td>...</td>\n",
       "      <td>...</td>\n",
       "      <td>...</td>\n",
       "      <td>...</td>\n",
       "      <td>...</td>\n",
       "    </tr>\n",
       "    <tr>\n",
       "      <th>390</th>\n",
       "      <td>MS</td>\n",
       "      <td>M</td>\n",
       "      <td>20</td>\n",
       "      <td>U</td>\n",
       "      <td>LE3</td>\n",
       "      <td>A</td>\n",
       "      <td>2</td>\n",
       "      <td>2</td>\n",
       "      <td>services</td>\n",
       "      <td>services</td>\n",
       "      <td>...</td>\n",
       "      <td>5</td>\n",
       "      <td>5</td>\n",
       "      <td>4</td>\n",
       "      <td>4</td>\n",
       "      <td>5</td>\n",
       "      <td>4</td>\n",
       "      <td>11</td>\n",
       "      <td>9</td>\n",
       "      <td>9</td>\n",
       "      <td>9</td>\n",
       "    </tr>\n",
       "    <tr>\n",
       "      <th>391</th>\n",
       "      <td>MS</td>\n",
       "      <td>M</td>\n",
       "      <td>17</td>\n",
       "      <td>U</td>\n",
       "      <td>LE3</td>\n",
       "      <td>T</td>\n",
       "      <td>3</td>\n",
       "      <td>1</td>\n",
       "      <td>services</td>\n",
       "      <td>services</td>\n",
       "      <td>...</td>\n",
       "      <td>2</td>\n",
       "      <td>4</td>\n",
       "      <td>5</td>\n",
       "      <td>3</td>\n",
       "      <td>4</td>\n",
       "      <td>2</td>\n",
       "      <td>3</td>\n",
       "      <td>14</td>\n",
       "      <td>16</td>\n",
       "      <td>16</td>\n",
       "    </tr>\n",
       "    <tr>\n",
       "      <th>392</th>\n",
       "      <td>MS</td>\n",
       "      <td>M</td>\n",
       "      <td>21</td>\n",
       "      <td>R</td>\n",
       "      <td>GT3</td>\n",
       "      <td>T</td>\n",
       "      <td>1</td>\n",
       "      <td>1</td>\n",
       "      <td>other</td>\n",
       "      <td>other</td>\n",
       "      <td>...</td>\n",
       "      <td>5</td>\n",
       "      <td>5</td>\n",
       "      <td>3</td>\n",
       "      <td>3</td>\n",
       "      <td>3</td>\n",
       "      <td>3</td>\n",
       "      <td>3</td>\n",
       "      <td>10</td>\n",
       "      <td>8</td>\n",
       "      <td>7</td>\n",
       "    </tr>\n",
       "    <tr>\n",
       "      <th>393</th>\n",
       "      <td>MS</td>\n",
       "      <td>M</td>\n",
       "      <td>18</td>\n",
       "      <td>R</td>\n",
       "      <td>LE3</td>\n",
       "      <td>T</td>\n",
       "      <td>3</td>\n",
       "      <td>2</td>\n",
       "      <td>services</td>\n",
       "      <td>other</td>\n",
       "      <td>...</td>\n",
       "      <td>4</td>\n",
       "      <td>4</td>\n",
       "      <td>1</td>\n",
       "      <td>3</td>\n",
       "      <td>4</td>\n",
       "      <td>5</td>\n",
       "      <td>0</td>\n",
       "      <td>11</td>\n",
       "      <td>12</td>\n",
       "      <td>10</td>\n",
       "    </tr>\n",
       "    <tr>\n",
       "      <th>394</th>\n",
       "      <td>MS</td>\n",
       "      <td>M</td>\n",
       "      <td>19</td>\n",
       "      <td>U</td>\n",
       "      <td>LE3</td>\n",
       "      <td>T</td>\n",
       "      <td>1</td>\n",
       "      <td>1</td>\n",
       "      <td>other</td>\n",
       "      <td>at_home</td>\n",
       "      <td>...</td>\n",
       "      <td>3</td>\n",
       "      <td>2</td>\n",
       "      <td>3</td>\n",
       "      <td>3</td>\n",
       "      <td>3</td>\n",
       "      <td>5</td>\n",
       "      <td>5</td>\n",
       "      <td>8</td>\n",
       "      <td>9</td>\n",
       "      <td>9</td>\n",
       "    </tr>\n",
       "  </tbody>\n",
       "</table>\n",
       "<p>395 rows × 33 columns</p>\n",
       "</div>"
      ],
      "text/plain": [
       "    school sex  age address famsize Pstatus  Medu  Fedu      Mjob      Fjob  \\\n",
       "0       GP   F   18       U     GT3       A     4     4   at_home   teacher   \n",
       "1       GP   F   17       U     GT3       T     1     1   at_home     other   \n",
       "2       GP   F   15       U     LE3       T     1     1   at_home     other   \n",
       "3       GP   F   15       U     GT3       T     4     2    health  services   \n",
       "4       GP   F   16       U     GT3       T     3     3     other     other   \n",
       "..     ...  ..  ...     ...     ...     ...   ...   ...       ...       ...   \n",
       "390     MS   M   20       U     LE3       A     2     2  services  services   \n",
       "391     MS   M   17       U     LE3       T     3     1  services  services   \n",
       "392     MS   M   21       R     GT3       T     1     1     other     other   \n",
       "393     MS   M   18       R     LE3       T     3     2  services     other   \n",
       "394     MS   M   19       U     LE3       T     1     1     other   at_home   \n",
       "\n",
       "     ... famrel freetime  goout  Dalc  Walc health absences  G1  G2  G3  \n",
       "0    ...      4        3      4     1     1      3        6   5   6   6  \n",
       "1    ...      5        3      3     1     1      3        4   5   5   6  \n",
       "2    ...      4        3      2     2     3      3       10   7   8  10  \n",
       "3    ...      3        2      2     1     1      5        2  15  14  15  \n",
       "4    ...      4        3      2     1     2      5        4   6  10  10  \n",
       "..   ...    ...      ...    ...   ...   ...    ...      ...  ..  ..  ..  \n",
       "390  ...      5        5      4     4     5      4       11   9   9   9  \n",
       "391  ...      2        4      5     3     4      2        3  14  16  16  \n",
       "392  ...      5        5      3     3     3      3        3  10   8   7  \n",
       "393  ...      4        4      1     3     4      5        0  11  12  10  \n",
       "394  ...      3        2      3     3     3      5        5   8   9   9  \n",
       "\n",
       "[395 rows x 33 columns]"
      ]
     },
     "execution_count": 2,
     "metadata": {},
     "output_type": "execute_result"
    }
   ],
   "source": [
    "df = pd.read_csv('student-mat.csv', sep=';') #TODO\n",
    "df"
   ]
  },
  {
   "cell_type": "code",
   "execution_count": 3,
   "id": "888f4184-20ae-4606-a0d5-ad059f4d3446",
   "metadata": {
    "tags": []
   },
   "outputs": [
    {
     "name": "stdout",
     "output_type": "stream",
     "text": [
      "<class 'pandas.core.frame.DataFrame'>\n",
      "RangeIndex: 395 entries, 0 to 394\n",
      "Data columns (total 16 columns):\n",
      " #   Column      Non-Null Count  Dtype\n",
      "---  ------      --------------  -----\n",
      " 0   age         395 non-null    int64\n",
      " 1   Medu        395 non-null    int64\n",
      " 2   Fedu        395 non-null    int64\n",
      " 3   traveltime  395 non-null    int64\n",
      " 4   studytime   395 non-null    int64\n",
      " 5   failures    395 non-null    int64\n",
      " 6   famrel      395 non-null    int64\n",
      " 7   freetime    395 non-null    int64\n",
      " 8   goout       395 non-null    int64\n",
      " 9   Dalc        395 non-null    int64\n",
      " 10  Walc        395 non-null    int64\n",
      " 11  health      395 non-null    int64\n",
      " 12  absences    395 non-null    int64\n",
      " 13  G1          395 non-null    int64\n",
      " 14  G2          395 non-null    int64\n",
      " 15  G3          395 non-null    int64\n",
      "dtypes: int64(16)\n",
      "memory usage: 49.5 KB\n"
     ]
    }
   ],
   "source": [
    "df = df.select_dtypes(include=['number']) #TODO - Utilizar columnas numéricas\n",
    "df.info()"
   ]
  },
  {
   "cell_type": "markdown",
   "id": "254ecb11-c2d4-4639-bee9-25bcea8930f1",
   "metadata": {},
   "source": [
    "## Validación Hold-out"
   ]
  },
  {
   "cell_type": "code",
   "execution_count": 4,
   "id": "1e7dd8f0-e8e1-409f-932a-f996a2747567",
   "metadata": {
    "tags": []
   },
   "outputs": [
    {
     "name": "stdout",
     "output_type": "stream",
     "text": [
      "Test:  clases: [ 0  5  6  7  8  9 10 11 12 13 14 15 16 17 18 19]\n",
      "\n",
      "\n",
      "ocurrencias:  [ 5  4  6  1  6  5 11  5  5  5  6 10  4  3  1  2]\n"
     ]
    }
   ],
   "source": [
    "# Test: hold-out split 80-20%. # Partición externa\n",
    "X_training, X_test, y_training, y_test = train_test_split(df.iloc[:,:-1], df['G3'], test_size=0.20, random_state=42) #TODO\n",
    "\n",
    "valores_test, ocur_test = np.unique(y_test, return_counts=True)\n",
    "\n",
    "print('Test: ', 'clases:', valores_test)\n",
    "print('\\n')\n",
    "print('ocurrencias: ', ocur_test)"
   ]
  },
  {
   "cell_type": "code",
   "execution_count": 7,
   "id": "9912c6ac-a5c3-4e88-be19-c896270b29d5",
   "metadata": {
    "tags": []
   },
   "outputs": [
    {
     "name": "stdout",
     "output_type": "stream",
     "text": [
      "[[-0.58639605  0.24643712  0.42320737 ... -0.46440769  0.33205033\n",
      "   0.62616324]\n",
      " [-0.58639605 -0.68063585  0.42320737 ... -0.70225668  0.64340909\n",
      "   0.89283114]\n",
      " [-0.58639605 -1.60770883  0.42320737 ... -0.70225668 -0.91338472\n",
      "  -0.97384417]\n",
      " ...\n",
      " [ 1.77915057  0.24643712  0.42320737 ...  1.08161077 -0.60202596\n",
      "  -0.44050837]\n",
      " [ 0.20211949  1.17351009  0.42320737 ... -0.70225668  0.64340909\n",
      "   1.15949904]\n",
      " [-1.37491159  1.17351009  1.35191243 ... -0.22655869 -0.2906672\n",
      "   0.62616324]]\n",
      "[[ 0.20211949 -0.68063585 -1.43420275 ... -0.46440769 -0.91338472\n",
      "  -0.70717627]\n",
      " [ 0.99063503 -1.60770883 -0.50549769 ... -0.34548319  0.95476785\n",
      "   0.35949533]\n",
      " [ 0.99063503  0.24643712  0.42320737 ...  0.24913929 -2.47017853\n",
      "  -1.50717997]\n",
      " ...\n",
      " [-1.37491159 -0.68063585 -1.43420275 ...  0.24913929 -0.60202596\n",
      "  -0.44050837]\n",
      " [-1.37491159  1.17351009 -0.50549769 ... -0.46440769  1.26612661\n",
      "   0.89283114]\n",
      " [ 0.20211949  0.24643712 -0.50549769 ...  1.20053527 -1.53610225\n",
      "  -1.50717997]]\n"
     ]
    }
   ],
   "source": [
    "# Estandarizar las características de entrenamiento y de test\n",
    "standardizer = preprocessing.StandardScaler() #TODO\n",
    "X_training = standardizer.fit_transform(X_training) #TODO\n",
    "X_test = standardizer.transform(X_test) #TODO\n",
    "\n",
    "print(X_training)\n",
    "print(X_test)"
   ]
  },
  {
   "cell_type": "code",
   "execution_count": 8,
   "id": "609dcabe-99bf-48f4-9e4f-485db30ead4b",
   "metadata": {
    "tags": []
   },
   "outputs": [
    {
     "name": "stdout",
     "output_type": "stream",
     "text": [
      "Entrenamiento:   clases: [ 0  4  5  6  7  8  9 10 11 12 13 14 15 16 17 18 19 20]\n",
      "\n",
      "\n",
      "ocurrencias: [27  1  3  6  5 17 16 34 30 22 23 18 21 12  3 11  2  1]\n",
      "\n",
      "\n",
      "Test:  clases: [ 0  6  7  8  9 10 11 12 13 14 15 19]\n",
      "\n",
      "\n",
      "ocurrencias:  [ 6  3  3  9  7 11 12  4  3  3  2  1]\n"
     ]
    }
   ],
   "source": [
    "# Validación: hold-out split 80-20%. # Partición interna\n",
    "X_train, X_val, y_train, y_val = train_test_split(X_training, y_training, test_size = 0.2, random_state = 42) #TODO\n",
    "\n",
    "valores_train, ocur_train = np.unique(y_train, return_counts=True)\n",
    "print('Entrenamiento: ', ' clases:', valores_train)\n",
    "print('\\n')\n",
    "print('ocurrencias:', ocur_train)\n",
    "print('\\n')\n",
    "\n",
    "\n",
    "valores_val, ocur_val = np.unique(y_val, return_counts=True)\n",
    "\n",
    "print('Test: ', 'clases:', valores_val)\n",
    "print('\\n')\n",
    "print('ocurrencias: ', ocur_val)"
   ]
  },
  {
   "cell_type": "code",
   "execution_count": 10,
   "id": "7c2c8c39-40d7-4c1c-b971-6cb5bf1eeebb",
   "metadata": {
    "tags": []
   },
   "outputs": [],
   "source": [
    "# Construcción del objeto que contiene el algoritmo de aprendizaje.\n",
    "# Utilizamos un algoritmo de regresión lineal\n",
    "lm = LinearRegression() #TODO"
   ]
  },
  {
   "cell_type": "code",
   "execution_count": 11,
   "id": "09c64ff3-4293-45b4-9d22-bd78aa47d10e",
   "metadata": {
    "tags": []
   },
   "outputs": [
    {
     "name": "stdout",
     "output_type": "stream",
     "text": [
      "Exactitud en validación  83.56 %\n",
      "Exactitud en test  77.68 %\n"
     ]
    }
   ],
   "source": [
    "lm.fit(X_train, y_train) # TODO - Entrenamos modelo\n",
    "\n",
    "val_accuracy = lm.score(X_val, y_val) # TODO - Evaluamos modelo en validación\n",
    "print('Exactitud en validación ', np.round(val_accuracy*100, 2), '%')\n",
    "\n",
    "test_accuracy = lm.score(X_test, y_test) # TODO - Evaluamos modelo en test\n",
    "print('Exactitud en test ', np.round(test_accuracy*100, 2), '%')"
   ]
  },
  {
   "cell_type": "markdown",
   "id": "96dc9f5c-4c1d-4b2e-b18b-55fe765672ec",
   "metadata": {},
   "source": [
    "## Validación Cruzada"
   ]
  },
  {
   "cell_type": "code",
   "execution_count": 12,
   "id": "cd1b72e1-0f52-4d3c-8889-676d3d1e8076",
   "metadata": {
    "tags": []
   },
   "outputs": [
    {
     "name": "stdout",
     "output_type": "stream",
     "text": [
      "Test:  clases: [ 0  5  6  7  8  9 10 11 12 13 14 15 16 17 18 19]  ocurrencias:  [ 5  4  6  1  6  5 11  5  5  5  6 10  4  3  1  2]\n",
      "Entrenamiento:   clases: [ 0  4  5  6  7  8  9 10 11 12 13 14 15 16 17 18 19 20]   ocurrencias: [27  1  3  6  5 17 16 34 30 22 23 18 21 12  3 11  2  1]\n"
     ]
    }
   ],
   "source": [
    "# Test: validación cruzada split 80-20%. PARTICIÓN EXTERNA\n",
    "X_training, X_test, y_training, y_test = train_test_split(df.iloc[:,:-1], df['G3'], test_size=0.20, random_state=42) #TODO\n",
    "\n",
    "valores_test, ocur_test = np.unique(y_test, return_counts=True)\n",
    "print('Test: ', 'clases:', valores_test, ' ocurrencias: ', ocur_test)\n",
    "\n",
    "valores_train, ocur_train = np.unique(y_train, return_counts=True)\n",
    "print('Entrenamiento: ', ' clases:', valores_train, '  ocurrencias:', ocur_train)"
   ]
  },
  {
   "cell_type": "code",
   "execution_count": 14,
   "id": "ab9309f6",
   "metadata": {},
   "outputs": [
    {
     "name": "stdout",
     "output_type": "stream",
     "text": [
      "Entrenamiento:   clases: [ 0  4  5  6  7  8  9 10 11 12 13 14 15 16 17 18 19 20]\n",
      "\n",
      "\n",
      "ocurrencias: [27  1  3  6  5 17 16 34 30 22 23 18 21 12  3 11  2  1]\n",
      "\n",
      "\n",
      "Test:  clases: [ 0  6  7  8  9 10 11 12 13 14 15 19]\n",
      "\n",
      "\n",
      "ocurrencias:  [ 6  3  3  9  7 11 12  4  3  3  2  1]\n"
     ]
    }
   ],
   "source": [
    "# Validación: validación cruzada split 80-20%. # Partición interna\n",
    "X_train, X_val, y_train, y_val = train_test_split(X_training, y_training, test_size = 0.2, random_state = 42) #TODO\n",
    "\n",
    "valores_train, ocur_train = np.unique(y_train, return_counts=True)\n",
    "print('Entrenamiento: ', ' clases:', valores_train)\n",
    "print('\\n')\n",
    "print('ocurrencias:', ocur_train)\n",
    "print('\\n')\n",
    "\n",
    "\n",
    "valores_val, ocur_val = np.unique(y_val, return_counts=True)\n",
    "\n",
    "print('Test: ', 'clases:', valores_val)\n",
    "print('\\n')\n",
    "print('ocurrencias: ', ocur_val)"
   ]
  },
  {
   "cell_type": "code",
   "execution_count": 15,
   "id": "b5d98268-2943-43bc-97f5-77b22161655e",
   "metadata": {
    "tags": []
   },
   "outputs": [],
   "source": [
    "# Construcción del objeto que contiene el algoritmo de aprendizaje.\n",
    "# Utilizamos un algoritmo de regresión lineal\n",
    "lm = LinearRegression() #TODO"
   ]
  },
  {
   "cell_type": "code",
   "execution_count": 17,
   "id": "3f8d0984-89a9-482e-abc6-2fd4966149b6",
   "metadata": {
    "tags": []
   },
   "outputs": [
    {
     "name": "stdout",
     "output_type": "stream",
     "text": [
      "Resultados por bolsa:  [0.8241974  0.81931996 0.778666   0.7762702  0.86397863]\n",
      "Accuracy (media +/- desv.): 0.8125 +/- 0.0325\n"
     ]
    }
   ],
   "source": [
    "# Validación, entrenamiento y evaluación del algoritmo de aprendizaje.\n",
    "# en \"cv = KFold(n_splits=5)\" estamos haciendo un cross-validation INTERNO!\n",
    "\n",
    "\"\"\"\n",
    "En results se hace la validación cruzada\n",
    "\"\"\"\n",
    "\n",
    "#TODO\n",
    "results = cross_val_score(lm, \n",
    "                          X_train, \n",
    "                          y_train, \n",
    "                          cv = KFold(n_splits=5, shuffle = True, random_state = 42))\n",
    "\n",
    "print(\"Resultados por bolsa: \", results)\n",
    "print(\"Accuracy (media +/- desv.): %0.4f +/- %0.4f\" % (results.mean(), results.std()))"
   ]
  },
  {
   "cell_type": "code",
   "execution_count": 25,
   "id": "06fdadfb-59e1-483d-9a69-4d0d77606e08",
   "metadata": {
    "tags": []
   },
   "outputs": [
    {
     "name": "stdout",
     "output_type": "stream",
     "text": [
      "Exactitud en test:  78.0358021376833 %\n",
      "\n",
      "\n",
      "Predicciones:\n",
      " 78      5.971772\n",
      "371    12.063020\n",
      "248     3.155269\n",
      "55      9.135405\n",
      "390     7.689242\n",
      "         ...    \n",
      "364    10.190736\n",
      "82      6.088894\n",
      "114     9.406754\n",
      "3      14.233254\n",
      "18      4.204178\n",
      "Length: 79, dtype: float64\n",
      "\n",
      "\n",
      "Etiquetas reales:\n",
      " 78     10\n",
      "371    12\n",
      "248     5\n",
      "55     10\n",
      "390     9\n",
      "       ..\n",
      "364    12\n",
      "82      6\n",
      "114     9\n",
      "3      15\n",
      "18      5\n",
      "Name: G3, Length: 79, dtype: int64\n"
     ]
    }
   ],
   "source": [
    "# Una vez entrenado y validado el modelo para seleccionar los mejores hyperparameters, \n",
    "# utilizamos todos los datos de \"train\" y \"val\" para entrenar el modelo definitivo\n",
    "\n",
    "lm = lm.fit(X_training, y_training) # TODO - Entrenamiento\n",
    "test_results = lm.score(X_test, y_test) # TODO - Evaluación en test\n",
    "print('Exactitud en test: ', test_results*100, '%')\n",
    "print('\\n')\n",
    "# También podemos extraer las predicciones, en lugar de directamente la accuracy\n",
    "y_pred = lm.predict(X_test) #TODO\n",
    "y=pd.Series(y_pred, index = y_test.index)\n",
    "print('Predicciones:\\n', y)\n",
    "print('\\n')\n",
    "print('Etiquetas reales:\\n', y_test)"
   ]
  },
  {
   "cell_type": "code",
   "execution_count": null,
   "id": "1c3cf9b1",
   "metadata": {},
   "outputs": [],
   "source": []
  }
 ],
 "metadata": {
  "kernelspec": {
   "display_name": "Python 3 (ipykernel)",
   "language": "python",
   "name": "python3"
  },
  "language_info": {
   "codemirror_mode": {
    "name": "ipython",
    "version": 3
   },
   "file_extension": ".py",
   "mimetype": "text/x-python",
   "name": "python",
   "nbconvert_exporter": "python",
   "pygments_lexer": "ipython3",
   "version": "3.10.9"
  }
 },
 "nbformat": 4,
 "nbformat_minor": 5
}
