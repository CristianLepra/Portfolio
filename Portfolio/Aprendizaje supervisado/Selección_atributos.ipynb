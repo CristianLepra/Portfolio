{
 "cells": [
  {
   "cell_type": "markdown",
   "id": "0ab7f83d-86fa-4840-8709-b92ea1c31b9a",
   "metadata": {},
   "source": [
    "# Ejercicio\n",
    "\n",
    "Implementar los algoritmos de `VarianceThreshold`, `sklearn.feature_selection.f_regression`, y `sklearn.feature_selection.mutual_info_regression` al siguiente dataset para la selección de atributos.\n",
    "\n",
    "Para el siguiente ejemplo utilizaremos un dataset de valores de propiedades (`housing_data.csv`). El mismo originalmente cuenta con 81 columnas. Para el proposito del ejercicio se le brinda el dataset con solo los atributos númericos. \n",
    "\n",
    "Luego de realizar el proceso de selección de atributos comparar los resultados y explicar el resultado asociado a cada método."
   ]
  },
  {
   "cell_type": "code",
   "execution_count": null,
   "id": "cc2f11b1-5b75-4cde-8ce6-8c6c3b779e27",
   "metadata": {
    "tags": []
   },
   "outputs": [],
   "source": [
    "import pandas as pd\n",
    "import numpy as np\n",
    "from sklearn.model_selection import train_test_split\n",
    "from sklearn.feature_selection import VarianceThreshold, f_regression, mutual_info_regression\n",
    "import warnings\n",
    "warnings.filterwarnings('ignore')"
   ]
  },
  {
   "cell_type": "code",
   "execution_count": null,
   "id": "a1b60f95-6f20-45fb-85ee-26a3ba82f1f1",
   "metadata": {
    "tags": []
   },
   "outputs": [],
   "source": [
    "housing_df= #TODO\n",
    "housing_df=housing_df.fillna() #TODO\n",
    "housing_df.head()"
   ]
  },
  {
   "cell_type": "code",
   "execution_count": null,
   "id": "a746a717-ad1d-4bf7-af67-b0ae08b861af",
   "metadata": {
    "tags": []
   },
   "outputs": [],
   "source": [
    "X_train,X_test,y_train,y_test=train_test_split() #TODO"
   ]
  },
  {
   "cell_type": "markdown",
   "id": "1cbfcb7b-5422-4bd1-b147-3b3ced5cbe49",
   "metadata": {},
   "source": [
    "## VarianceThreshold"
   ]
  },
  {
   "cell_type": "code",
   "execution_count": null,
   "id": "b740a912-f351-4599-8ff5-d9ad5d6f7ade",
   "metadata": {
    "tags": []
   },
   "outputs": [],
   "source": [
    "th = #TODO\n",
    "sel = #TODO\n",
    "print() #TODO\n",
    "print(sel.fit_transform(X_train).shape)\n",
    "print(X_train.shape)"
   ]
  },
  {
   "cell_type": "markdown",
   "id": "02c309c6-251a-4c59-961e-c2bd6d3378a1",
   "metadata": {},
   "source": [
    "## F_regression"
   ]
  },
  {
   "cell_type": "code",
   "execution_count": null,
   "id": "618acdeb-d30f-4ef7-9004-a63395336f1c",
   "metadata": {
    "tags": []
   },
   "outputs": [],
   "source": [
    "# Evaluación de atributos: F-Test.\n",
    "f_test, _ =  #TODO\n",
    "print(f_test)\n",
    "print(f_test.shape)"
   ]
  },
  {
   "cell_type": "code",
   "execution_count": null,
   "id": "55e289e5-ee7a-40e7-958c-95047044c9ab",
   "metadata": {
    "tags": []
   },
   "outputs": [],
   "source": [
    "f_test = pd.Series(f_test)\n",
    "f_test.index = X_train.columns\n",
    "f_test.sort_values(ascending=False)"
   ]
  },
  {
   "cell_type": "code",
   "execution_count": null,
   "id": "c4c0d4ef-1123-4790-8066-5dbb02ec11f3",
   "metadata": {
    "tags": []
   },
   "outputs": [],
   "source": [
    "f_test.sort_values(ascending=False).plot.bar(figsize=(15,5))"
   ]
  },
  {
   "cell_type": "markdown",
   "id": "1759893c-bf5a-4abf-b4bd-4c2833cc54e4",
   "metadata": {},
   "source": [
    "## Mutual Information Regression"
   ]
  },
  {
   "cell_type": "code",
   "execution_count": null,
   "id": "853705ee-f7f0-4189-8195-780727f518f1",
   "metadata": {
    "tags": []
   },
   "outputs": [],
   "source": [
    "mutual_info = #TODO\n",
    "print(mutual_info)\n",
    "print(mutual_info.shape)"
   ]
  },
  {
   "cell_type": "code",
   "execution_count": null,
   "id": "54da9e26-1250-4102-8f93-29c897ea508b",
   "metadata": {
    "tags": []
   },
   "outputs": [],
   "source": [
    "mutual_info = pd.Series(mutual_info)\n",
    "mutual_info.index = X_train.columns\n",
    "mutual_info.sort_values(ascending=False)"
   ]
  },
  {
   "cell_type": "code",
   "execution_count": null,
   "id": "31162a4f-0745-4691-995f-22c7cc944a08",
   "metadata": {
    "tags": []
   },
   "outputs": [],
   "source": [
    "mutual_info.sort_values(ascending=False).plot.bar(figsize=(15,5))"
   ]
  }
 ],
 "metadata": {
  "kernelspec": {
   "display_name": "Python 3 (ipykernel)",
   "language": "python",
   "name": "python3"
  },
  "language_info": {
   "codemirror_mode": {
    "name": "ipython",
    "version": 3
   },
   "file_extension": ".py",
   "mimetype": "text/x-python",
   "name": "python",
   "nbconvert_exporter": "python",
   "pygments_lexer": "ipython3",
   "version": "3.10.12"
  }
 },
 "nbformat": 4,
 "nbformat_minor": 5
}
