{
 "cells": [
  {
   "cell_type": "markdown",
   "id": "0c636b70-2c89-4bb1-88c4-36fdb6d1e0e9",
   "metadata": {},
   "source": [
    "# Ejercicio integrador\n",
    "\n",
    "El objetivo del siguiente ejercicio es aplicar los conocimientos obtenidos sobre los algoritmos más utilizados en aprendizaje supervisado.\n",
    "\n",
    "Para ello se les brinda un dataset al cual deberán realizar las transformaciones necesarias, definir la variable objetivo, tipo de problema (Regresión/Clasificación) y entrenar un modelo en base al problema.\n",
    "\n",
    "**Dataset**: `imdb_dataset.csv`"
   ]
  },
  {
   "cell_type": "markdown",
   "id": "962f4483-d2b3-4a5e-82df-b97ba4f023e7",
   "metadata": {},
   "source": [
    "## Importar Librerias"
   ]
  },
  {
   "cell_type": "code",
   "execution_count": 35,
   "id": "c15957f5-365e-4939-aeed-2403e3380c98",
   "metadata": {
    "tags": []
   },
   "outputs": [],
   "source": [
    "import numpy as np\n",
    "import pandas as pd\n",
    "import matplotlib.pyplot as plt\n",
    "import seaborn as sns\n",
    "import warnings\n",
    "from imblearn.under_sampling import RandomUnderSampler\n",
    "warnings.filterwarnings(\"ignore\")\n",
    "\n",
    "\n",
    "# nltk\n",
    "\n",
    "import nltk\n",
    "from nltk.corpus import stopwords\n",
    "from nltk.stem.porter import PorterStemmer\n",
    "from wordcloud import WordCloud,STOPWORDS\n",
    "from nltk.stem import WordNetLemmatizer\n",
    "from nltk.tokenize import word_tokenize,sent_tokenize\n",
    "from bs4 import BeautifulSoup\n",
    "import re,string,unicodedata\n",
    "from nltk.tokenize.toktok import ToktokTokenizer\n",
    "from nltk.stem import LancasterStemmer,WordNetLemmatizer\n",
    "\n",
    "\n",
    "#TODO sklearn libraries - Completar con el/los modelos predictivos\n",
    "\n",
    "from sklearn.feature_extraction.text import CountVectorizer\n",
    "from sklearn.feature_extraction.text import TfidfVectorizer\n",
    "from sklearn.preprocessing import LabelBinarizer\n",
    "from sklearn.metrics import classification_report,confusion_matrix,accuracy_score\n",
    "from sklearn.model_selection import train_test_split\n",
    "import sklearn.metrics as metrics\n",
    "from sklearn import preprocessing, svm\n",
    "from sklearn.linear_model import LogisticRegression\n",
    "from sklearn.naive_bayes import GaussianNB\n",
    "from sklearn.preprocessing import LabelEncoder\n",
    "from sklearn.tree import DecisionTreeClassifier\n",
    "from sklearn.feature_selection import RFE\n",
    "\n",
    "#TODO modelos para comparar\n",
    "from sklearn.model_selection import train_test_split, cross_val_score, cross_val_predict\n",
    "from sklearn.model_selection import cross_val_predict, KFold\n",
    "from sklearn.feature_selection import f_regression, mutual_info_regression, mutual_info_classif\n",
    "from sklearn import preprocessing, svm\n",
    "\n",
    "\n",
    "\n",
    "\n",
    "\n"
   ]
  },
  {
   "cell_type": "markdown",
   "id": "2a9c25dc-896a-4876-aabd-ed66331b76cb",
   "metadata": {},
   "source": [
    "## Carga de datos"
   ]
  },
  {
   "cell_type": "code",
   "execution_count": 2,
   "id": "e9660757-115c-450a-9052-d95203d76488",
   "metadata": {
    "tags": []
   },
   "outputs": [
    {
     "data": {
      "text/html": [
       "<div>\n",
       "<style scoped>\n",
       "    .dataframe tbody tr th:only-of-type {\n",
       "        vertical-align: middle;\n",
       "    }\n",
       "\n",
       "    .dataframe tbody tr th {\n",
       "        vertical-align: top;\n",
       "    }\n",
       "\n",
       "    .dataframe thead th {\n",
       "        text-align: right;\n",
       "    }\n",
       "</style>\n",
       "<table border=\"1\" class=\"dataframe\">\n",
       "  <thead>\n",
       "    <tr style=\"text-align: right;\">\n",
       "      <th></th>\n",
       "      <th>review</th>\n",
       "      <th>sentiment</th>\n",
       "    </tr>\n",
       "  </thead>\n",
       "  <tbody>\n",
       "    <tr>\n",
       "      <th>0</th>\n",
       "      <td>One of the other reviewers has mentioned that ...</td>\n",
       "      <td>positive</td>\n",
       "    </tr>\n",
       "    <tr>\n",
       "      <th>1</th>\n",
       "      <td>A wonderful little production. &lt;br /&gt;&lt;br /&gt;The...</td>\n",
       "      <td>positive</td>\n",
       "    </tr>\n",
       "    <tr>\n",
       "      <th>2</th>\n",
       "      <td>I thought this was a wonderful way to spend ti...</td>\n",
       "      <td>positive</td>\n",
       "    </tr>\n",
       "    <tr>\n",
       "      <th>3</th>\n",
       "      <td>Basically there's a family where a little boy ...</td>\n",
       "      <td>negative</td>\n",
       "    </tr>\n",
       "    <tr>\n",
       "      <th>4</th>\n",
       "      <td>Petter Mattei's \"Love in the Time of Money\" is...</td>\n",
       "      <td>positive</td>\n",
       "    </tr>\n",
       "  </tbody>\n",
       "</table>\n",
       "</div>"
      ],
      "text/plain": [
       "                                              review sentiment\n",
       "0  One of the other reviewers has mentioned that ...  positive\n",
       "1  A wonderful little production. <br /><br />The...  positive\n",
       "2  I thought this was a wonderful way to spend ti...  positive\n",
       "3  Basically there's a family where a little boy ...  negative\n",
       "4  Petter Mattei's \"Love in the Time of Money\" is...  positive"
      ]
     },
     "execution_count": 2,
     "metadata": {},
     "output_type": "execute_result"
    }
   ],
   "source": [
    "df=pd.read_csv('imdb_dataset.csv') #TODO\n",
    "df.head()"
   ]
  },
  {
   "cell_type": "markdown",
   "id": "6f56260c-2084-4a7c-aae4-28a12f9549ff",
   "metadata": {},
   "source": [
    "## Data\n",
    "\n",
    "Para este ejercicio nos limitamos a tomar solo un subset de `10000` instancias."
   ]
  },
  {
   "cell_type": "code",
   "execution_count": 3,
   "id": "0b2ea735-3a74-4e7f-9824-30e37ce7aa94",
   "metadata": {
    "tags": []
   },
   "outputs": [],
   "source": [
    "df_positive = df[df['sentiment']=='positive'][:9000]\n",
    "df_negative = df[df['sentiment']=='negative'][:1000]\n",
    "\n",
    "df_review_imb = pd.concat([df_positive,df_negative ])"
   ]
  },
  {
   "cell_type": "code",
   "execution_count": 4,
   "id": "6f2b5165-e840-4452-9c70-a1e2b2d20d03",
   "metadata": {
    "tags": []
   },
   "outputs": [
    {
     "data": {
      "image/png": "[encoded data removed]",
      "text/plain": [
       "<Figure size 800x400 with 1 Axes>"
      ]
     },
     "metadata": {},
     "output_type": "display_data"
    }
   ],
   "source": [
    "colors = sns.color_palette('deep')\n",
    "\n",
    "plt.figure(figsize=(8,4), tight_layout=True)\n",
    "plt.bar(x=['Positive', 'Negative'],\n",
    "        height=df_review_imb.value_counts(['sentiment']),\n",
    "        color=colors[:2])\n",
    "plt.title('Sentiment')\n",
    "plt.show()"
   ]
  },
  {
   "cell_type": "markdown",
   "id": "21e9af32-16f1-4e47-92fa-a0488ed710d4",
   "metadata": {},
   "source": [
    "## Preparación y análisis de datos (EDA)"
   ]
  },
  {
   "cell_type": "markdown",
   "id": "6b89d6bc-d50a-4ed0-9299-4e35327ba522",
   "metadata": {},
   "source": [
    "## Resample data\n",
    "\n",
    "El desequilibrio de datos es un gran problema para las tareas de clasificación. En Python, existe una biblioteca que permite el uso de muchos algoritmos para manejar este estado desequilibrado de los datos y sus daños.\n",
    "\n",
    "imbalanced-learn es un paquete de Python que ofrece varias técnicas de remuestreo comúnmente utilizadas en conjuntos de datos que muestran un fuerte desequilibrio entre clases. Es compatible con scikit-learn y forma parte de proyectos `scikit-learn`.\n",
    "\n",
    "Para volver a muestrear nuestros datos utilizamos la biblioteca `imblearn`. Puede submuestrear reseñas positivas o sobremuestrear reseñas negativas (debe elegir según los datos con los que está trabajando). En este caso, usaremos `RandomUnderSampler`"
   ]
  },
  {
   "cell_type": "code",
   "execution_count": 5,
   "id": "8587c101-e727-4c88-a3c0-baad2b1b04b9",
   "metadata": {
    "tags": []
   },
   "outputs": [
    {
     "data": {
      "text/html": [
       "<div>\n",
       "<style scoped>\n",
       "    .dataframe tbody tr th:only-of-type {\n",
       "        vertical-align: middle;\n",
       "    }\n",
       "\n",
       "    .dataframe tbody tr th {\n",
       "        vertical-align: top;\n",
       "    }\n",
       "\n",
       "    .dataframe thead th {\n",
       "        text-align: right;\n",
       "    }\n",
       "</style>\n",
       "<table border=\"1\" class=\"dataframe\">\n",
       "  <thead>\n",
       "    <tr style=\"text-align: right;\">\n",
       "      <th></th>\n",
       "      <th>review</th>\n",
       "      <th>sentiment</th>\n",
       "    </tr>\n",
       "  </thead>\n",
       "  <tbody>\n",
       "    <tr>\n",
       "      <th>0</th>\n",
       "      <td>Basically there's a family where a little boy ...</td>\n",
       "      <td>negative</td>\n",
       "    </tr>\n",
       "    <tr>\n",
       "      <th>1</th>\n",
       "      <td>This show was an amazing, fresh &amp; innovative i...</td>\n",
       "      <td>negative</td>\n",
       "    </tr>\n",
       "    <tr>\n",
       "      <th>2</th>\n",
       "      <td>Encouraged by the positive comments about this...</td>\n",
       "      <td>negative</td>\n",
       "    </tr>\n",
       "    <tr>\n",
       "      <th>3</th>\n",
       "      <td>Phil the Alien is one of those quirky films wh...</td>\n",
       "      <td>negative</td>\n",
       "    </tr>\n",
       "    <tr>\n",
       "      <th>4</th>\n",
       "      <td>I saw this movie when I was about 12 when it c...</td>\n",
       "      <td>negative</td>\n",
       "    </tr>\n",
       "    <tr>\n",
       "      <th>...</th>\n",
       "      <td>...</td>\n",
       "      <td>...</td>\n",
       "    </tr>\n",
       "    <tr>\n",
       "      <th>1995</th>\n",
       "      <td>Knute Rockne led an extraordinary life and his...</td>\n",
       "      <td>positive</td>\n",
       "    </tr>\n",
       "    <tr>\n",
       "      <th>1996</th>\n",
       "      <td>At the height of the 'Celebrity Big Brother' r...</td>\n",
       "      <td>positive</td>\n",
       "    </tr>\n",
       "    <tr>\n",
       "      <th>1997</th>\n",
       "      <td>This is another of Robert Altman's underrated ...</td>\n",
       "      <td>positive</td>\n",
       "    </tr>\n",
       "    <tr>\n",
       "      <th>1998</th>\n",
       "      <td>This movie won a special award at Cannes for i...</td>\n",
       "      <td>positive</td>\n",
       "    </tr>\n",
       "    <tr>\n",
       "      <th>1999</th>\n",
       "      <td>You'd be forgiven to think a Finnish director ...</td>\n",
       "      <td>positive</td>\n",
       "    </tr>\n",
       "  </tbody>\n",
       "</table>\n",
       "<p>2000 rows × 2 columns</p>\n",
       "</div>"
      ],
      "text/plain": [
       "                                                 review sentiment\n",
       "0     Basically there's a family where a little boy ...  negative\n",
       "1     This show was an amazing, fresh & innovative i...  negative\n",
       "2     Encouraged by the positive comments about this...  negative\n",
       "3     Phil the Alien is one of those quirky films wh...  negative\n",
       "4     I saw this movie when I was about 12 when it c...  negative\n",
       "...                                                 ...       ...\n",
       "1995  Knute Rockne led an extraordinary life and his...  positive\n",
       "1996  At the height of the 'Celebrity Big Brother' r...  positive\n",
       "1997  This is another of Robert Altman's underrated ...  positive\n",
       "1998  This movie won a special award at Cannes for i...  positive\n",
       "1999  You'd be forgiven to think a Finnish director ...  positive\n",
       "\n",
       "[2000 rows x 2 columns]"
      ]
     },
     "execution_count": 5,
     "metadata": {},
     "output_type": "execute_result"
    }
   ],
   "source": [
    "rus = RandomUnderSampler(random_state= 0)\n",
    "df_review_bal,df_review_bal['sentiment']=rus.fit_resample(df_review_imb[['review']],\n",
    "                                                          df_review_imb['sentiment'])\n",
    "\n",
    "\n",
    "df_review_bal"
   ]
  },
  {
   "cell_type": "code",
   "execution_count": 6,
   "id": "d82ff87b-5573-4bf9-b6d3-d18dbce175ff",
   "metadata": {
    "tags": []
   },
   "outputs": [
    {
     "name": "stdout",
     "output_type": "stream",
     "text": [
      "sentiment\n",
      "positive    9000\n",
      "negative    1000\n",
      "dtype: int64\n",
      "sentiment\n",
      "negative    1000\n",
      "positive    1000\n",
      "dtype: int64\n"
     ]
    }
   ],
   "source": [
    "print(df_review_imb.value_counts('sentiment'))\n",
    "print(df_review_bal.value_counts('sentiment'))"
   ]
  },
  {
   "cell_type": "markdown",
   "id": "d340eaa4-ce30-4d51-8192-e13bda4a6ad6",
   "metadata": {},
   "source": [
    "## Tokenization\n",
    "La tokenización es una forma de separar un fragmento de texto en unidades más pequeñas llamadas tokens. Aquí, los tokens pueden ser palabras, caracteres o subpalabras. Por lo tanto, la tokenización se puede clasificar en términos generales en 3 tipos: tokenización de palabras, caracteres y subpalabras (caracteres de n-gramas).\n",
    "\n",
    "Por ejemplo, considere la frase: \"Nunca te rindas\".\n",
    "\n",
    "La forma más común de formar tokens se basa en el espacio. Asumiendo el espacio como delimitador, la tokenización de la oración da como resultado 3 tokens: Nunca te rindas. Como cada token es una palabra, se convierte en un ejemplo de tokenización de Word."
   ]
  },
  {
   "cell_type": "code",
   "execution_count": 7,
   "id": "b4423da5-39b1-43b5-b28d-fb659a014e17",
   "metadata": {
    "tags": []
   },
   "outputs": [],
   "source": [
    "#Tokenization of text\n",
    "tokenizer=ToktokTokenizer()\n",
    "#Setting English stopwords\n",
    "stopword_list=nltk.corpus.stopwords.words('english')"
   ]
  },
  {
   "cell_type": "code",
   "execution_count": 8,
   "id": "1b90af79-42b8-4de9-a3bd-a917fce3d0a6",
   "metadata": {},
   "outputs": [],
   "source": [
    "#Funciones para limpieza de datos\n",
    "\n",
    "def clean_data(text):          #using the re library\n",
    "\n",
    "    text = text.lower().strip()\n",
    "    text = re.sub(\"^a-zA-z0-9\\s\",\"\", text)\n",
    "    text = re.sub(r\"<br>\", \" \", text)\n",
    "    text = re.sub(r\"([-?.!,/\\\"])\", r\" \\1 \", text)\n",
    "    text = re.sub(r\"[-()\\\"#/@;:<>{}`+=~|.!?,']\", \"\", text)\n",
    "    text = re.sub(r\"[ ]+\", \" \", text)\n",
    "    text = text.rstrip().strip()\n",
    "\n",
    "    return text"
   ]
  },
  {
   "cell_type": "code",
   "execution_count": 9,
   "id": "ae7a635a-687d-4e16-8a3a-d706d783ca89",
   "metadata": {},
   "outputs": [],
   "source": [
    "#Removing the html strips\n",
    "def strip_html(text):\n",
    "    soup = BeautifulSoup(text, \"html.parser\")\n",
    "    return soup.get_text()\n",
    "\n",
    "#Removing the square brackets\n",
    "def remove_between_square_brackets(text):\n",
    "    return re.sub('\\[[^]]*\\]', '', text)\n",
    "\n",
    "#Removing the noisy text\n",
    "def denoise_text(text):\n",
    "    text = strip_html(text)\n",
    "    text = remove_between_square_brackets(text)\n",
    "    return text"
   ]
  },
  {
   "cell_type": "code",
   "execution_count": 10,
   "id": "24a87ca5-706c-4773-8f5a-10e7f54e9b46",
   "metadata": {
    "tags": []
   },
   "outputs": [
    {
     "data": {
      "text/html": [
       "<div>\n",
       "<style scoped>\n",
       "    .dataframe tbody tr th:only-of-type {\n",
       "        vertical-align: middle;\n",
       "    }\n",
       "\n",
       "    .dataframe tbody tr th {\n",
       "        vertical-align: top;\n",
       "    }\n",
       "\n",
       "    .dataframe thead th {\n",
       "        text-align: right;\n",
       "    }\n",
       "</style>\n",
       "<table border=\"1\" class=\"dataframe\">\n",
       "  <thead>\n",
       "    <tr style=\"text-align: right;\">\n",
       "      <th></th>\n",
       "      <th>review</th>\n",
       "      <th>sentiment</th>\n",
       "    </tr>\n",
       "  </thead>\n",
       "  <tbody>\n",
       "    <tr>\n",
       "      <th>0</th>\n",
       "      <td>basically theres a family where a little boy j...</td>\n",
       "      <td>negative</td>\n",
       "    </tr>\n",
       "    <tr>\n",
       "      <th>1</th>\n",
       "      <td>this show was an amazing fresh &amp; innovative id...</td>\n",
       "      <td>negative</td>\n",
       "    </tr>\n",
       "    <tr>\n",
       "      <th>2</th>\n",
       "      <td>encouraged by the positive comments about this...</td>\n",
       "      <td>negative</td>\n",
       "    </tr>\n",
       "    <tr>\n",
       "      <th>3</th>\n",
       "      <td>phil the alien is one of those quirky films wh...</td>\n",
       "      <td>negative</td>\n",
       "    </tr>\n",
       "    <tr>\n",
       "      <th>4</th>\n",
       "      <td>i saw this movie when i was about 12 when it c...</td>\n",
       "      <td>negative</td>\n",
       "    </tr>\n",
       "  </tbody>\n",
       "</table>\n",
       "</div>"
      ],
      "text/plain": [
       "                                              review sentiment\n",
       "0  basically theres a family where a little boy j...  negative\n",
       "1  this show was an amazing fresh & innovative id...  negative\n",
       "2  encouraged by the positive comments about this...  negative\n",
       "3  phil the alien is one of those quirky films wh...  negative\n",
       "4  i saw this movie when i was about 12 when it c...  negative"
      ]
     },
     "execution_count": 10,
     "metadata": {},
     "output_type": "execute_result"
    }
   ],
   "source": [
    "#Apply clean data\n",
    "df_review_bal['review'] = df_review_bal.review.apply(clean_data)\n",
    "\n",
    "#Apply function on review column\n",
    "df_review_bal['review']=df_review_bal['review'].apply(denoise_text)\n",
    "\n",
    "df_review_bal.head()"
   ]
  },
  {
   "cell_type": "markdown",
   "id": "fddc36c2-5234-441a-ae1d-0d51869adc62",
   "metadata": {},
   "source": [
    "## Stemming text\n",
    "\n",
    "La derivación es una técnica que se utiliza para reducir una palabra flexionada hasta la raíz de la palabra. Por ejemplo, las palabras `programación`, `programador` y `programas` se pueden reducir a la raíz común de la palabra `programa`. En otras palabras, `programa` se puede utilizar como sinónimo de las tres palabras de inflexión anteriores."
   ]
  },
  {
   "cell_type": "code",
   "execution_count": 11,
   "id": "3f46c77d-78fb-4e51-a3f6-b5c375022814",
   "metadata": {
    "tags": []
   },
   "outputs": [],
   "source": [
    "#Stemming the text\n",
    "def simple_stemmer(text):\n",
    "    ps=nltk.porter.PorterStemmer()\n",
    "    text= ' '.join([ps.stem(word) for word in text.split()])\n",
    "    return text"
   ]
  },
  {
   "cell_type": "code",
   "execution_count": 12,
   "id": "a01aa008-bcf3-4559-8d18-200017a3f171",
   "metadata": {
    "tags": []
   },
   "outputs": [],
   "source": [
    "#Apply function on review column\n",
    "df_review_bal['review']=df_review_bal['review'].apply(simple_stemmer)"
   ]
  },
  {
   "cell_type": "markdown",
   "id": "8a1431a7-941d-4c3d-81d2-26b95d510f3c",
   "metadata": {},
   "source": [
    "## Stopwords\n",
    "\n",
    "`Stopwords` una palabra de parada de uso común (como “el”, “a”, “una”, “en”) que un motor de búsqueda ha sido programado para ignorar, tanto al indexar entradas para la búsqueda como al recuperarlas. como resultado de una consulta de búsqueda.\n",
    "\n",
    "No queremos que estas palabras ocupen espacio en nuestra base de datos ni que consuman un tiempo de procesamiento valioso. Para ello, podemos eliminarlas fácilmente, almacenando una lista de palabras que consideres vacías."
   ]
  },
  {
   "cell_type": "code",
   "execution_count": 13,
   "id": "3a8f573f-fbe2-44d0-9736-15dfd8dde07c",
   "metadata": {
    "tags": []
   },
   "outputs": [
    {
     "name": "stdout",
     "output_type": "stream",
     "text": [
      "{'same', 'each', \"couldn't\", 'wasn', 'when', 'if', 'then', 'too', \"shan't\", 'that', 'most', 'theirs', \"shouldn't\", 'so', 'doesn', 'once', 'a', \"mustn't\", \"mightn't\", 'or', 'is', 'didn', \"needn't\", 'ourselves', 'after', 'hers', 'his', 'as', 'now', 'yourselves', 'weren', 'mustn', 'are', 's', 'not', 'than', 'below', 'their', 'who', 'hadn', 'haven', 'in', 'off', \"didn't\", 'it', 'which', \"she's\", 'do', 're', \"hasn't\", \"hadn't\", 'she', \"wasn't\", 't', 'out', 'hasn', 'nor', 'be', 'where', 'against', \"isn't\", 'y', 'my', 'ain', \"it's\", 'me', 'up', 'themselves', 'can', \"should've\", 'has', 'these', 'both', 'on', \"aren't\", 'with', 'they', 'few', 'at', \"you've\", 'what', 'being', 'from', 'this', 'because', 'were', 'before', 'was', 'i', 'any', 'very', 'o', 'had', 'again', \"won't\", \"don't\", 'aren', 'am', 'we', \"haven't\", \"you'll\", 'he', 'about', 'ma', 'further', \"doesn't\", 'you', 'couldn', 'some', 'doing', 'above', 'own', \"that'll\", 'isn', 'there', 'herself', 'and', 'more', 'through', 'have', 'those', 'until', 'yours', 'no', 'himself', 'just', 'its', 'of', 'mightn', 'll', 'into', 'the', \"wouldn't\", 'your', 'yourself', 'but', 'other', 'by', 'itself', 'an', 'won', 'needn', 'shouldn', 'did', 'only', 'her', 'does', \"weren't\", \"you're\", 'been', 'm', \"you'd\", 'don', 'our', 'under', 'shan', 'whom', 'here', 'during', 'all', 'd', 'over', 've', 'ours', 'will', 'them', 'between', 'him', 'wouldn', 'why', 'down', 'while', 'myself', 'such', 'for', 'having', 'to', 'should', 'how'}\n"
     ]
    }
   ],
   "source": [
    "#set stopwords to english\n",
    "stop=set(stopwords.words('english'))\n",
    "print(stop)\n",
    "\n",
    "#removing the stopwords\n",
    "def remove_stopwords(text, is_lower_case=False):\n",
    "    tokens = tokenizer.tokenize(text)\n",
    "    tokens = [token.strip() for token in tokens]\n",
    "    if is_lower_case:\n",
    "        filtered_tokens = [token for token in tokens if token not in stopword_list]\n",
    "    else:\n",
    "        filtered_tokens = [token for token in tokens if token.lower() not in stopword_list]\n",
    "    filtered_text = ' '.join(filtered_tokens)    \n",
    "    return filtered_text"
   ]
  },
  {
   "cell_type": "code",
   "execution_count": 14,
   "id": "33e52bb4-ad70-4b47-9b34-6eca5833098f",
   "metadata": {
    "tags": []
   },
   "outputs": [],
   "source": [
    "#Apply function on review column\n",
    "df_review_bal['review']=df_review_bal['review'].apply(remove_stopwords)"
   ]
  },
  {
   "cell_type": "code",
   "execution_count": 15,
   "id": "25630b6a",
   "metadata": {},
   "outputs": [
    {
     "data": {
      "text/html": [
       "<div>\n",
       "<style scoped>\n",
       "    .dataframe tbody tr th:only-of-type {\n",
       "        vertical-align: middle;\n",
       "    }\n",
       "\n",
       "    .dataframe tbody tr th {\n",
       "        vertical-align: top;\n",
       "    }\n",
       "\n",
       "    .dataframe thead th {\n",
       "        text-align: right;\n",
       "    }\n",
       "</style>\n",
       "<table border=\"1\" class=\"dataframe\">\n",
       "  <thead>\n",
       "    <tr style=\"text-align: right;\">\n",
       "      <th></th>\n",
       "      <th>review</th>\n",
       "      <th>sentiment</th>\n",
       "    </tr>\n",
       "  </thead>\n",
       "  <tbody>\n",
       "    <tr>\n",
       "      <th>0</th>\n",
       "      <td>basic famili littl boy jake think zombi hi clo...</td>\n",
       "      <td>negative</td>\n",
       "    </tr>\n",
       "    <tr>\n",
       "      <th>1</th>\n",
       "      <td>thi show wa amaz fresh &amp;amp; innov idea 70 fir...</td>\n",
       "      <td>negative</td>\n",
       "    </tr>\n",
       "    <tr>\n",
       "      <th>2</th>\n",
       "      <td>encourag posit comment thi film wa look forwar...</td>\n",
       "      <td>negative</td>\n",
       "    </tr>\n",
       "    <tr>\n",
       "      <th>3</th>\n",
       "      <td>phil alien one quirki film humour base around ...</td>\n",
       "      <td>negative</td>\n",
       "    </tr>\n",
       "    <tr>\n",
       "      <th>4</th>\n",
       "      <td>saw thi movi wa 12 came recal scariest scene w...</td>\n",
       "      <td>negative</td>\n",
       "    </tr>\n",
       "    <tr>\n",
       "      <th>...</th>\n",
       "      <td>...</td>\n",
       "      <td>...</td>\n",
       "    </tr>\n",
       "    <tr>\n",
       "      <th>1995</th>\n",
       "      <td>knute rockn led extraordinari life hi stori to...</td>\n",
       "      <td>positive</td>\n",
       "    </tr>\n",
       "    <tr>\n",
       "      <th>1996</th>\n",
       "      <td>height celebr big brother racism row 2007 invo...</td>\n",
       "      <td>positive</td>\n",
       "    </tr>\n",
       "    <tr>\n",
       "      <th>1997</th>\n",
       "      <td>thi anoth robert altman underr filmslet honest...</td>\n",
       "      <td>positive</td>\n",
       "    </tr>\n",
       "    <tr>\n",
       "      <th>1998</th>\n",
       "      <td>thi movi special award cann act difficult see ...</td>\n",
       "      <td>positive</td>\n",
       "    </tr>\n",
       "    <tr>\n",
       "      <th>1999</th>\n",
       "      <td>youd forgiven think finnish director helsinki ...</td>\n",
       "      <td>positive</td>\n",
       "    </tr>\n",
       "  </tbody>\n",
       "</table>\n",
       "<p>2000 rows × 2 columns</p>\n",
       "</div>"
      ],
      "text/plain": [
       "                                                 review sentiment\n",
       "0     basic famili littl boy jake think zombi hi clo...  negative\n",
       "1     thi show wa amaz fresh &amp; innov idea 70 fir...  negative\n",
       "2     encourag posit comment thi film wa look forwar...  negative\n",
       "3     phil alien one quirki film humour base around ...  negative\n",
       "4     saw thi movi wa 12 came recal scariest scene w...  negative\n",
       "...                                                 ...       ...\n",
       "1995  knute rockn led extraordinari life hi stori to...  positive\n",
       "1996  height celebr big brother racism row 2007 invo...  positive\n",
       "1997  thi anoth robert altman underr filmslet honest...  positive\n",
       "1998  thi movi special award cann act difficult see ...  positive\n",
       "1999  youd forgiven think finnish director helsinki ...  positive\n",
       "\n",
       "[2000 rows x 2 columns]"
      ]
     },
     "execution_count": 15,
     "metadata": {},
     "output_type": "execute_result"
    }
   ],
   "source": [
    "df_review_bal"
   ]
  },
  {
   "cell_type": "markdown",
   "id": "b59b8f7a-66ea-4bfb-a95f-5c50d91d295d",
   "metadata": {
    "tags": []
   },
   "source": [
    "## Data split"
   ]
  },
  {
   "cell_type": "code",
   "execution_count": 16,
   "id": "21540ace-cb24-418d-9b31-22012307e15e",
   "metadata": {},
   "outputs": [],
   "source": [
    "X_train, X_test, y_train, y_test = train_test_split(df_review_bal[['review']],df_review_bal['sentiment'],\n",
    "                                                   test_size= 0.20, random_state= 42 )#TODO\n"
   ]
  },
  {
   "cell_type": "code",
   "execution_count": 17,
   "id": "d09b055a-72f9-4763-bc78-0f0573f474d3",
   "metadata": {},
   "outputs": [
    {
     "data": {
      "text/plain": [
       "negative    801\n",
       "positive    799\n",
       "Name: sentiment, dtype: int64"
      ]
     },
     "execution_count": 17,
     "metadata": {},
     "output_type": "execute_result"
    }
   ],
   "source": [
    "y_train.value_counts()"
   ]
  },
  {
   "cell_type": "markdown",
   "id": "7bebe98e-81c3-4ed2-b60d-a9dc068bee48",
   "metadata": {},
   "source": [
    "## Text Representation (Bag of words)\n",
    "\n",
    "Los clasificadores y algoritmos de aprendizaje esperan vectores de características numéricas en lugar de documentos de texto sin formato. Es por eso que necesitamos convertir el texto de reseñas de películas en vectores numéricos.\n",
    "\n",
    "usaremos bolsa de palabras (BOW) ya que nos importa la frecuencia de las palabras en las revisiones de texto; sin embargo, el orden de las palabras es irrelevante. Dos formas comunes de representar una bolsa de palabras son CountVectorizer y Term Frequency, Inverse Document Frequency (TF-IDF).\n",
    "\n",
    "Queremos identificar palabras únicas/representativas para reseñas positivas y negativas, por lo que elegiremos TF-IDF. Para convertir datos de texto en vectores numéricos con TF-IDF"
   ]
  },
  {
   "cell_type": "code",
   "execution_count": 125,
   "id": "15cf8fdf-97af-4ac3-a969-cbce50a37448",
   "metadata": {
    "tags": []
   },
   "outputs": [
    {
     "data": {
      "text/plain": [
       "<1600x16173 sparse matrix of type '<class 'numpy.float64'>'\n",
       "\twith 145140 stored elements in Compressed Sparse Row format>"
      ]
     },
     "execution_count": 125,
     "metadata": {},
     "output_type": "execute_result"
    }
   ],
   "source": [
    "tfidf = TfidfVectorizer(stop_words='english')\n",
    "train_x_vector = tfidf.fit_transform(X_train['review'])\n",
    "\n",
    "# also fit the test_x_vector\n",
    "test_x_vector = tfidf.transform(X_test['review'])\n",
    "train_x_vector\n"
   ]
  },
  {
   "cell_type": "code",
   "execution_count": 19,
   "id": "45c56731",
   "metadata": {},
   "outputs": [
    {
     "data": {
      "text/plain": [
       "array([[0., 0., 0., ..., 0., 0., 0.]])"
      ]
     },
     "execution_count": 19,
     "metadata": {},
     "output_type": "execute_result"
    }
   ],
   "source": [
    "\n",
    "train_x_vector[0].toarray()"
   ]
  },
  {
   "cell_type": "code",
   "execution_count": 20,
   "id": "ce6214f1",
   "metadata": {},
   "outputs": [
    {
     "data": {
      "text/html": [
       "<div>\n",
       "<style scoped>\n",
       "    .dataframe tbody tr th:only-of-type {\n",
       "        vertical-align: middle;\n",
       "    }\n",
       "\n",
       "    .dataframe tbody tr th {\n",
       "        vertical-align: top;\n",
       "    }\n",
       "\n",
       "    .dataframe thead th {\n",
       "        text-align: right;\n",
       "    }\n",
       "</style>\n",
       "<table border=\"1\" class=\"dataframe\">\n",
       "  <thead>\n",
       "    <tr style=\"text-align: right;\">\n",
       "      <th></th>\n",
       "      <th>00</th>\n",
       "      <th>000</th>\n",
       "      <th>007</th>\n",
       "      <th>02</th>\n",
       "      <th>04</th>\n",
       "      <th>08</th>\n",
       "      <th>0clock</th>\n",
       "      <th>0when</th>\n",
       "      <th>10</th>\n",
       "      <th>100</th>\n",
       "      <th>...</th>\n",
       "      <th>zoom</th>\n",
       "      <th>zue</th>\n",
       "      <th>zzzzzzzzzzzzzzzzzz</th>\n",
       "      <th>æon</th>\n",
       "      <th>élan</th>\n",
       "      <th>émigré</th>\n",
       "      <th>être</th>\n",
       "      <th>ísnt</th>\n",
       "      <th>ïn</th>\n",
       "      <th>ünfaith</th>\n",
       "    </tr>\n",
       "  </thead>\n",
       "  <tbody>\n",
       "    <tr>\n",
       "      <th>0</th>\n",
       "      <td>0.0</td>\n",
       "      <td>0.0</td>\n",
       "      <td>0.0</td>\n",
       "      <td>0.0</td>\n",
       "      <td>0.0</td>\n",
       "      <td>0.0</td>\n",
       "      <td>0.0</td>\n",
       "      <td>0.0</td>\n",
       "      <td>0.000000</td>\n",
       "      <td>0.0</td>\n",
       "      <td>...</td>\n",
       "      <td>0.0</td>\n",
       "      <td>0.0</td>\n",
       "      <td>0.0</td>\n",
       "      <td>0.0</td>\n",
       "      <td>0.0</td>\n",
       "      <td>0.0</td>\n",
       "      <td>0.0</td>\n",
       "      <td>0.0</td>\n",
       "      <td>0.0</td>\n",
       "      <td>0.0</td>\n",
       "    </tr>\n",
       "    <tr>\n",
       "      <th>1</th>\n",
       "      <td>0.0</td>\n",
       "      <td>0.0</td>\n",
       "      <td>0.0</td>\n",
       "      <td>0.0</td>\n",
       "      <td>0.0</td>\n",
       "      <td>0.0</td>\n",
       "      <td>0.0</td>\n",
       "      <td>0.0</td>\n",
       "      <td>0.026754</td>\n",
       "      <td>0.0</td>\n",
       "      <td>...</td>\n",
       "      <td>0.0</td>\n",
       "      <td>0.0</td>\n",
       "      <td>0.0</td>\n",
       "      <td>0.0</td>\n",
       "      <td>0.0</td>\n",
       "      <td>0.0</td>\n",
       "      <td>0.0</td>\n",
       "      <td>0.0</td>\n",
       "      <td>0.0</td>\n",
       "      <td>0.0</td>\n",
       "    </tr>\n",
       "    <tr>\n",
       "      <th>2</th>\n",
       "      <td>0.0</td>\n",
       "      <td>0.0</td>\n",
       "      <td>0.0</td>\n",
       "      <td>0.0</td>\n",
       "      <td>0.0</td>\n",
       "      <td>0.0</td>\n",
       "      <td>0.0</td>\n",
       "      <td>0.0</td>\n",
       "      <td>0.000000</td>\n",
       "      <td>0.0</td>\n",
       "      <td>...</td>\n",
       "      <td>0.0</td>\n",
       "      <td>0.0</td>\n",
       "      <td>0.0</td>\n",
       "      <td>0.0</td>\n",
       "      <td>0.0</td>\n",
       "      <td>0.0</td>\n",
       "      <td>0.0</td>\n",
       "      <td>0.0</td>\n",
       "      <td>0.0</td>\n",
       "      <td>0.0</td>\n",
       "    </tr>\n",
       "    <tr>\n",
       "      <th>3</th>\n",
       "      <td>0.0</td>\n",
       "      <td>0.0</td>\n",
       "      <td>0.0</td>\n",
       "      <td>0.0</td>\n",
       "      <td>0.0</td>\n",
       "      <td>0.0</td>\n",
       "      <td>0.0</td>\n",
       "      <td>0.0</td>\n",
       "      <td>0.000000</td>\n",
       "      <td>0.0</td>\n",
       "      <td>...</td>\n",
       "      <td>0.0</td>\n",
       "      <td>0.0</td>\n",
       "      <td>0.0</td>\n",
       "      <td>0.0</td>\n",
       "      <td>0.0</td>\n",
       "      <td>0.0</td>\n",
       "      <td>0.0</td>\n",
       "      <td>0.0</td>\n",
       "      <td>0.0</td>\n",
       "      <td>0.0</td>\n",
       "    </tr>\n",
       "    <tr>\n",
       "      <th>4</th>\n",
       "      <td>0.0</td>\n",
       "      <td>0.0</td>\n",
       "      <td>0.0</td>\n",
       "      <td>0.0</td>\n",
       "      <td>0.0</td>\n",
       "      <td>0.0</td>\n",
       "      <td>0.0</td>\n",
       "      <td>0.0</td>\n",
       "      <td>0.000000</td>\n",
       "      <td>0.0</td>\n",
       "      <td>...</td>\n",
       "      <td>0.0</td>\n",
       "      <td>0.0</td>\n",
       "      <td>0.0</td>\n",
       "      <td>0.0</td>\n",
       "      <td>0.0</td>\n",
       "      <td>0.0</td>\n",
       "      <td>0.0</td>\n",
       "      <td>0.0</td>\n",
       "      <td>0.0</td>\n",
       "      <td>0.0</td>\n",
       "    </tr>\n",
       "    <tr>\n",
       "      <th>...</th>\n",
       "      <td>...</td>\n",
       "      <td>...</td>\n",
       "      <td>...</td>\n",
       "      <td>...</td>\n",
       "      <td>...</td>\n",
       "      <td>...</td>\n",
       "      <td>...</td>\n",
       "      <td>...</td>\n",
       "      <td>...</td>\n",
       "      <td>...</td>\n",
       "      <td>...</td>\n",
       "      <td>...</td>\n",
       "      <td>...</td>\n",
       "      <td>...</td>\n",
       "      <td>...</td>\n",
       "      <td>...</td>\n",
       "      <td>...</td>\n",
       "      <td>...</td>\n",
       "      <td>...</td>\n",
       "      <td>...</td>\n",
       "      <td>...</td>\n",
       "    </tr>\n",
       "    <tr>\n",
       "      <th>1595</th>\n",
       "      <td>0.0</td>\n",
       "      <td>0.0</td>\n",
       "      <td>0.0</td>\n",
       "      <td>0.0</td>\n",
       "      <td>0.0</td>\n",
       "      <td>0.0</td>\n",
       "      <td>0.0</td>\n",
       "      <td>0.0</td>\n",
       "      <td>0.000000</td>\n",
       "      <td>0.0</td>\n",
       "      <td>...</td>\n",
       "      <td>0.0</td>\n",
       "      <td>0.0</td>\n",
       "      <td>0.0</td>\n",
       "      <td>0.0</td>\n",
       "      <td>0.0</td>\n",
       "      <td>0.0</td>\n",
       "      <td>0.0</td>\n",
       "      <td>0.0</td>\n",
       "      <td>0.0</td>\n",
       "      <td>0.0</td>\n",
       "    </tr>\n",
       "    <tr>\n",
       "      <th>1596</th>\n",
       "      <td>0.0</td>\n",
       "      <td>0.0</td>\n",
       "      <td>0.0</td>\n",
       "      <td>0.0</td>\n",
       "      <td>0.0</td>\n",
       "      <td>0.0</td>\n",
       "      <td>0.0</td>\n",
       "      <td>0.0</td>\n",
       "      <td>0.000000</td>\n",
       "      <td>0.0</td>\n",
       "      <td>...</td>\n",
       "      <td>0.0</td>\n",
       "      <td>0.0</td>\n",
       "      <td>0.0</td>\n",
       "      <td>0.0</td>\n",
       "      <td>0.0</td>\n",
       "      <td>0.0</td>\n",
       "      <td>0.0</td>\n",
       "      <td>0.0</td>\n",
       "      <td>0.0</td>\n",
       "      <td>0.0</td>\n",
       "    </tr>\n",
       "    <tr>\n",
       "      <th>1597</th>\n",
       "      <td>0.0</td>\n",
       "      <td>0.0</td>\n",
       "      <td>0.0</td>\n",
       "      <td>0.0</td>\n",
       "      <td>0.0</td>\n",
       "      <td>0.0</td>\n",
       "      <td>0.0</td>\n",
       "      <td>0.0</td>\n",
       "      <td>0.000000</td>\n",
       "      <td>0.0</td>\n",
       "      <td>...</td>\n",
       "      <td>0.0</td>\n",
       "      <td>0.0</td>\n",
       "      <td>0.0</td>\n",
       "      <td>0.0</td>\n",
       "      <td>0.0</td>\n",
       "      <td>0.0</td>\n",
       "      <td>0.0</td>\n",
       "      <td>0.0</td>\n",
       "      <td>0.0</td>\n",
       "      <td>0.0</td>\n",
       "    </tr>\n",
       "    <tr>\n",
       "      <th>1598</th>\n",
       "      <td>0.0</td>\n",
       "      <td>0.0</td>\n",
       "      <td>0.0</td>\n",
       "      <td>0.0</td>\n",
       "      <td>0.0</td>\n",
       "      <td>0.0</td>\n",
       "      <td>0.0</td>\n",
       "      <td>0.0</td>\n",
       "      <td>0.000000</td>\n",
       "      <td>0.0</td>\n",
       "      <td>...</td>\n",
       "      <td>0.0</td>\n",
       "      <td>0.0</td>\n",
       "      <td>0.0</td>\n",
       "      <td>0.0</td>\n",
       "      <td>0.0</td>\n",
       "      <td>0.0</td>\n",
       "      <td>0.0</td>\n",
       "      <td>0.0</td>\n",
       "      <td>0.0</td>\n",
       "      <td>0.0</td>\n",
       "    </tr>\n",
       "    <tr>\n",
       "      <th>1599</th>\n",
       "      <td>0.0</td>\n",
       "      <td>0.0</td>\n",
       "      <td>0.0</td>\n",
       "      <td>0.0</td>\n",
       "      <td>0.0</td>\n",
       "      <td>0.0</td>\n",
       "      <td>0.0</td>\n",
       "      <td>0.0</td>\n",
       "      <td>0.000000</td>\n",
       "      <td>0.0</td>\n",
       "      <td>...</td>\n",
       "      <td>0.0</td>\n",
       "      <td>0.0</td>\n",
       "      <td>0.0</td>\n",
       "      <td>0.0</td>\n",
       "      <td>0.0</td>\n",
       "      <td>0.0</td>\n",
       "      <td>0.0</td>\n",
       "      <td>0.0</td>\n",
       "      <td>0.0</td>\n",
       "      <td>0.0</td>\n",
       "    </tr>\n",
       "  </tbody>\n",
       "</table>\n",
       "<p>1600 rows × 16173 columns</p>\n",
       "</div>"
      ],
      "text/plain": [
       "       00  000  007   02   04   08  0clock  0when        10  100  ...  zoom  \\\n",
       "0     0.0  0.0  0.0  0.0  0.0  0.0     0.0    0.0  0.000000  0.0  ...   0.0   \n",
       "1     0.0  0.0  0.0  0.0  0.0  0.0     0.0    0.0  0.026754  0.0  ...   0.0   \n",
       "2     0.0  0.0  0.0  0.0  0.0  0.0     0.0    0.0  0.000000  0.0  ...   0.0   \n",
       "3     0.0  0.0  0.0  0.0  0.0  0.0     0.0    0.0  0.000000  0.0  ...   0.0   \n",
       "4     0.0  0.0  0.0  0.0  0.0  0.0     0.0    0.0  0.000000  0.0  ...   0.0   \n",
       "...   ...  ...  ...  ...  ...  ...     ...    ...       ...  ...  ...   ...   \n",
       "1595  0.0  0.0  0.0  0.0  0.0  0.0     0.0    0.0  0.000000  0.0  ...   0.0   \n",
       "1596  0.0  0.0  0.0  0.0  0.0  0.0     0.0    0.0  0.000000  0.0  ...   0.0   \n",
       "1597  0.0  0.0  0.0  0.0  0.0  0.0     0.0    0.0  0.000000  0.0  ...   0.0   \n",
       "1598  0.0  0.0  0.0  0.0  0.0  0.0     0.0    0.0  0.000000  0.0  ...   0.0   \n",
       "1599  0.0  0.0  0.0  0.0  0.0  0.0     0.0    0.0  0.000000  0.0  ...   0.0   \n",
       "\n",
       "      zue  zzzzzzzzzzzzzzzzzz  æon  élan  émigré  être  ísnt   ïn  ünfaith  \n",
       "0     0.0                 0.0  0.0   0.0     0.0   0.0   0.0  0.0      0.0  \n",
       "1     0.0                 0.0  0.0   0.0     0.0   0.0   0.0  0.0      0.0  \n",
       "2     0.0                 0.0  0.0   0.0     0.0   0.0   0.0  0.0      0.0  \n",
       "3     0.0                 0.0  0.0   0.0     0.0   0.0   0.0  0.0      0.0  \n",
       "4     0.0                 0.0  0.0   0.0     0.0   0.0   0.0  0.0      0.0  \n",
       "...   ...                 ...  ...   ...     ...   ...   ...  ...      ...  \n",
       "1595  0.0                 0.0  0.0   0.0     0.0   0.0   0.0  0.0      0.0  \n",
       "1596  0.0                 0.0  0.0   0.0     0.0   0.0   0.0  0.0      0.0  \n",
       "1597  0.0                 0.0  0.0   0.0     0.0   0.0   0.0  0.0      0.0  \n",
       "1598  0.0                 0.0  0.0   0.0     0.0   0.0   0.0  0.0      0.0  \n",
       "1599  0.0                 0.0  0.0   0.0     0.0   0.0   0.0  0.0      0.0  \n",
       "\n",
       "[1600 rows x 16173 columns]"
      ]
     },
     "execution_count": 20,
     "metadata": {},
     "output_type": "execute_result"
    }
   ],
   "source": [
    "train_x_df = pd.DataFrame(train_x_vector.toarray(), columns=tfidf.get_feature_names_out())\n",
    "train_x_df\n"
   ]
  },
  {
   "cell_type": "markdown",
   "id": "2139337b-6068-470c-a74d-c209345e061d",
   "metadata": {
    "tags": []
   },
   "source": [
    "## Entrenamiento modelo definitivo"
   ]
  },
  {
   "cell_type": "code",
   "execution_count": 21,
   "id": "656e9e1f",
   "metadata": {},
   "outputs": [],
   "source": [
    "le = LabelEncoder()\n",
    "y_train = le.fit_transform(y_train)\n",
    "y_test = le.fit_transform(y_test)\n"
   ]
  },
  {
   "cell_type": "code",
   "execution_count": 71,
   "id": "944066b4",
   "metadata": {},
   "outputs": [],
   "source": [
    "X_training, X_val, y_training, y_val = train_test_split(train_x_df, y_train,\n",
    "                                                   test_size= 0.20, random_state= 42 )"
   ]
  },
  {
   "cell_type": "code",
   "execution_count": 102,
   "id": "0311ea7c",
   "metadata": {},
   "outputs": [],
   "source": [
    "model_logr = {}\n",
    "for i in range(1,50,2):\n",
    "    nombre = f'C{i}'\n",
    "    model_logr[nombre] = LogisticRegression(C=i)"
   ]
  },
  {
   "cell_type": "code",
   "execution_count": 103,
   "id": "11bc2edf",
   "metadata": {
    "scrolled": true
   },
   "outputs": [
    {
     "data": {
      "text/plain": [
       "{'C1': LogisticRegression(C=1),\n",
       " 'C3': LogisticRegression(C=3),\n",
       " 'C5': LogisticRegression(C=5),\n",
       " 'C7': LogisticRegression(C=7),\n",
       " 'C9': LogisticRegression(C=9),\n",
       " 'C11': LogisticRegression(C=11),\n",
       " 'C13': LogisticRegression(C=13),\n",
       " 'C15': LogisticRegression(C=15),\n",
       " 'C17': LogisticRegression(C=17),\n",
       " 'C19': LogisticRegression(C=19),\n",
       " 'C21': LogisticRegression(C=21),\n",
       " 'C23': LogisticRegression(C=23),\n",
       " 'C25': LogisticRegression(C=25),\n",
       " 'C27': LogisticRegression(C=27),\n",
       " 'C29': LogisticRegression(C=29),\n",
       " 'C31': LogisticRegression(C=31),\n",
       " 'C33': LogisticRegression(C=33),\n",
       " 'C35': LogisticRegression(C=35),\n",
       " 'C37': LogisticRegression(C=37),\n",
       " 'C39': LogisticRegression(C=39),\n",
       " 'C41': LogisticRegression(C=41),\n",
       " 'C43': LogisticRegression(C=43),\n",
       " 'C45': LogisticRegression(C=45),\n",
       " 'C47': LogisticRegression(C=47),\n",
       " 'C49': LogisticRegression(C=49)}"
      ]
     },
     "execution_count": 103,
     "metadata": {},
     "output_type": "execute_result"
    }
   ],
   "source": [
    "model_logr"
   ]
  },
  {
   "cell_type": "code",
   "execution_count": 104,
   "id": "0ffc1461",
   "metadata": {},
   "outputs": [],
   "source": [
    "error_train = model_logr.copy()\n",
    "error_val = model_logr.copy()"
   ]
  },
  {
   "cell_type": "code",
   "execution_count": 105,
   "id": "48b2c359",
   "metadata": {},
   "outputs": [],
   "source": [
    "for nombre,modelo in model_logr.items():\n",
    "    model_logr[nombre].fit(X_training, y_training)\n",
    "    y_training_pred = model_logr[nombre].predict(X_training)\n",
    "    y_val_pred = model_logr[nombre].predict(X_val)\n",
    "    error_train[nombre] = metrics.f1_score(y_training, y_training_pred)\n",
    "    error_val[nombre] = metrics.f1_score(y_val, y_val_pred)"
   ]
  },
  {
   "cell_type": "code",
   "execution_count": 106,
   "id": "1c9b724c",
   "metadata": {},
   "outputs": [
    {
     "data": {
      "text/plain": [
       "<matplotlib.legend.Legend at 0x21139ad8700>"
      ]
     },
     "execution_count": 106,
     "metadata": {},
     "output_type": "execute_result"
    },
    {
     "data": {
      "image/png": "[encoded data removed]",
      "text/plain": [
       "<Figure size 640x480 with 1 Axes>"
      ]
     },
     "metadata": {},
     "output_type": "display_data"
    }
   ],
   "source": [
    "plt.plot(list(range(1,50,2)), error_train.values(), label='Train')\n",
    "plt.plot(list(range(1,50,2)), error_val.values(), label='Val')\n",
    "plt.legend()"
   ]
  },
  {
   "cell_type": "code",
   "execution_count": 108,
   "id": "cab91668",
   "metadata": {},
   "outputs": [
    {
     "data": {
      "text/plain": [
       "(0.7806451612903226, 0.7781350482315113)"
      ]
     },
     "execution_count": 108,
     "metadata": {},
     "output_type": "execute_result"
    }
   ],
   "source": [
    "error_val['C7'], error_val['C9']"
   ]
  },
  {
   "cell_type": "code",
   "execution_count": null,
   "id": "c19260bf",
   "metadata": {},
   "outputs": [],
   "source": [
    "model_arboles = {}\n",
    "for i in range(1,40,2):\n",
    "    nombre = f'DT_depth{i}'\n",
    "    model_arboles[nombre] = DecisionTreeClassifier(max_depth=i)"
   ]
  },
  {
   "cell_type": "code",
   "execution_count": 73,
   "id": "bbf9c4be",
   "metadata": {},
   "outputs": [
    {
     "data": {
      "text/plain": [
       "{'DT_depth1': DecisionTreeClassifier(max_depth=1),\n",
       " 'DT_depth3': DecisionTreeClassifier(max_depth=3),\n",
       " 'DT_depth5': DecisionTreeClassifier(max_depth=5),\n",
       " 'DT_depth7': DecisionTreeClassifier(max_depth=7),\n",
       " 'DT_depth9': DecisionTreeClassifier(max_depth=9),\n",
       " 'DT_depth11': DecisionTreeClassifier(max_depth=11),\n",
       " 'DT_depth13': DecisionTreeClassifier(max_depth=13),\n",
       " 'DT_depth15': DecisionTreeClassifier(max_depth=15),\n",
       " 'DT_depth17': DecisionTreeClassifier(max_depth=17),\n",
       " 'DT_depth19': DecisionTreeClassifier(max_depth=19),\n",
       " 'DT_depth21': DecisionTreeClassifier(max_depth=21),\n",
       " 'DT_depth23': DecisionTreeClassifier(max_depth=23),\n",
       " 'DT_depth25': DecisionTreeClassifier(max_depth=25),\n",
       " 'DT_depth27': DecisionTreeClassifier(max_depth=27),\n",
       " 'DT_depth29': DecisionTreeClassifier(max_depth=29),\n",
       " 'DT_depth31': DecisionTreeClassifier(max_depth=31),\n",
       " 'DT_depth33': DecisionTreeClassifier(max_depth=33),\n",
       " 'DT_depth35': DecisionTreeClassifier(max_depth=35),\n",
       " 'DT_depth37': DecisionTreeClassifier(max_depth=37),\n",
       " 'DT_depth39': DecisionTreeClassifier(max_depth=39)}"
      ]
     },
     "execution_count": 73,
     "metadata": {},
     "output_type": "execute_result"
    }
   ],
   "source": [
    "model_arboles"
   ]
  },
  {
   "cell_type": "code",
   "execution_count": 74,
   "id": "a5b3b250",
   "metadata": {},
   "outputs": [],
   "source": [
    "error_train = model_arboles.copy()\n",
    "error_val = model_arboles.copy()"
   ]
  },
  {
   "cell_type": "code",
   "execution_count": 75,
   "id": "bc5eaa78",
   "metadata": {},
   "outputs": [],
   "source": [
    "for nombre,modelo in model_arboles.items():\n",
    "    model_arboles[nombre].fit(X_training, y_training)\n",
    "    y_training_pred = model_arboles[nombre].predict(X_training)\n",
    "    y_val_pred = model_arboles[nombre].predict(X_val)\n",
    "    error_train[nombre] = metrics.f1_score(y_training, y_training_pred)\n",
    "    error_val[nombre] = metrics.f1_score(y_val, y_val_pred)"
   ]
  },
  {
   "cell_type": "code",
   "execution_count": 76,
   "id": "a6f0a507",
   "metadata": {},
   "outputs": [
    {
     "data": {
      "text/plain": [
       "<matplotlib.legend.Legend at 0x2113b5b3eb0>"
      ]
     },
     "execution_count": 76,
     "metadata": {},
     "output_type": "execute_result"
    },
    {
     "data": {
      "image/png": "[encoded data removed]",
      "text/plain": [
       "<Figure size 640x480 with 1 Axes>"
      ]
     },
     "metadata": {},
     "output_type": "display_data"
    }
   ],
   "source": [
    "plt.plot(list(range(1,40,2)), error_train.values(), label='Train')\n",
    "plt.plot(list(range(1,40,2)), error_val.values(), label='Val')\n",
    "plt.legend()"
   ]
  },
  {
   "cell_type": "code",
   "execution_count": 78,
   "id": "f0766683",
   "metadata": {},
   "outputs": [
    {
     "data": {
      "text/plain": [
       "(0.6862170087976539, 0.6606606606606608)"
      ]
     },
     "execution_count": 78,
     "metadata": {},
     "output_type": "execute_result"
    }
   ],
   "source": [
    "error_val['DT_depth7'], error_val['DT_depth9']"
   ]
  },
  {
   "cell_type": "code",
   "execution_count": 79,
   "id": "8c71289f",
   "metadata": {},
   "outputs": [],
   "source": [
    "algoritmos = {'DT' : DecisionTreeClassifier(max_depth=7),\n",
    "              'LOGR': LogisticRegression()}"
   ]
  },
  {
   "cell_type": "code",
   "execution_count": 80,
   "id": "59669d76",
   "metadata": {},
   "outputs": [],
   "source": [
    "# Validacion\n",
    "y_pred = {}\n",
    "for nombre,modelo in algoritmos.items():\n",
    "    y_pred[nombre] = cross_val_predict(modelo, \n",
    "                           train_x_df, \n",
    "                           y_train, \n",
    "                           cv = KFold(n_splits=2, \n",
    "                                      shuffle=True, \n",
    "                                      random_state=42,\n",
    "                                     ) , n_jobs=-1) \n"
   ]
  },
  {
   "cell_type": "code",
   "execution_count": 81,
   "id": "be1df565",
   "metadata": {},
   "outputs": [
    {
     "data": {
      "text/plain": [
       "{'DT': array([1, 0, 0, ..., 0, 1, 1]), 'LOGR': array([0, 0, 0, ..., 0, 1, 1])}"
      ]
     },
     "execution_count": 81,
     "metadata": {},
     "output_type": "execute_result"
    }
   ],
   "source": [
    "y_pred"
   ]
  },
  {
   "cell_type": "code",
   "execution_count": 82,
   "id": "90fb558c",
   "metadata": {},
   "outputs": [
    {
     "name": "stdout",
     "output_type": "stream",
     "text": [
      "{'DT': 0.663125, 'LOGR': 0.79125}\n"
     ]
    }
   ],
   "source": [
    "metricas = algoritmos.copy()\n",
    "for nombre in metricas.keys():\n",
    "    metricas[nombre] = metrics.accuracy_score(y_train, y_pred[nombre])\n",
    "    \n",
    "print(metricas)"
   ]
  },
  {
   "cell_type": "code",
   "execution_count": 42,
   "id": "c1095999",
   "metadata": {},
   "outputs": [],
   "source": [
    "#OTROS ALGORITMOS\n",
    "\n",
    "algoritmos = {'SVM': svm.SVC(C=10, random_state=42, probability=True),\n",
    "              'DT' : DecisionTreeClassifier(),\n",
    "              'LOGR': LogisticRegression()}"
   ]
  },
  {
   "cell_type": "code",
   "execution_count": 43,
   "id": "244dc3a7",
   "metadata": {},
   "outputs": [],
   "source": [
    "# Validacion\n",
    "y_pred = {}\n",
    "for nombre,modelo in algoritmos.items():\n",
    "    y_pred[nombre] = cross_val_predict(modelo, \n",
    "                           train_x_df, \n",
    "                           y_train, \n",
    "                           cv = KFold(n_splits=2, \n",
    "                                      shuffle=True, \n",
    "                                      random_state=42,\n",
    "                                     ) , n_jobs=-1) \n"
   ]
  },
  {
   "cell_type": "code",
   "execution_count": 44,
   "id": "7004fd8a",
   "metadata": {},
   "outputs": [
    {
     "data": {
      "text/plain": [
       "{'SVM': array([0, 0, 0, ..., 0, 1, 1]),\n",
       " 'DT': array([0, 0, 0, ..., 1, 1, 1]),\n",
       " 'LOGR': array([0, 0, 0, ..., 0, 1, 1])}"
      ]
     },
     "execution_count": 44,
     "metadata": {},
     "output_type": "execute_result"
    }
   ],
   "source": [
    "y_pred"
   ]
  },
  {
   "cell_type": "code",
   "execution_count": 46,
   "id": "638ca2fd",
   "metadata": {},
   "outputs": [
    {
     "name": "stdout",
     "output_type": "stream",
     "text": [
      "{'SVM': 0.79875, 'DT': 0.68, 'LOGR': 0.79125}\n"
     ]
    }
   ],
   "source": [
    "metricas = algoritmos.copy()\n",
    "for nombre in metricas.keys():\n",
    "    metricas[nombre] = metrics.accuracy_score(y_train, y_pred[nombre])\n",
    "    \n",
    "print(metricas)"
   ]
  },
  {
   "cell_type": "code",
   "execution_count": 122,
   "id": "adf80e20-dd02-4ee9-ba7f-40255d35a537",
   "metadata": {},
   "outputs": [
    {
     "data": {
      "text/html": [
       "<style>#sk-container-id-6 {color: black;background-color: white;}#sk-container-id-6 pre{padding: 0;}#sk-container-id-6 div.sk-toggleable {background-color: white;}#sk-container-id-6 label.sk-toggleable__label {cursor: pointer;display: block;width: 100%;margin-bottom: 0;padding: 0.3em;box-sizing: border-box;text-align: center;}#sk-container-id-6 label.sk-toggleable__label-arrow:before {content: \"▸\";float: left;margin-right: 0.25em;color: #696969;}#sk-container-id-6 label.sk-toggleable__label-arrow:hover:before {color: black;}#sk-container-id-6 div.sk-estimator:hover label.sk-toggleable__label-arrow:before {color: black;}#sk-container-id-6 div.sk-toggleable__content {max-height: 0;max-width: 0;overflow: hidden;text-align: left;background-color: #f0f8ff;}#sk-container-id-6 div.sk-toggleable__content pre {margin: 0.2em;color: black;border-radius: 0.25em;background-color: #f0f8ff;}#sk-container-id-6 input.sk-toggleable__control:checked~div.sk-toggleable__content {max-height: 200px;max-width: 100%;overflow: auto;}#sk-container-id-6 input.sk-toggleable__control:checked~label.sk-toggleable__label-arrow:before {content: \"▾\";}#sk-container-id-6 div.sk-estimator input.sk-toggleable__control:checked~label.sk-toggleable__label {background-color: #d4ebff;}#sk-container-id-6 div.sk-label input.sk-toggleable__control:checked~label.sk-toggleable__label {background-color: #d4ebff;}#sk-container-id-6 input.sk-hidden--visually {border: 0;clip: rect(1px 1px 1px 1px);clip: rect(1px, 1px, 1px, 1px);height: 1px;margin: -1px;overflow: hidden;padding: 0;position: absolute;width: 1px;}#sk-container-id-6 div.sk-estimator {font-family: monospace;background-color: #f0f8ff;border: 1px dotted black;border-radius: 0.25em;box-sizing: border-box;margin-bottom: 0.5em;}#sk-container-id-6 div.sk-estimator:hover {background-color: #d4ebff;}#sk-container-id-6 div.sk-parallel-item::after {content: \"\";width: 100%;border-bottom: 1px solid gray;flex-grow: 1;}#sk-container-id-6 div.sk-label:hover label.sk-toggleable__label {background-color: #d4ebff;}#sk-container-id-6 div.sk-serial::before {content: \"\";position: absolute;border-left: 1px solid gray;box-sizing: border-box;top: 0;bottom: 0;left: 50%;z-index: 0;}#sk-container-id-6 div.sk-serial {display: flex;flex-direction: column;align-items: center;background-color: white;padding-right: 0.2em;padding-left: 0.2em;position: relative;}#sk-container-id-6 div.sk-item {position: relative;z-index: 1;}#sk-container-id-6 div.sk-parallel {display: flex;align-items: stretch;justify-content: center;background-color: white;position: relative;}#sk-container-id-6 div.sk-item::before, #sk-container-id-6 div.sk-parallel-item::before {content: \"\";position: absolute;border-left: 1px solid gray;box-sizing: border-box;top: 0;bottom: 0;left: 50%;z-index: -1;}#sk-container-id-6 div.sk-parallel-item {display: flex;flex-direction: column;z-index: 1;position: relative;background-color: white;}#sk-container-id-6 div.sk-parallel-item:first-child::after {align-self: flex-end;width: 50%;}#sk-container-id-6 div.sk-parallel-item:last-child::after {align-self: flex-start;width: 50%;}#sk-container-id-6 div.sk-parallel-item:only-child::after {width: 0;}#sk-container-id-6 div.sk-dashed-wrapped {border: 1px dashed gray;margin: 0 0.4em 0.5em 0.4em;box-sizing: border-box;padding-bottom: 0.4em;background-color: white;}#sk-container-id-6 div.sk-label label {font-family: monospace;font-weight: bold;display: inline-block;line-height: 1.2em;}#sk-container-id-6 div.sk-label-container {text-align: center;}#sk-container-id-6 div.sk-container {/* jupyter's `normalize.less` sets `[hidden] { display: none; }` but bootstrap.min.css set `[hidden] { display: none !important; }` so we also need the `!important` here to be able to override the default hidden behavior on the sphinx rendered scikit-learn.org. See: https://github.com/scikit-learn/scikit-learn/issues/21755 */display: inline-block !important;position: relative;}#sk-container-id-6 div.sk-text-repr-fallback {display: none;}</style><div id=\"sk-container-id-6\" class=\"sk-top-container\"><div class=\"sk-text-repr-fallback\"><pre>LogisticRegression(C=7)</pre><b>In a Jupyter environment, please rerun this cell to show the HTML representation or trust the notebook. <br />On GitHub, the HTML representation is unable to render, please try loading this page with nbviewer.org.</b></div><div class=\"sk-container\" hidden><div class=\"sk-item\"><div class=\"sk-estimator sk-toggleable\"><input class=\"sk-toggleable__control sk-hidden--visually\" id=\"sk-estimator-id-6\" type=\"checkbox\" checked><label for=\"sk-estimator-id-6\" class=\"sk-toggleable__label sk-toggleable__label-arrow\">LogisticRegression</label><div class=\"sk-toggleable__content\"><pre>LogisticRegression(C=7)</pre></div></div></div></div></div>"
      ],
      "text/plain": [
       "LogisticRegression(C=7)"
      ]
     },
     "execution_count": 122,
     "metadata": {},
     "output_type": "execute_result"
    }
   ],
   "source": [
    "# TODO\n",
    "model = LogisticRegression(C=7)\n",
    "model.fit(train_x_df, y_train)"
   ]
  },
  {
   "cell_type": "code",
   "execution_count": 110,
   "id": "6be2feed-529a-4cf0-80df-cfef1858d490",
   "metadata": {},
   "outputs": [
    {
     "name": "stdout",
     "output_type": "stream",
     "text": [
      "[1]\n",
      "[1]\n",
      "[0]\n"
     ]
    }
   ],
   "source": [
    "# Testeamos el modelo\n",
    "print(model.predict(tfidf.transform(['A good movie'])))\n",
    "print(model.predict(tfidf.transform(['An excellent movie'])))\n",
    "print(model.predict(tfidf.transform(['I did not like this movie at all I gave this movie away'])))"
   ]
  },
  {
   "cell_type": "code",
   "execution_count": 111,
   "id": "4a500931-3f84-46b1-90bd-1ddc276ed4c6",
   "metadata": {
    "tags": []
   },
   "outputs": [
    {
     "data": {
      "text/html": [
       "<style>#sk-container-id-3 {color: black;background-color: white;}#sk-container-id-3 pre{padding: 0;}#sk-container-id-3 div.sk-toggleable {background-color: white;}#sk-container-id-3 label.sk-toggleable__label {cursor: pointer;display: block;width: 100%;margin-bottom: 0;padding: 0.3em;box-sizing: border-box;text-align: center;}#sk-container-id-3 label.sk-toggleable__label-arrow:before {content: \"▸\";float: left;margin-right: 0.25em;color: #696969;}#sk-container-id-3 label.sk-toggleable__label-arrow:hover:before {color: black;}#sk-container-id-3 div.sk-estimator:hover label.sk-toggleable__label-arrow:before {color: black;}#sk-container-id-3 div.sk-toggleable__content {max-height: 0;max-width: 0;overflow: hidden;text-align: left;background-color: #f0f8ff;}#sk-container-id-3 div.sk-toggleable__content pre {margin: 0.2em;color: black;border-radius: 0.25em;background-color: #f0f8ff;}#sk-container-id-3 input.sk-toggleable__control:checked~div.sk-toggleable__content {max-height: 200px;max-width: 100%;overflow: auto;}#sk-container-id-3 input.sk-toggleable__control:checked~label.sk-toggleable__label-arrow:before {content: \"▾\";}#sk-container-id-3 div.sk-estimator input.sk-toggleable__control:checked~label.sk-toggleable__label {background-color: #d4ebff;}#sk-container-id-3 div.sk-label input.sk-toggleable__control:checked~label.sk-toggleable__label {background-color: #d4ebff;}#sk-container-id-3 input.sk-hidden--visually {border: 0;clip: rect(1px 1px 1px 1px);clip: rect(1px, 1px, 1px, 1px);height: 1px;margin: -1px;overflow: hidden;padding: 0;position: absolute;width: 1px;}#sk-container-id-3 div.sk-estimator {font-family: monospace;background-color: #f0f8ff;border: 1px dotted black;border-radius: 0.25em;box-sizing: border-box;margin-bottom: 0.5em;}#sk-container-id-3 div.sk-estimator:hover {background-color: #d4ebff;}#sk-container-id-3 div.sk-parallel-item::after {content: \"\";width: 100%;border-bottom: 1px solid gray;flex-grow: 1;}#sk-container-id-3 div.sk-label:hover label.sk-toggleable__label {background-color: #d4ebff;}#sk-container-id-3 div.sk-serial::before {content: \"\";position: absolute;border-left: 1px solid gray;box-sizing: border-box;top: 0;bottom: 0;left: 50%;z-index: 0;}#sk-container-id-3 div.sk-serial {display: flex;flex-direction: column;align-items: center;background-color: white;padding-right: 0.2em;padding-left: 0.2em;position: relative;}#sk-container-id-3 div.sk-item {position: relative;z-index: 1;}#sk-container-id-3 div.sk-parallel {display: flex;align-items: stretch;justify-content: center;background-color: white;position: relative;}#sk-container-id-3 div.sk-item::before, #sk-container-id-3 div.sk-parallel-item::before {content: \"\";position: absolute;border-left: 1px solid gray;box-sizing: border-box;top: 0;bottom: 0;left: 50%;z-index: -1;}#sk-container-id-3 div.sk-parallel-item {display: flex;flex-direction: column;z-index: 1;position: relative;background-color: white;}#sk-container-id-3 div.sk-parallel-item:first-child::after {align-self: flex-end;width: 50%;}#sk-container-id-3 div.sk-parallel-item:last-child::after {align-self: flex-start;width: 50%;}#sk-container-id-3 div.sk-parallel-item:only-child::after {width: 0;}#sk-container-id-3 div.sk-dashed-wrapped {border: 1px dashed gray;margin: 0 0.4em 0.5em 0.4em;box-sizing: border-box;padding-bottom: 0.4em;background-color: white;}#sk-container-id-3 div.sk-label label {font-family: monospace;font-weight: bold;display: inline-block;line-height: 1.2em;}#sk-container-id-3 div.sk-label-container {text-align: center;}#sk-container-id-3 div.sk-container {/* jupyter's `normalize.less` sets `[hidden] { display: none; }` but bootstrap.min.css set `[hidden] { display: none !important; }` so we also need the `!important` here to be able to override the default hidden behavior on the sphinx rendered scikit-learn.org. See: https://github.com/scikit-learn/scikit-learn/issues/21755 */display: inline-block !important;position: relative;}#sk-container-id-3 div.sk-text-repr-fallback {display: none;}</style><div id=\"sk-container-id-3\" class=\"sk-top-container\"><div class=\"sk-text-repr-fallback\"><pre>DecisionTreeClassifier(max_depth=7)</pre><b>In a Jupyter environment, please rerun this cell to show the HTML representation or trust the notebook. <br />On GitHub, the HTML representation is unable to render, please try loading this page with nbviewer.org.</b></div><div class=\"sk-container\" hidden><div class=\"sk-item\"><div class=\"sk-estimator sk-toggleable\"><input class=\"sk-toggleable__control sk-hidden--visually\" id=\"sk-estimator-id-3\" type=\"checkbox\" checked><label for=\"sk-estimator-id-3\" class=\"sk-toggleable__label sk-toggleable__label-arrow\">DecisionTreeClassifier</label><div class=\"sk-toggleable__content\"><pre>DecisionTreeClassifier(max_depth=7)</pre></div></div></div></div></div>"
      ],
      "text/plain": [
       "DecisionTreeClassifier(max_depth=7)"
      ]
     },
     "execution_count": 111,
     "metadata": {},
     "output_type": "execute_result"
    }
   ],
   "source": [
    "# TODO\n",
    "model = DecisionTreeClassifier(max_depth=7)\n",
    "model.fit(train_x_df, y_train)"
   ]
  },
  {
   "cell_type": "code",
   "execution_count": 112,
   "id": "e0b6eb37-b3fe-40fc-9632-ed6ba9e3bf06",
   "metadata": {
    "tags": []
   },
   "outputs": [
    {
     "name": "stdout",
     "output_type": "stream",
     "text": [
      "[1]\n",
      "[1]\n",
      "[1]\n"
     ]
    }
   ],
   "source": [
    "# Testeamos el modelo\n",
    "print(model.predict(tfidf.transform(['A good movie'])))\n",
    "print(model.predict(tfidf.transform(['An excellent movie'])))\n",
    "print(model.predict(tfidf.transform(['I did not like this movie at all I gave this movie away'])))"
   ]
  },
  {
   "cell_type": "code",
   "execution_count": 115,
   "id": "7002c72e-62e0-4e84-871b-75588f4d5dbe",
   "metadata": {
    "tags": []
   },
   "outputs": [
    {
     "data": {
      "text/html": [
       "<style>#sk-container-id-5 {color: black;background-color: white;}#sk-container-id-5 pre{padding: 0;}#sk-container-id-5 div.sk-toggleable {background-color: white;}#sk-container-id-5 label.sk-toggleable__label {cursor: pointer;display: block;width: 100%;margin-bottom: 0;padding: 0.3em;box-sizing: border-box;text-align: center;}#sk-container-id-5 label.sk-toggleable__label-arrow:before {content: \"▸\";float: left;margin-right: 0.25em;color: #696969;}#sk-container-id-5 label.sk-toggleable__label-arrow:hover:before {color: black;}#sk-container-id-5 div.sk-estimator:hover label.sk-toggleable__label-arrow:before {color: black;}#sk-container-id-5 div.sk-toggleable__content {max-height: 0;max-width: 0;overflow: hidden;text-align: left;background-color: #f0f8ff;}#sk-container-id-5 div.sk-toggleable__content pre {margin: 0.2em;color: black;border-radius: 0.25em;background-color: #f0f8ff;}#sk-container-id-5 input.sk-toggleable__control:checked~div.sk-toggleable__content {max-height: 200px;max-width: 100%;overflow: auto;}#sk-container-id-5 input.sk-toggleable__control:checked~label.sk-toggleable__label-arrow:before {content: \"▾\";}#sk-container-id-5 div.sk-estimator input.sk-toggleable__control:checked~label.sk-toggleable__label {background-color: #d4ebff;}#sk-container-id-5 div.sk-label input.sk-toggleable__control:checked~label.sk-toggleable__label {background-color: #d4ebff;}#sk-container-id-5 input.sk-hidden--visually {border: 0;clip: rect(1px 1px 1px 1px);clip: rect(1px, 1px, 1px, 1px);height: 1px;margin: -1px;overflow: hidden;padding: 0;position: absolute;width: 1px;}#sk-container-id-5 div.sk-estimator {font-family: monospace;background-color: #f0f8ff;border: 1px dotted black;border-radius: 0.25em;box-sizing: border-box;margin-bottom: 0.5em;}#sk-container-id-5 div.sk-estimator:hover {background-color: #d4ebff;}#sk-container-id-5 div.sk-parallel-item::after {content: \"\";width: 100%;border-bottom: 1px solid gray;flex-grow: 1;}#sk-container-id-5 div.sk-label:hover label.sk-toggleable__label {background-color: #d4ebff;}#sk-container-id-5 div.sk-serial::before {content: \"\";position: absolute;border-left: 1px solid gray;box-sizing: border-box;top: 0;bottom: 0;left: 50%;z-index: 0;}#sk-container-id-5 div.sk-serial {display: flex;flex-direction: column;align-items: center;background-color: white;padding-right: 0.2em;padding-left: 0.2em;position: relative;}#sk-container-id-5 div.sk-item {position: relative;z-index: 1;}#sk-container-id-5 div.sk-parallel {display: flex;align-items: stretch;justify-content: center;background-color: white;position: relative;}#sk-container-id-5 div.sk-item::before, #sk-container-id-5 div.sk-parallel-item::before {content: \"\";position: absolute;border-left: 1px solid gray;box-sizing: border-box;top: 0;bottom: 0;left: 50%;z-index: -1;}#sk-container-id-5 div.sk-parallel-item {display: flex;flex-direction: column;z-index: 1;position: relative;background-color: white;}#sk-container-id-5 div.sk-parallel-item:first-child::after {align-self: flex-end;width: 50%;}#sk-container-id-5 div.sk-parallel-item:last-child::after {align-self: flex-start;width: 50%;}#sk-container-id-5 div.sk-parallel-item:only-child::after {width: 0;}#sk-container-id-5 div.sk-dashed-wrapped {border: 1px dashed gray;margin: 0 0.4em 0.5em 0.4em;box-sizing: border-box;padding-bottom: 0.4em;background-color: white;}#sk-container-id-5 div.sk-label label {font-family: monospace;font-weight: bold;display: inline-block;line-height: 1.2em;}#sk-container-id-5 div.sk-label-container {text-align: center;}#sk-container-id-5 div.sk-container {/* jupyter's `normalize.less` sets `[hidden] { display: none; }` but bootstrap.min.css set `[hidden] { display: none !important; }` so we also need the `!important` here to be able to override the default hidden behavior on the sphinx rendered scikit-learn.org. See: https://github.com/scikit-learn/scikit-learn/issues/21755 */display: inline-block !important;position: relative;}#sk-container-id-5 div.sk-text-repr-fallback {display: none;}</style><div id=\"sk-container-id-5\" class=\"sk-top-container\"><div class=\"sk-text-repr-fallback\"><pre>SVC(C=10, probability=True, random_state=42)</pre><b>In a Jupyter environment, please rerun this cell to show the HTML representation or trust the notebook. <br />On GitHub, the HTML representation is unable to render, please try loading this page with nbviewer.org.</b></div><div class=\"sk-container\" hidden><div class=\"sk-item\"><div class=\"sk-estimator sk-toggleable\"><input class=\"sk-toggleable__control sk-hidden--visually\" id=\"sk-estimator-id-5\" type=\"checkbox\" checked><label for=\"sk-estimator-id-5\" class=\"sk-toggleable__label sk-toggleable__label-arrow\">SVC</label><div class=\"sk-toggleable__content\"><pre>SVC(C=10, probability=True, random_state=42)</pre></div></div></div></div></div>"
      ],
      "text/plain": [
       "SVC(C=10, probability=True, random_state=42)"
      ]
     },
     "execution_count": 115,
     "metadata": {},
     "output_type": "execute_result"
    }
   ],
   "source": [
    "# TODO\n",
    "model = svm.SVC(C=10, random_state=42, probability=True)\n",
    "model.fit(train_x_df, y_train)"
   ]
  },
  {
   "cell_type": "code",
   "execution_count": 118,
   "id": "0c6856a7-44e5-4a7b-a3a4-8a399d071bdb",
   "metadata": {
    "tags": []
   },
   "outputs": [
    {
     "name": "stdout",
     "output_type": "stream",
     "text": [
      "[1]\n",
      "[1]\n",
      "[0]\n"
     ]
    }
   ],
   "source": [
    "# Testeamos el modelo\n",
    "print(model.predict(tfidf.transform(['A good movie']).toarray()))\n",
    "print(model.predict(tfidf.transform(['An excellent movie']).toarray()))\n",
    "print(model.predict(tfidf.transform(['I did not like this movie at all I gave this movie away']).toarray()))"
   ]
  },
  {
   "cell_type": "code",
   "execution_count": 119,
   "id": "eef1815e",
   "metadata": {},
   "outputs": [
    {
     "name": "stdout",
     "output_type": "stream",
     "text": [
      "[0]\n"
     ]
    }
   ],
   "source": [
    "print(model.predict(tfidf.transform(['This was a bad movie']).toarray()))"
   ]
  },
  {
   "cell_type": "markdown",
   "id": "ed5e561e-974e-4d5a-a054-19e71122d1e4",
   "metadata": {
    "tags": []
   },
   "source": [
    "## Evaluación modelo"
   ]
  },
  {
   "cell_type": "code",
   "execution_count": 127,
   "id": "cc231f73-0b62-42ac-b326-6c09369ec887",
   "metadata": {},
   "outputs": [
    {
     "name": "stdout",
     "output_type": "stream",
     "text": [
      "0.8525\n",
      "0.8525\n",
      "0.8525\n"
     ]
    }
   ],
   "source": [
    "print(model.score(test_x_vector, y_test))\n",
    "print(model.score(test_x_vector, y_test))\n",
    "print(model.score(test_x_vector, y_test))"
   ]
  },
  {
   "cell_type": "code",
   "execution_count": 130,
   "id": "34b41e3b-b8dd-4114-b2eb-a24297b610c7",
   "metadata": {
    "tags": []
   },
   "outputs": [
    {
     "name": "stdout",
     "output_type": "stream",
     "text": [
      "[1 0 1 1 1 1 0 1 0 0 0 0 0 1 1 1 0 0 1 1 0 1 1 1 0 0 1 1 0 0 0 0 0 0 0 0 0\n",
      " 1 1 0 0 1 0 0 1 0 0 0 0 1 1 0 1 1 1 1 1 0 1 1 1 0 1 1 1 1 0 0 0 1 1 0 1 1\n",
      " 0 0 1 0 0 1 0 0 1 1 1 1 1 1 1 1 0 1 0 0 1 1 0 1 1 1 1 0 0 1 0 0 0 0 0 0 0\n",
      " 1 1 1 1 0 1 0 0 1 1 1 1 0 0 1 0 0 1 0 1 0 0 0 0 1 1 1 1 1 0 0 1 0 1 0 0 1\n",
      " 1 0 1 0 0 1 0 0 1 1 0 1 0 0 1 1 1 1 1 1 1 1 1 0 1 0 0 1 0 1 0 1 1 0 1 1 0\n",
      " 1 1 1 0 1 0 0 1 0 0 0 1 0 0 1 1 1 0 0 0 1 1 1 1 0 1 0 0 0 0 0 1 0 0 1 0 0\n",
      " 0 0 1 1 0 0 1 0 1 0 1 1 1 1 1 0 1 1 0 1 0 0 1 1 0 0 0 0 1 1 1 0 1 1 0 0 1\n",
      " 1 1 1 0 1 1 1 1 1 0 0 0 1 0 1 1 1 0 0 1 0 1 1 1 1 1 0 0 0 0 0 1 1 1 1 0 0\n",
      " 0 1 1 0 0 0 1 1 0 1 1 1 0 0 1 1 1 0 1 1 1 1 0 1 0 0 0 0 0 0 1 0 1 0 0 0 1\n",
      " 0 0 1 0 1 1 0 1 0 1 0 0 1 0 1 0 0 0 0 1 1 0 0 1 1 1 1 0 0 0 1 1 0 1 0 1 1\n",
      " 1 1 1 1 1 1 0 1 1 1 1 0 0 0 1 0 0 1 0 1 1 1 0 0 1 0 1 1 0 0]\n"
     ]
    }
   ],
   "source": [
    "# Nos quedamos con el mejor modelo y obtenemos sus métricas\n",
    "\n",
    "y_pred_test = model.predict(test_x_vector)\n",
    "print(y_pred_test)"
   ]
  },
  {
   "cell_type": "code",
   "execution_count": 131,
   "id": "16023b0d-fa11-457c-b803-aada6d6516cd",
   "metadata": {},
   "outputs": [
    {
     "name": "stdout",
     "output_type": "stream",
     "text": [
      "[[165  34]\n",
      " [ 25 176]]\n"
     ]
    }
   ],
   "source": [
    "# 10) Evaluación del modelo sobre el conjunto de test\n",
    "print(metrics.confusion_matrix(y_test, y_pred_test))"
   ]
  },
  {
   "cell_type": "code",
   "execution_count": null,
   "id": "2e1deed1",
   "metadata": {},
   "outputs": [],
   "source": []
  }
 ],
 "metadata": {
  "kernelspec": {
   "display_name": "Python 3 (ipykernel)",
   "language": "python",
   "name": "python3"
  },
  "language_info": {
   "codemirror_mode": {
    "name": "ipython",
    "version": 3
   },
   "file_extension": ".py",
   "mimetype": "text/x-python",
   "name": "python",
   "nbconvert_exporter": "python",
   "pygments_lexer": "ipython3",
   "version": "3.10.9"
  }
 },
 "nbformat": 4,
 "nbformat_minor": 5
}
