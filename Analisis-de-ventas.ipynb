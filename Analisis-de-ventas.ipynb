{
 "cells": [
  {
   "cell_type": "markdown",
   "id": "41154291-76ee-416d-8106-9d47c52b272f",
   "metadata": {
    "id": "41154291-76ee-416d-8106-9d47c52b272f"
   },
   "source": [
    "# Análisis de ventas\n",
    "\n",
    "Se facilita una lista de `dict` con datos reales de ventas con las siguientes keys:\n",
    "\n",
    "* 'Order ID'\n",
    "* 'Product'\n",
    "* 'Quantity Ordered'\n",
    "* 'Price Each\n",
    "* 'Order Date'\n",
    "* 'Purchase Address'\n",
    "\n",
    "y values de tipo `str` en todos los casos:"
   ]
  },
  {
   "cell_type": "code",
   "execution_count": 1,
   "id": "40827859",
   "metadata": {},
   "outputs": [
    {
     "name": "stdout",
     "output_type": "stream",
     "text": [
      "Note: you may need to restart the kernel to use updated packages.\n",
      "Collecting pickle5\n",
      "  Downloading pickle5-0.0.11.tar.gz (132 kB)\n",
      "     -------------------------------------- 132.1/132.1 kB 3.9 MB/s eta 0:00:00\n",
      "  Preparing metadata (setup.py): started\n",
      "  Preparing metadata (setup.py): finished with status 'done'\n",
      "Building wheels for collected packages: pickle5\n",
      "  Building wheel for pickle5 (setup.py): started\n",
      "  Building wheel for pickle5 (setup.py): finished with status 'error'\n",
      "  Running setup.py clean for pickle5\n",
      "Failed to build pickle5\n",
      "Installing collected packages: pickle5\n",
      "  Running setup.py install for pickle5: started\n",
      "  Running setup.py install for pickle5: finished with status 'error'\n"
     ]
    },
    {
     "name": "stderr",
     "output_type": "stream",
     "text": [
      "  error: subprocess-exited-with-error\n",
      "  \n",
      "  × python setup.py bdist_wheel did not run successfully.\n",
      "  │ exit code: 1\n",
      "  ╰─> [17 lines of output]\n",
      "      running bdist_wheel\n",
      "      running build\n",
      "      running build_py\n",
      "      creating build\n",
      "      creating build\\lib.win-amd64-cpython-310\n",
      "      creating build\\lib.win-amd64-cpython-310\\pickle5\n",
      "      copying pickle5\\pickle.py -> build\\lib.win-amd64-cpython-310\\pickle5\n",
      "      copying pickle5\\pickletools.py -> build\\lib.win-amd64-cpython-310\\pickle5\n",
      "      copying pickle5\\__init__.py -> build\\lib.win-amd64-cpython-310\\pickle5\n",
      "      creating build\\lib.win-amd64-cpython-310\\pickle5\\test\n",
      "      copying pickle5\\test\\pickletester.py -> build\\lib.win-amd64-cpython-310\\pickle5\\test\n",
      "      copying pickle5\\test\\test_pickle.py -> build\\lib.win-amd64-cpython-310\\pickle5\\test\n",
      "      copying pickle5\\test\\test_picklebuffer.py -> build\\lib.win-amd64-cpython-310\\pickle5\\test\n",
      "      copying pickle5\\test\\__init__.py -> build\\lib.win-amd64-cpython-310\\pickle5\\test\n",
      "      running build_ext\n",
      "      building 'pickle5._pickle' extension\n",
      "      error: Microsoft Visual C++ 14.0 or greater is required. Get it with \"Microsoft C++ Build Tools\": https://visualstudio.microsoft.com/visual-cpp-build-tools/\n",
      "      [end of output]\n",
      "  \n",
      "  note: This error originates from a subprocess, and is likely not a problem with pip.\n",
      "  ERROR: Failed building wheel for pickle5\n",
      "  error: subprocess-exited-with-error\n",
      "  \n",
      "  × Running setup.py install for pickle5 did not run successfully.\n",
      "  │ exit code: 1\n",
      "  ╰─> [19 lines of output]\n",
      "      running install\n",
      "      c:\\Users\\mati_\\anaconda3\\lib\\site-packages\\setuptools\\command\\install.py:34: SetuptoolsDeprecationWarning: setup.py install is deprecated. Use build and pip and other standards-based tools.\n",
      "        warnings.warn(\n",
      "      running build\n",
      "      running build_py\n",
      "      creating build\n",
      "      creating build\\lib.win-amd64-cpython-310\n",
      "      creating build\\lib.win-amd64-cpython-310\\pickle5\n",
      "      copying pickle5\\pickle.py -> build\\lib.win-amd64-cpython-310\\pickle5\n",
      "      copying pickle5\\pickletools.py -> build\\lib.win-amd64-cpython-310\\pickle5\n",
      "      copying pickle5\\__init__.py -> build\\lib.win-amd64-cpython-310\\pickle5\n",
      "      creating build\\lib.win-amd64-cpython-310\\pickle5\\test\n",
      "      copying pickle5\\test\\pickletester.py -> build\\lib.win-amd64-cpython-310\\pickle5\\test\n",
      "      copying pickle5\\test\\test_pickle.py -> build\\lib.win-amd64-cpython-310\\pickle5\\test\n",
      "      copying pickle5\\test\\test_picklebuffer.py -> build\\lib.win-amd64-cpython-310\\pickle5\\test\n",
      "      copying pickle5\\test\\__init__.py -> build\\lib.win-amd64-cpython-310\\pickle5\\test\n",
      "      running build_ext\n",
      "      building 'pickle5._pickle' extension\n",
      "      error: Microsoft Visual C++ 14.0 or greater is required. Get it with \"Microsoft C++ Build Tools\": https://visualstudio.microsoft.com/visual-cpp-build-tools/\n",
      "      [end of output]\n",
      "  \n",
      "  note: This error originates from a subprocess, and is likely not a problem with pip.\n",
      "error: legacy-install-failure\n",
      "\n",
      "× Encountered error while trying to install package.\n",
      "╰─> pickle5\n",
      "\n",
      "note: This is an issue with the package mentioned above, not pip.\n",
      "hint: See above for output from the failure.\n"
     ]
    }
   ],
   "source": [
    "%pip install pickle5\n",
    "import pickle"
   ]
  },
  {
   "cell_type": "code",
   "execution_count": 2,
   "id": "b5d05795-bd04-427e-b8f4-004b9b52f160",
   "metadata": {
    "id": "b5d05795-bd04-427e-b8f4-004b9b52f160"
   },
   "outputs": [],
   "source": [
    "with open('sales_data.pickle', 'rb') as handle:\n",
    "    sales_data = pickle.load(handle)"
   ]
  },
  {
   "cell_type": "code",
   "execution_count": 14,
   "id": "fe09fbc0",
   "metadata": {},
   "outputs": [],
   "source": [
    "import pandas as pd\n",
    "import numpy as np"
   ]
  },
  {
   "cell_type": "markdown",
   "id": "bd775d37-d9b6-457f-acf3-6cf561dbc27f",
   "metadata": {
    "id": "bd775d37-d9b6-457f-acf3-6cf561dbc27f"
   },
   "source": [
    "Responder los siguientes interrogantes de interés, para lo que se requiere:\n",
    "\n",
    "* Inspeccionar los datos\n",
    "* Formatearlos adecuadamente\n",
    "* Elegir y confeccionar nuevas estructuras de datos"
   ]
  },
  {
   "cell_type": "code",
   "execution_count": 3,
   "id": "da1dafe7",
   "metadata": {},
   "outputs": [
    {
     "data": {
      "text/plain": [
       "[{'Order ID': '209921',\n",
       "  'Product': 'USB-C Charging Cable',\n",
       "  'Quantity Ordered': '1',\n",
       "  'Price Each': '11.95',\n",
       "  'Order Date': '06/23/19 19:34',\n",
       "  'Purchase Address': '950 Walnut St, Portland, ME 04101'}]"
      ]
     },
     "execution_count": 3,
     "metadata": {},
     "output_type": "execute_result"
    }
   ],
   "source": [
    "sales_data[0:1]"
   ]
  },
  {
   "cell_type": "code",
   "execution_count": 7,
   "id": "cc32c993",
   "metadata": {},
   "outputs": [
    {
     "data": {
      "text/html": [
       "<div>\n",
       "<style scoped>\n",
       "    .dataframe tbody tr th:only-of-type {\n",
       "        vertical-align: middle;\n",
       "    }\n",
       "\n",
       "    .dataframe tbody tr th {\n",
       "        vertical-align: top;\n",
       "    }\n",
       "\n",
       "    .dataframe thead th {\n",
       "        text-align: right;\n",
       "    }\n",
       "</style>\n",
       "<table border=\"1\" class=\"dataframe\">\n",
       "  <thead>\n",
       "    <tr style=\"text-align: right;\">\n",
       "      <th></th>\n",
       "      <th>Order ID</th>\n",
       "      <th>Product</th>\n",
       "      <th>Quantity Ordered</th>\n",
       "      <th>Price Each</th>\n",
       "      <th>Order Date</th>\n",
       "      <th>Purchase Address</th>\n",
       "    </tr>\n",
       "  </thead>\n",
       "  <tbody>\n",
       "    <tr>\n",
       "      <th>0</th>\n",
       "      <td>209921</td>\n",
       "      <td>USB-C Charging Cable</td>\n",
       "      <td>1</td>\n",
       "      <td>11.95</td>\n",
       "      <td>06/23/19 19:34</td>\n",
       "      <td>950 Walnut St, Portland, ME 04101</td>\n",
       "    </tr>\n",
       "    <tr>\n",
       "      <th>1</th>\n",
       "      <td>209922</td>\n",
       "      <td>Macbook Pro Laptop</td>\n",
       "      <td>1</td>\n",
       "      <td>1700.0</td>\n",
       "      <td>06/30/19 10:05</td>\n",
       "      <td>80 4th St, San Francisco, CA 94016</td>\n",
       "    </tr>\n",
       "    <tr>\n",
       "      <th>2</th>\n",
       "      <td>209923</td>\n",
       "      <td>ThinkPad Laptop</td>\n",
       "      <td>1</td>\n",
       "      <td>999.99</td>\n",
       "      <td>06/24/19 20:18</td>\n",
       "      <td>402 Jackson St, Los Angeles, CA 90001</td>\n",
       "    </tr>\n",
       "    <tr>\n",
       "      <th>3</th>\n",
       "      <td>209924</td>\n",
       "      <td>27in FHD Monitor</td>\n",
       "      <td>1</td>\n",
       "      <td>149.99</td>\n",
       "      <td>06/05/19 10:21</td>\n",
       "      <td>560 10th St, Seattle, WA 98101</td>\n",
       "    </tr>\n",
       "    <tr>\n",
       "      <th>4</th>\n",
       "      <td>209925</td>\n",
       "      <td>Bose SoundSport Headphones</td>\n",
       "      <td>1</td>\n",
       "      <td>99.99</td>\n",
       "      <td>06/25/19 18:58</td>\n",
       "      <td>545 2nd St, San Francisco, CA 94016</td>\n",
       "    </tr>\n",
       "    <tr>\n",
       "      <th>...</th>\n",
       "      <td>...</td>\n",
       "      <td>...</td>\n",
       "      <td>...</td>\n",
       "      <td>...</td>\n",
       "      <td>...</td>\n",
       "      <td>...</td>\n",
       "    </tr>\n",
       "    <tr>\n",
       "      <th>185945</th>\n",
       "      <td>236665</td>\n",
       "      <td>Wired Headphones</td>\n",
       "      <td>1</td>\n",
       "      <td>11.99</td>\n",
       "      <td>07/20/19 16:16</td>\n",
       "      <td>694 Meadow St, Atlanta, GA 30301</td>\n",
       "    </tr>\n",
       "    <tr>\n",
       "      <th>185946</th>\n",
       "      <td>236666</td>\n",
       "      <td>20in Monitor</td>\n",
       "      <td>1</td>\n",
       "      <td>109.99</td>\n",
       "      <td>07/31/19 20:11</td>\n",
       "      <td>866 14th St, San Francisco, CA 94016</td>\n",
       "    </tr>\n",
       "    <tr>\n",
       "      <th>185947</th>\n",
       "      <td>236667</td>\n",
       "      <td>AAA Batteries (4-pack)</td>\n",
       "      <td>1</td>\n",
       "      <td>2.99</td>\n",
       "      <td>07/17/19 22:29</td>\n",
       "      <td>249 Cherry St, Dallas, TX 75001</td>\n",
       "    </tr>\n",
       "    <tr>\n",
       "      <th>185948</th>\n",
       "      <td>236668</td>\n",
       "      <td>Wired Headphones</td>\n",
       "      <td>1</td>\n",
       "      <td>11.99</td>\n",
       "      <td>07/30/19 19:28</td>\n",
       "      <td>727 Wilson St, Austin, TX 73301</td>\n",
       "    </tr>\n",
       "    <tr>\n",
       "      <th>185949</th>\n",
       "      <td>236669</td>\n",
       "      <td>AAA Batteries (4-pack)</td>\n",
       "      <td>1</td>\n",
       "      <td>2.99</td>\n",
       "      <td>07/10/19 01:50</td>\n",
       "      <td>743 9th St, New York City, NY 10001</td>\n",
       "    </tr>\n",
       "  </tbody>\n",
       "</table>\n",
       "<p>185950 rows × 6 columns</p>\n",
       "</div>"
      ],
      "text/plain": [
       "       Order ID                     Product Quantity Ordered Price Each  \\\n",
       "0        209921        USB-C Charging Cable                1      11.95   \n",
       "1        209922          Macbook Pro Laptop                1     1700.0   \n",
       "2        209923             ThinkPad Laptop                1     999.99   \n",
       "3        209924            27in FHD Monitor                1     149.99   \n",
       "4        209925  Bose SoundSport Headphones                1      99.99   \n",
       "...         ...                         ...              ...        ...   \n",
       "185945   236665            Wired Headphones                1      11.99   \n",
       "185946   236666                20in Monitor                1     109.99   \n",
       "185947   236667      AAA Batteries (4-pack)                1       2.99   \n",
       "185948   236668            Wired Headphones                1      11.99   \n",
       "185949   236669      AAA Batteries (4-pack)                1       2.99   \n",
       "\n",
       "            Order Date                       Purchase Address  \n",
       "0       06/23/19 19:34      950 Walnut St, Portland, ME 04101  \n",
       "1       06/30/19 10:05     80 4th St, San Francisco, CA 94016  \n",
       "2       06/24/19 20:18  402 Jackson St, Los Angeles, CA 90001  \n",
       "3       06/05/19 10:21         560 10th St, Seattle, WA 98101  \n",
       "4       06/25/19 18:58    545 2nd St, San Francisco, CA 94016  \n",
       "...                ...                                    ...  \n",
       "185945  07/20/19 16:16       694 Meadow St, Atlanta, GA 30301  \n",
       "185946  07/31/19 20:11   866 14th St, San Francisco, CA 94016  \n",
       "185947  07/17/19 22:29        249 Cherry St, Dallas, TX 75001  \n",
       "185948  07/30/19 19:28        727 Wilson St, Austin, TX 73301  \n",
       "185949  07/10/19 01:50    743 9th St, New York City, NY 10001  \n",
       "\n",
       "[185950 rows x 6 columns]"
      ]
     },
     "execution_count": 7,
     "metadata": {},
     "output_type": "execute_result"
    }
   ],
   "source": [
    "df=pd.DataFrame(sales_data)\n",
    "df"
   ]
  },
  {
   "cell_type": "code",
   "execution_count": 17,
   "id": "2cea0b97",
   "metadata": {},
   "outputs": [],
   "source": [
    "df['Order Date']=pd.to_datetime(df['Order Date'])"
   ]
  },
  {
   "cell_type": "code",
   "execution_count": 18,
   "id": "be285401",
   "metadata": {},
   "outputs": [
    {
     "data": {
      "text/html": [
       "<div>\n",
       "<style scoped>\n",
       "    .dataframe tbody tr th:only-of-type {\n",
       "        vertical-align: middle;\n",
       "    }\n",
       "\n",
       "    .dataframe tbody tr th {\n",
       "        vertical-align: top;\n",
       "    }\n",
       "\n",
       "    .dataframe thead th {\n",
       "        text-align: right;\n",
       "    }\n",
       "</style>\n",
       "<table border=\"1\" class=\"dataframe\">\n",
       "  <thead>\n",
       "    <tr style=\"text-align: right;\">\n",
       "      <th></th>\n",
       "      <th>Order ID</th>\n",
       "      <th>Product</th>\n",
       "      <th>Quantity Ordered</th>\n",
       "      <th>Price Each</th>\n",
       "      <th>Order Date</th>\n",
       "      <th>Purchase Address</th>\n",
       "    </tr>\n",
       "  </thead>\n",
       "  <tbody>\n",
       "    <tr>\n",
       "      <th>0</th>\n",
       "      <td>209921</td>\n",
       "      <td>USB-C Charging Cable</td>\n",
       "      <td>1</td>\n",
       "      <td>11.95</td>\n",
       "      <td>2019-06-23 19:34:00</td>\n",
       "      <td>950 Walnut St, Portland, ME 04101</td>\n",
       "    </tr>\n",
       "    <tr>\n",
       "      <th>1</th>\n",
       "      <td>209922</td>\n",
       "      <td>Macbook Pro Laptop</td>\n",
       "      <td>1</td>\n",
       "      <td>1700.0</td>\n",
       "      <td>2019-06-30 10:05:00</td>\n",
       "      <td>80 4th St, San Francisco, CA 94016</td>\n",
       "    </tr>\n",
       "    <tr>\n",
       "      <th>2</th>\n",
       "      <td>209923</td>\n",
       "      <td>ThinkPad Laptop</td>\n",
       "      <td>1</td>\n",
       "      <td>999.99</td>\n",
       "      <td>2019-06-24 20:18:00</td>\n",
       "      <td>402 Jackson St, Los Angeles, CA 90001</td>\n",
       "    </tr>\n",
       "    <tr>\n",
       "      <th>3</th>\n",
       "      <td>209924</td>\n",
       "      <td>27in FHD Monitor</td>\n",
       "      <td>1</td>\n",
       "      <td>149.99</td>\n",
       "      <td>2019-06-05 10:21:00</td>\n",
       "      <td>560 10th St, Seattle, WA 98101</td>\n",
       "    </tr>\n",
       "    <tr>\n",
       "      <th>4</th>\n",
       "      <td>209925</td>\n",
       "      <td>Bose SoundSport Headphones</td>\n",
       "      <td>1</td>\n",
       "      <td>99.99</td>\n",
       "      <td>2019-06-25 18:58:00</td>\n",
       "      <td>545 2nd St, San Francisco, CA 94016</td>\n",
       "    </tr>\n",
       "    <tr>\n",
       "      <th>...</th>\n",
       "      <td>...</td>\n",
       "      <td>...</td>\n",
       "      <td>...</td>\n",
       "      <td>...</td>\n",
       "      <td>...</td>\n",
       "      <td>...</td>\n",
       "    </tr>\n",
       "    <tr>\n",
       "      <th>185945</th>\n",
       "      <td>236665</td>\n",
       "      <td>Wired Headphones</td>\n",
       "      <td>1</td>\n",
       "      <td>11.99</td>\n",
       "      <td>2019-07-20 16:16:00</td>\n",
       "      <td>694 Meadow St, Atlanta, GA 30301</td>\n",
       "    </tr>\n",
       "    <tr>\n",
       "      <th>185946</th>\n",
       "      <td>236666</td>\n",
       "      <td>20in Monitor</td>\n",
       "      <td>1</td>\n",
       "      <td>109.99</td>\n",
       "      <td>2019-07-31 20:11:00</td>\n",
       "      <td>866 14th St, San Francisco, CA 94016</td>\n",
       "    </tr>\n",
       "    <tr>\n",
       "      <th>185947</th>\n",
       "      <td>236667</td>\n",
       "      <td>AAA Batteries (4-pack)</td>\n",
       "      <td>1</td>\n",
       "      <td>2.99</td>\n",
       "      <td>2019-07-17 22:29:00</td>\n",
       "      <td>249 Cherry St, Dallas, TX 75001</td>\n",
       "    </tr>\n",
       "    <tr>\n",
       "      <th>185948</th>\n",
       "      <td>236668</td>\n",
       "      <td>Wired Headphones</td>\n",
       "      <td>1</td>\n",
       "      <td>11.99</td>\n",
       "      <td>2019-07-30 19:28:00</td>\n",
       "      <td>727 Wilson St, Austin, TX 73301</td>\n",
       "    </tr>\n",
       "    <tr>\n",
       "      <th>185949</th>\n",
       "      <td>236669</td>\n",
       "      <td>AAA Batteries (4-pack)</td>\n",
       "      <td>1</td>\n",
       "      <td>2.99</td>\n",
       "      <td>2019-07-10 01:50:00</td>\n",
       "      <td>743 9th St, New York City, NY 10001</td>\n",
       "    </tr>\n",
       "  </tbody>\n",
       "</table>\n",
       "<p>185950 rows × 6 columns</p>\n",
       "</div>"
      ],
      "text/plain": [
       "       Order ID                     Product Quantity Ordered Price Each  \\\n",
       "0        209921        USB-C Charging Cable                1      11.95   \n",
       "1        209922          Macbook Pro Laptop                1     1700.0   \n",
       "2        209923             ThinkPad Laptop                1     999.99   \n",
       "3        209924            27in FHD Monitor                1     149.99   \n",
       "4        209925  Bose SoundSport Headphones                1      99.99   \n",
       "...         ...                         ...              ...        ...   \n",
       "185945   236665            Wired Headphones                1      11.99   \n",
       "185946   236666                20in Monitor                1     109.99   \n",
       "185947   236667      AAA Batteries (4-pack)                1       2.99   \n",
       "185948   236668            Wired Headphones                1      11.99   \n",
       "185949   236669      AAA Batteries (4-pack)                1       2.99   \n",
       "\n",
       "                Order Date                       Purchase Address  \n",
       "0      2019-06-23 19:34:00      950 Walnut St, Portland, ME 04101  \n",
       "1      2019-06-30 10:05:00     80 4th St, San Francisco, CA 94016  \n",
       "2      2019-06-24 20:18:00  402 Jackson St, Los Angeles, CA 90001  \n",
       "3      2019-06-05 10:21:00         560 10th St, Seattle, WA 98101  \n",
       "4      2019-06-25 18:58:00    545 2nd St, San Francisco, CA 94016  \n",
       "...                    ...                                    ...  \n",
       "185945 2019-07-20 16:16:00       694 Meadow St, Atlanta, GA 30301  \n",
       "185946 2019-07-31 20:11:00   866 14th St, San Francisco, CA 94016  \n",
       "185947 2019-07-17 22:29:00        249 Cherry St, Dallas, TX 75001  \n",
       "185948 2019-07-30 19:28:00        727 Wilson St, Austin, TX 73301  \n",
       "185949 2019-07-10 01:50:00    743 9th St, New York City, NY 10001  \n",
       "\n",
       "[185950 rows x 6 columns]"
      ]
     },
     "execution_count": 18,
     "metadata": {},
     "output_type": "execute_result"
    }
   ],
   "source": [
    "df"
   ]
  },
  {
   "cell_type": "code",
   "execution_count": 46,
   "id": "25c012ea",
   "metadata": {},
   "outputs": [
    {
     "data": {
      "text/html": [
       "<div>\n",
       "<style scoped>\n",
       "    .dataframe tbody tr th:only-of-type {\n",
       "        vertical-align: middle;\n",
       "    }\n",
       "\n",
       "    .dataframe tbody tr th {\n",
       "        vertical-align: top;\n",
       "    }\n",
       "\n",
       "    .dataframe thead th {\n",
       "        text-align: right;\n",
       "    }\n",
       "</style>\n",
       "<table border=\"1\" class=\"dataframe\">\n",
       "  <thead>\n",
       "    <tr style=\"text-align: right;\">\n",
       "      <th></th>\n",
       "      <th>year</th>\n",
       "      <th>month</th>\n",
       "      <th>day</th>\n",
       "      <th>hour</th>\n",
       "      <th>Quantity Ordered</th>\n",
       "    </tr>\n",
       "  </thead>\n",
       "  <tbody>\n",
       "    <tr>\n",
       "      <th>0</th>\n",
       "      <td>2019</td>\n",
       "      <td>6</td>\n",
       "      <td>23</td>\n",
       "      <td>19</td>\n",
       "      <td>1</td>\n",
       "    </tr>\n",
       "    <tr>\n",
       "      <th>1</th>\n",
       "      <td>2019</td>\n",
       "      <td>6</td>\n",
       "      <td>30</td>\n",
       "      <td>10</td>\n",
       "      <td>1</td>\n",
       "    </tr>\n",
       "    <tr>\n",
       "      <th>2</th>\n",
       "      <td>2019</td>\n",
       "      <td>6</td>\n",
       "      <td>24</td>\n",
       "      <td>20</td>\n",
       "      <td>1</td>\n",
       "    </tr>\n",
       "    <tr>\n",
       "      <th>3</th>\n",
       "      <td>2019</td>\n",
       "      <td>6</td>\n",
       "      <td>5</td>\n",
       "      <td>10</td>\n",
       "      <td>1</td>\n",
       "    </tr>\n",
       "    <tr>\n",
       "      <th>4</th>\n",
       "      <td>2019</td>\n",
       "      <td>6</td>\n",
       "      <td>25</td>\n",
       "      <td>18</td>\n",
       "      <td>1</td>\n",
       "    </tr>\n",
       "    <tr>\n",
       "      <th>...</th>\n",
       "      <td>...</td>\n",
       "      <td>...</td>\n",
       "      <td>...</td>\n",
       "      <td>...</td>\n",
       "      <td>...</td>\n",
       "    </tr>\n",
       "    <tr>\n",
       "      <th>185945</th>\n",
       "      <td>2019</td>\n",
       "      <td>7</td>\n",
       "      <td>20</td>\n",
       "      <td>16</td>\n",
       "      <td>1</td>\n",
       "    </tr>\n",
       "    <tr>\n",
       "      <th>185946</th>\n",
       "      <td>2019</td>\n",
       "      <td>7</td>\n",
       "      <td>31</td>\n",
       "      <td>20</td>\n",
       "      <td>1</td>\n",
       "    </tr>\n",
       "    <tr>\n",
       "      <th>185947</th>\n",
       "      <td>2019</td>\n",
       "      <td>7</td>\n",
       "      <td>17</td>\n",
       "      <td>22</td>\n",
       "      <td>1</td>\n",
       "    </tr>\n",
       "    <tr>\n",
       "      <th>185948</th>\n",
       "      <td>2019</td>\n",
       "      <td>7</td>\n",
       "      <td>30</td>\n",
       "      <td>19</td>\n",
       "      <td>1</td>\n",
       "    </tr>\n",
       "    <tr>\n",
       "      <th>185949</th>\n",
       "      <td>2019</td>\n",
       "      <td>7</td>\n",
       "      <td>10</td>\n",
       "      <td>1</td>\n",
       "      <td>1</td>\n",
       "    </tr>\n",
       "  </tbody>\n",
       "</table>\n",
       "<p>185950 rows × 5 columns</p>\n",
       "</div>"
      ],
      "text/plain": [
       "        year  month  day  hour Quantity Ordered\n",
       "0       2019      6   23    19                1\n",
       "1       2019      6   30    10                1\n",
       "2       2019      6   24    20                1\n",
       "3       2019      6    5    10                1\n",
       "4       2019      6   25    18                1\n",
       "...      ...    ...  ...   ...              ...\n",
       "185945  2019      7   20    16                1\n",
       "185946  2019      7   31    20                1\n",
       "185947  2019      7   17    22                1\n",
       "185948  2019      7   30    19                1\n",
       "185949  2019      7   10     1                1\n",
       "\n",
       "[185950 rows x 5 columns]"
      ]
     },
     "execution_count": 46,
     "metadata": {},
     "output_type": "execute_result"
    }
   ],
   "source": [
    "new_df = pd.DataFrame({\"year\": df['Order Date'].dt.year,\n",
    "            \"month\": df['Order Date'].dt.month,\n",
    "            \"day\": df['Order Date'].dt.day,\n",
    "            \"hour\": df['Order Date'].dt.hour,})\n",
    "new_df[\"Quantity Ordered\"]=df['Quantity Ordered']\n",
    "new_df"
   ]
  },
  {
   "cell_type": "code",
   "execution_count": 48,
   "id": "46fb9aa9",
   "metadata": {},
   "outputs": [
    {
     "name": "stdout",
     "output_type": "stream",
     "text": [
      "<class 'pandas.core.frame.DataFrame'>\n",
      "RangeIndex: 185950 entries, 0 to 185949\n",
      "Data columns (total 5 columns):\n",
      " #   Column            Non-Null Count   Dtype \n",
      "---  ------            --------------   ----- \n",
      " 0   year              185950 non-null  int64 \n",
      " 1   month             185950 non-null  int64 \n",
      " 2   day               185950 non-null  int64 \n",
      " 3   hour              185950 non-null  int64 \n",
      " 4   Quantity Ordered  185950 non-null  object\n",
      "dtypes: int64(4), object(1)\n",
      "memory usage: 7.1+ MB\n"
     ]
    }
   ],
   "source": [
    "new_df.info()"
   ]
  },
  {
   "cell_type": "code",
   "execution_count": 42,
   "id": "7fa59232",
   "metadata": {},
   "outputs": [
    {
     "name": "stdout",
     "output_type": "stream",
     "text": [
      "<class 'pandas.core.frame.DataFrame'>\n",
      "RangeIndex: 185950 entries, 0 to 185949\n",
      "Data columns (total 6 columns):\n",
      " #   Column            Non-Null Count   Dtype         \n",
      "---  ------            --------------   -----         \n",
      " 0   Order ID          185950 non-null  object        \n",
      " 1   Product           185950 non-null  object        \n",
      " 2   Quantity Ordered  185950 non-null  object        \n",
      " 3   Price Each        185950 non-null  object        \n",
      " 4   Order Date        185950 non-null  datetime64[ns]\n",
      " 5   Purchase Address  185950 non-null  object        \n",
      "dtypes: datetime64[ns](1), object(5)\n",
      "memory usage: 8.5+ MB\n"
     ]
    }
   ],
   "source": [
    "df. info()"
   ]
  },
  {
   "cell_type": "markdown",
   "id": "65b001ce-12b7-4b6a-b5e0-f067307d5c3a",
   "metadata": {
    "id": "65b001ce-12b7-4b6a-b5e0-f067307d5c3a"
   },
   "source": [
    "**1)** ¿Cuál es el mes que reporta **la mayor cantidad de productos**?  \n",
    "*Se espera*: `El mes de mayor venta es: {Enero/Febrero/Marzo/Abril...}` *(nótese que se debe printear el nombre del mes)*"
   ]
  },
  {
   "cell_type": "code",
   "execution_count": 50,
   "id": "5fa31abf",
   "metadata": {},
   "outputs": [],
   "source": [
    "#transformar los datos de cuantity a int y ahi con eso los suma mes a mes\n",
    "enero=df.loc[df['Order Date'].dt.month == 1, 'Quantity Ordered'].sum()\n"
   ]
  },
  {
   "cell_type": "code",
   "execution_count": 53,
   "id": "433c5e98",
   "metadata": {},
   "outputs": [
    {
     "name": "stdout",
     "output_type": "stream",
     "text": [
      "<class 'pandas.core.frame.DataFrame'>\n",
      "RangeIndex: 185950 entries, 0 to 185949\n",
      "Data columns (total 5 columns):\n",
      " #   Column            Non-Null Count   Dtype\n",
      "---  ------            --------------   -----\n",
      " 0   year              185950 non-null  int64\n",
      " 1   month             185950 non-null  int64\n",
      " 2   day               185950 non-null  int64\n",
      " 3   hour              185950 non-null  int64\n",
      " 4   Quantity Ordered  185950 non-null  int64\n",
      "dtypes: int64(5)\n",
      "memory usage: 7.1 MB\n"
     ]
    }
   ],
   "source": [
    "\n",
    "#convierto mi columnas qo en int64\n",
    "new_df['Quantity Ordered']=new_df['Quantity Ordered'].astype('int64')\n",
    "new_df.info()\n"
   ]
  },
  {
   "cell_type": "code",
   "execution_count": 56,
   "id": "3ec4c0a0-4aec-4756-bf25-0a4e79242293",
   "metadata": {
    "id": "3ec4c0a0-4aec-4756-bf25-0a4e79242293"
   },
   "outputs": [
    {
     "data": {
      "text/plain": [
       "[10903,\n",
       " 13449,\n",
       " 17005,\n",
       " 20558,\n",
       " 18667,\n",
       " 15253,\n",
       " 16072,\n",
       " 13448,\n",
       " 13109,\n",
       " 22703,\n",
       " 19798,\n",
       " 28114]"
      ]
     },
     "execution_count": 56,
     "metadata": {},
     "output_type": "execute_result"
    }
   ],
   "source": [
    "lista=[]\n",
    "for i in [1,2,3,4,5,6,7,8,9,10,11,12]:\n",
    "    \n",
    "    lista.append(new_df.loc[new_df['month']== i, 'Quantity Ordered'].sum())\n",
    "lista\n"
   ]
  },
  {
   "cell_type": "code",
   "execution_count": 59,
   "id": "4f82b64c",
   "metadata": {},
   "outputs": [
    {
     "data": {
      "text/plain": [
       "28114"
      ]
     },
     "execution_count": 59,
     "metadata": {},
     "output_type": "execute_result"
    }
   ],
   "source": [
    "lista=np.array(lista)\n",
    "lista.max()"
   ]
  },
  {
   "cell_type": "code",
   "execution_count": 79,
   "id": "3a367ba0",
   "metadata": {},
   "outputs": [
    {
     "data": {
      "text/plain": [
       "{'enero': 10903,\n",
       " 'febrero': 13449,\n",
       " 'marzo': 17005,\n",
       " 'abril': 20558,\n",
       " 'mayo': 18667,\n",
       " 'junio': 15253,\n",
       " 'julio': 16072,\n",
       " 'agosto': 13448,\n",
       " 'setiembre': 13109,\n",
       " 'octubre': 22703,\n",
       " 'noviembre': 19798,\n",
       " 'diciembre': 28114}"
      ]
     },
     "execution_count": 79,
     "metadata": {},
     "output_type": "execute_result"
    }
   ],
   "source": [
    "dict2={meses:lista for (meses, lista) in zip(meses, lista)}\n",
    "dict2"
   ]
  },
  {
   "cell_type": "code",
   "execution_count": 63,
   "id": "ef38dc1b",
   "metadata": {},
   "outputs": [
    {
     "data": {
      "text/plain": [
       "{'enero': 10903,\n",
       " 'febrero': 13449,\n",
       " 'marzo': 17005,\n",
       " 'abril': 20558,\n",
       " 'mayo': 18667,\n",
       " 'junio': 15253,\n",
       " 'julio': 16072,\n",
       " 'agosto': 13448,\n",
       " 'setiembre': 13109,\n",
       " 'octubre': 22703,\n",
       " 'noviembre': 19798,\n",
       " 'diciembre': 28114}"
      ]
     },
     "execution_count": 63,
     "metadata": {},
     "output_type": "execute_result"
    }
   ],
   "source": [
    "dict={}\n",
    "meses=['enero', 'febrero', 'marzo', 'abril', 'mayo', 'junio', 'julio', 'agosto', 'setiembre', 'octubre', 'noviembre', 'diciembre']\n",
    "cont=0\n",
    "for mes in meses:\n",
    "    dict[mes]=lista[cont]\n",
    "    cont+=1\n",
    "dict"
   ]
  },
  {
   "cell_type": "code",
   "execution_count": 78,
   "id": "a612e291",
   "metadata": {},
   "outputs": [
    {
     "name": "stdout",
     "output_type": "stream",
     "text": [
      "El mes de mayor venta es diciembre y la cantidad de ventas fue 28114\n"
     ]
    }
   ],
   "source": [
    "dict.values()\n",
    "max(dict.values())\n",
    "\n",
    "for i in dict.keys():\n",
    "    if dict[i]== max(dict.values()):\n",
    "        print(f'El mes de mayor venta es {i} y la cantidad de ventas fue {max(dict.values())}')"
   ]
  },
  {
   "cell_type": "markdown",
   "id": "111cd58e-7c14-437c-9a58-d269504d3dc6",
   "metadata": {
    "id": "111cd58e-7c14-437c-9a58-d269504d3dc6"
   },
   "source": [
    "**2)** ¿Qué ganancia reporta dicho mes?  \n",
    "*Se espera*: `En el mes de {Enero/Febrero/Marzo/Abril...} se reporta una ganancia total de USD{xxxx.xx}` *(nótese que el monto debe incluir DOS decimales)*"
   ]
  },
  {
   "cell_type": "code",
   "execution_count": null,
   "id": "2f53650d-dcdf-40e0-b102-0091b7e153ee",
   "metadata": {
    "id": "2f53650d-dcdf-40e0-b102-0091b7e153ee"
   },
   "outputs": [],
   "source": [
    "for transforma in sales_data:\n",
    "    transforma['Price Each'] float(sales_data)\n",
    "\n",
    "Precio = transforma['Price Each']  \n",
    "Cantidad = transforma['Quantity Ordered']  \n",
    "Ganancia =  Precio * Cantidad"
   ]
  },
  {
   "cell_type": "markdown",
   "id": "f3eaeae9-19b6-4512-ba98-94f79613d3a5",
   "metadata": {
    "id": "f3eaeae9-19b6-4512-ba98-94f79613d3a5"
   },
   "source": [
    "**3)** ¿Qué porcentaje del total de las ventas representa el mes del ejercicio 1?  \n",
    "*Se espera*: `Las ventas en el mes de {Enero/Febrero/Marzo/Abril...} representan un xx.xx% del total de las ventas` *(nótese que el monto debe incluir DOS decimales)*"
   ]
  },
  {
   "cell_type": "code",
   "execution_count": null,
   "id": "6294a3f2-e381-479a-94a3-703282d429eb",
   "metadata": {
    "id": "6294a3f2-e381-479a-94a3-703282d429eb"
   },
   "outputs": [],
   "source": []
  },
  {
   "cell_type": "markdown",
   "id": "a123911e-0328-4600-9a7f-0753e79bbd6d",
   "metadata": {
    "id": "a123911e-0328-4600-9a7f-0753e79bbd6d"
   },
   "source": [
    "**4)** ¿Qué ciudad reportó la mayor cantidad de ventas?  \n",
    "*Se espera*: `La ciudad con mayor cantidad de ventas es {Dallas/Los Angeles/Boston...} reporta la mayor cantidad de ventas` *(nótese que se debe especificar la ciudad y no la dirección completa)*"
   ]
  },
  {
   "cell_type": "code",
   "execution_count": null,
   "id": "bef35c63-34ac-4113-b85b-98f218116560",
   "metadata": {
    "id": "bef35c63-34ac-4113-b85b-98f218116560"
   },
   "outputs": [],
   "source": []
  },
  {
   "cell_type": "markdown",
   "id": "7ff085be-3d8e-455b-a66b-c7e905f4c584",
   "metadata": {
    "id": "7ff085be-3d8e-455b-a66b-c7e905f4c584"
   },
   "source": [
    "**5)** ¿Qué porcentaje del total de las ventas representa?  \n",
    "*Se espera*: `Las ventas en {Dallas/Los Angeles/Boston...} representan un xx.xx% del total` *(nótese que se debe especificar la ciudad y no la dirección completa)*"
   ]
  },
  {
   "cell_type": "code",
   "execution_count": null,
   "id": "18ed8be8-2588-46b7-aaab-e78ca03c549e",
   "metadata": {
    "id": "18ed8be8-2588-46b7-aaab-e78ca03c549e"
   },
   "outputs": [],
   "source": []
  },
  {
   "cell_type": "markdown",
   "id": "a050f86b-2f8d-4473-94a2-29c52ff47a5f",
   "metadata": {
    "id": "a050f86b-2f8d-4473-94a2-29c52ff47a5f"
   },
   "source": [
    "**6)** ¿En qué horas del día se deberían publicar anuncios promocionales para maximizar las ventas?  \n",
    "*Se espera*: `Las horas del día en las que más ventas se registran son: {xx}hs y {yy}hs` *(nótese que se requieren horas del día, como \"10hs\" o \"20hs\")*"
   ]
  },
  {
   "cell_type": "code",
   "execution_count": null,
   "id": "d917acad-8db7-4725-ba74-a5ebd4af62fb",
   "metadata": {
    "id": "d917acad-8db7-4725-ba74-a5ebd4af62fb"
   },
   "outputs": [],
   "source": []
  },
  {
   "cell_type": "markdown",
   "id": "80af09de-5127-4d05-af12-717b72da09ab",
   "metadata": {
    "id": "80af09de-5127-4d05-af12-717b72da09ab"
   },
   "source": [
    "**7)** Determinar productos que se venden juntos y DE A DOS.  \n",
    "*Se espera*: `Los siguientes productos se venden juntos y de a dos: {x}-{y}, {yy}-{zz} ...`  \n",
    "**OBS**: Para una misma *orden* se pueden regitrar varios productos."
   ]
  },
  {
   "cell_type": "code",
   "execution_count": null,
   "id": "b2b1c6c9-5ce4-4285-bd55-675f47f930f9",
   "metadata": {
    "id": "b2b1c6c9-5ce4-4285-bd55-675f47f930f9"
   },
   "outputs": [],
   "source": []
  },
  {
   "cell_type": "markdown",
   "id": "b0ca1fe8-0635-43f8-af2b-cc93f65a0de9",
   "metadata": {
    "id": "b0ca1fe8-0635-43f8-af2b-cc93f65a0de9"
   },
   "source": [
    "**8)** ¿Cuál es el producto más vendido?\n",
    "*Se espera*: `El producto más vendido es {x}`"
   ]
  },
  {
   "cell_type": "code",
   "execution_count": null,
   "id": "95a83318-dd52-4db7-9c66-e079a59f5b57",
   "metadata": {
    "id": "95a83318-dd52-4db7-9c66-e079a59f5b57"
   },
   "outputs": [],
   "source": []
  },
  {
   "cell_type": "markdown",
   "id": "68b4e603-0b45-40df-8ae1-cf999dcd3cdc",
   "metadata": {
    "id": "68b4e603-0b45-40df-8ae1-cf999dcd3cdc"
   },
   "source": [
    "**9)** ¿Cuál es la relación entre el precio del producto más vendido y el del menos vendido?\n",
    "*Se espera:* `El precio del producto más vendido es {n} veces mayor/menor que el producto menos vendido`"
   ]
  },
  {
   "cell_type": "code",
   "execution_count": null,
   "id": "644db79a-3fbf-4802-b332-80a3b29f88f3",
   "metadata": {
    "id": "644db79a-3fbf-4802-b332-80a3b29f88f3"
   },
   "outputs": [],
   "source": []
  },
  {
   "cell_type": "markdown",
   "id": "acb2623e-cad1-46ed-a8ea-3ec0e650901e",
   "metadata": {
    "id": "acb2623e-cad1-46ed-a8ea-3ec0e650901e"
   },
   "source": [
    "**10)** ¿Cuál es la órden con mayor cantidad de productos?\n",
    "*Se espera*: `La órden con mayor cantidad de productos es la número {x}, con {y} productos en total`"
   ]
  },
  {
   "cell_type": "code",
   "execution_count": null,
   "id": "25df688f-02b5-4ba5-995c-8861aea7c43e",
   "metadata": {
    "id": "25df688f-02b5-4ba5-995c-8861aea7c43e"
   },
   "outputs": [],
   "source": []
  }
 ],
 "metadata": {
  "colab": {
   "collapsed_sections": [],
   "name": "5.1.analisis-de-ventas.ipynb",
   "provenance": []
  },
  "kernelspec": {
   "display_name": "Python 3.10.6 64-bit",
   "language": "python",
   "name": "python3"
  },
  "language_info": {
   "codemirror_mode": {
    "name": "ipython",
    "version": 3
   },
   "file_extension": ".py",
   "mimetype": "text/x-python",
   "name": "python",
   "nbconvert_exporter": "python",
   "pygments_lexer": "ipython3",
   "version": "3.11.4"
  },
  "toc": {
   "base_numbering": 1,
   "nav_menu": {},
   "number_sections": true,
   "sideBar": true,
   "skip_h1_title": false,
   "title_cell": "Table of Contents",
   "title_sidebar": "Contents",
   "toc_cell": false,
   "toc_position": {},
   "toc_section_display": true,
   "toc_window_display": false
  },
  "vscode": {
   "interpreter": {
    "hash": "f1efed72db2ccaa73ec5f4666924497a8a644cdf5b57283ddc69aa38a5cb523a"
   }
  }
 },
 "nbformat": 4,
 "nbformat_minor": 5
}
